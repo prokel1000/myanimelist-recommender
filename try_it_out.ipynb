{
  "nbformat": 4,
  "nbformat_minor": 0,
  "metadata": {
    "colab": {
      "name": "try_it_out.ipynb",
      "provenance": [],
      "collapsed_sections": [],
      "machine_shape": "hm",
      "mount_file_id": "1SdPi96IuaR8N2L4VQc_kXRuccNwSsP2u",
      "authorship_tag": "ABX9TyOnbt+WvLOu7lxrfcodZIp2",
      "include_colab_link": true
    },
    "kernelspec": {
      "name": "python3",
      "display_name": "Python 3"
    }
  },
  "cells": [
    {
      "cell_type": "markdown",
      "metadata": {
        "id": "view-in-github",
        "colab_type": "text"
      },
      "source": [
        "<a href=\"https://colab.research.google.com/github/robert-myers/myanimelist-recommender/blob/master/try_it_out.ipynb\" target=\"_parent\"><img src=\"https://colab.research.google.com/assets/colab-badge.svg\" alt=\"Open In Colab\"/></a>"
      ]
    },
    {
      "cell_type": "code",
      "metadata": {
        "id": "SekBkvMQHCBU",
        "colab_type": "code",
        "outputId": "22a92fe5-2070-4047-f747-381a94658c31",
        "colab": {
          "base_uri": "https://localhost:8080/",
          "height": 309
        }
      },
      "source": [
        "pip install surprise"
      ],
      "execution_count": 1,
      "outputs": [
        {
          "output_type": "stream",
          "text": [
            "Collecting surprise\n",
            "  Downloading https://files.pythonhosted.org/packages/61/de/e5cba8682201fcf9c3719a6fdda95693468ed061945493dea2dd37c5618b/surprise-0.1-py2.py3-none-any.whl\n",
            "Collecting scikit-surprise\n",
            "\u001b[?25l  Downloading https://files.pythonhosted.org/packages/f5/da/b5700d96495fb4f092be497f02492768a3d96a3f4fa2ae7dea46d4081cfa/scikit-surprise-1.1.0.tar.gz (6.4MB)\n",
            "\u001b[K     |████████████████████████████████| 6.5MB 2.9MB/s \n",
            "\u001b[?25hRequirement already satisfied: joblib>=0.11 in /usr/local/lib/python3.6/dist-packages (from scikit-surprise->surprise) (0.14.1)\n",
            "Requirement already satisfied: numpy>=1.11.2 in /usr/local/lib/python3.6/dist-packages (from scikit-surprise->surprise) (1.17.5)\n",
            "Requirement already satisfied: scipy>=1.0.0 in /usr/local/lib/python3.6/dist-packages (from scikit-surprise->surprise) (1.4.1)\n",
            "Requirement already satisfied: six>=1.10.0 in /usr/local/lib/python3.6/dist-packages (from scikit-surprise->surprise) (1.12.0)\n",
            "Building wheels for collected packages: scikit-surprise\n",
            "  Building wheel for scikit-surprise (setup.py) ... \u001b[?25l\u001b[?25hdone\n",
            "  Created wheel for scikit-surprise: filename=scikit_surprise-1.1.0-cp36-cp36m-linux_x86_64.whl size=1678235 sha256=4e472ed28bc65d27be8121d0ac77d03431cc1191ff0e06425c59a01b3ec69f15\n",
            "  Stored in directory: /root/.cache/pip/wheels/cc/fa/8c/16c93fccce688ae1bde7d979ff102f7bee980d9cfeb8641bcf\n",
            "Successfully built scikit-surprise\n",
            "Installing collected packages: scikit-surprise, surprise\n",
            "Successfully installed scikit-surprise-1.1.0 surprise-0.1\n"
          ],
          "name": "stdout"
        }
      ]
    },
    {
      "cell_type": "code",
      "metadata": {
        "id": "VW1C2Bq2ISRx",
        "colab_type": "code",
        "colab": {}
      },
      "source": [
        "import pandas as pd\n",
        "\n",
        "from surprise import accuracy\n",
        "from surprise.dump import load"
      ],
      "execution_count": 0,
      "outputs": []
    },
    {
      "cell_type": "code",
      "metadata": {
        "id": "80uvM_z-d-Dt",
        "colab_type": "code",
        "colab": {}
      },
      "source": [
        "users = pd.read_csv(\"https://s3.us-east-2.amazonaws.com/my.anime.list.sagemaker/myanimelist/UserList.csv\")\n",
        "users = users[[\"username\"]]\n",
        "users = users.dropna()\n",
        "users[\"lower\"] = users[\"username\"].apply(lambda x: x.lower())\n",
        "users = users.set_index(\"lower\")"
      ],
      "execution_count": 0,
      "outputs": []
    },
    {
      "cell_type": "code",
      "metadata": {
        "id": "y5V6BJPweDMJ",
        "colab_type": "code",
        "colab": {}
      },
      "source": [
        "users = dict(users.T)"
      ],
      "execution_count": 0,
      "outputs": []
    },
    {
      "cell_type": "code",
      "metadata": {
        "id": "yAOJ4VMoe8Ke",
        "colab_type": "code",
        "colab": {}
      },
      "source": [
        "def get_uid(username):\n",
        "  username = username.lower()\n",
        "  if username in users:\n",
        "    return users[username.lower()][0]\n",
        "  else:\n",
        "    return username"
      ],
      "execution_count": 0,
      "outputs": []
    },
    {
      "cell_type": "code",
      "metadata": {
        "id": "FKmnhFYVxX8X",
        "colab_type": "code",
        "colab": {
          "base_uri": "https://localhost:8080/",
          "height": 419
        },
        "outputId": "fa0547d3-8f82-475b-a79c-81a751515bef"
      },
      "source": [
        "anime = pd.read_csv(\"https://s3.us-east-2.amazonaws.com/my.anime.list.sagemaker/myanimelist/AnimeList.csv\", index_col=\"anime_id\")[[\"title\",\t\"image_url\"]]\n",
        "anime.reset_index()[[\"anime_id\"]]"
      ],
      "execution_count": 123,
      "outputs": [
        {
          "output_type": "execute_result",
          "data": {
            "text/html": [
              "<div>\n",
              "<style scoped>\n",
              "    .dataframe tbody tr th:only-of-type {\n",
              "        vertical-align: middle;\n",
              "    }\n",
              "\n",
              "    .dataframe tbody tr th {\n",
              "        vertical-align: top;\n",
              "    }\n",
              "\n",
              "    .dataframe thead th {\n",
              "        text-align: right;\n",
              "    }\n",
              "</style>\n",
              "<table border=\"1\" class=\"dataframe\">\n",
              "  <thead>\n",
              "    <tr style=\"text-align: right;\">\n",
              "      <th></th>\n",
              "      <th>anime_id</th>\n",
              "    </tr>\n",
              "  </thead>\n",
              "  <tbody>\n",
              "    <tr>\n",
              "      <th>0</th>\n",
              "      <td>11013</td>\n",
              "    </tr>\n",
              "    <tr>\n",
              "      <th>1</th>\n",
              "      <td>2104</td>\n",
              "    </tr>\n",
              "    <tr>\n",
              "      <th>2</th>\n",
              "      <td>5262</td>\n",
              "    </tr>\n",
              "    <tr>\n",
              "      <th>3</th>\n",
              "      <td>721</td>\n",
              "    </tr>\n",
              "    <tr>\n",
              "      <th>4</th>\n",
              "      <td>12365</td>\n",
              "    </tr>\n",
              "    <tr>\n",
              "      <th>...</th>\n",
              "      <td>...</td>\n",
              "    </tr>\n",
              "    <tr>\n",
              "      <th>14473</th>\n",
              "      <td>26089</td>\n",
              "    </tr>\n",
              "    <tr>\n",
              "      <th>14474</th>\n",
              "      <td>21525</td>\n",
              "    </tr>\n",
              "    <tr>\n",
              "      <th>14475</th>\n",
              "      <td>37897</td>\n",
              "    </tr>\n",
              "    <tr>\n",
              "      <th>14476</th>\n",
              "      <td>34193</td>\n",
              "    </tr>\n",
              "    <tr>\n",
              "      <th>14477</th>\n",
              "      <td>37908</td>\n",
              "    </tr>\n",
              "  </tbody>\n",
              "</table>\n",
              "<p>14478 rows × 1 columns</p>\n",
              "</div>"
            ],
            "text/plain": [
              "       anime_id\n",
              "0         11013\n",
              "1          2104\n",
              "2          5262\n",
              "3           721\n",
              "4         12365\n",
              "...         ...\n",
              "14473     26089\n",
              "14474     21525\n",
              "14475     37897\n",
              "14476     34193\n",
              "14477     37908\n",
              "\n",
              "[14478 rows x 1 columns]"
            ]
          },
          "metadata": {
            "tags": []
          },
          "execution_count": 123
        }
      ]
    },
    {
      "cell_type": "code",
      "metadata": {
        "id": "UxsfubEvIU5t",
        "colab_type": "code",
        "colab": {}
      },
      "source": [
        "surprised = load(\"/content/drive/My Drive/svd.pickle\")"
      ],
      "execution_count": 0,
      "outputs": []
    },
    {
      "cell_type": "code",
      "metadata": {
        "id": "TfAa5cTQIi9H",
        "colab_type": "code",
        "colab": {}
      },
      "source": [
        "algo = surprised[1]\n",
        "predictions = surprised[0]"
      ],
      "execution_count": 0,
      "outputs": []
    },
    {
      "cell_type": "code",
      "metadata": {
        "id": "plJwaVPhJjd-",
        "colab_type": "code",
        "outputId": "bd4b6aa5-b363-4259-dadc-e993ec89cd75",
        "colab": {
          "base_uri": "https://localhost:8080/",
          "height": 51
        }
      },
      "source": [
        "accuracy.rmse(predictions)"
      ],
      "execution_count": 8,
      "outputs": [
        {
          "output_type": "stream",
          "text": [
            "RMSE: 1.1859\n"
          ],
          "name": "stdout"
        },
        {
          "output_type": "execute_result",
          "data": {
            "text/plain": [
              "1.1859182533000143"
            ]
          },
          "metadata": {
            "tags": []
          },
          "execution_count": 8
        }
      ]
    },
    {
      "cell_type": "code",
      "metadata": {
        "id": "9mjWFvRvyqWA",
        "colab_type": "code",
        "colab": {
          "base_uri": "https://localhost:8080/",
          "height": 34
        },
        "outputId": "46a5c67c-24f9-49ee-9a41-2fe8e2bb64a4"
      },
      "source": [
        "algo.predict(user, item)"
      ],
      "execution_count": 65,
      "outputs": [
        {
          "output_type": "execute_result",
          "data": {
            "text/plain": [
              "Prediction(uid='8th-sin', iid=11013, r_ui=None, est=7.657693790106907, details={'was_impossible': False})"
            ]
          },
          "metadata": {
            "tags": []
          },
          "execution_count": 65
        }
      ]
    },
    {
      "cell_type": "code",
      "metadata": {
        "id": "xpfyvJfK47fI",
        "colab_type": "code",
        "colab": {
          "base_uri": "https://localhost:8080/",
          "height": 34
        },
        "outputId": "8ce3ae7e-8723-48f0-93c8-bdcc773a9f74"
      },
      "source": [
        "pip install urllib3"
      ],
      "execution_count": 135,
      "outputs": [
        {
          "output_type": "stream",
          "text": [
            "Requirement already satisfied: urllib3 in /usr/local/lib/python3.6/dist-packages (1.24.3)\n"
          ],
          "name": "stdout"
        }
      ]
    },
    {
      "cell_type": "code",
      "metadata": {
        "id": "MyPmZstZKJhx",
        "colab_type": "code",
        "outputId": "683c44ab-943e-44e0-8d13-1383b0918278",
        "colab": {
          "base_uri": "https://localhost:8080/",
          "height": 359
        }
      },
      "source": [
        "user = get_uid(\"Orionite\")\n",
        "\n",
        "user_8thSin = anime.reset_index()[[\"anime_id\"]]\n",
        "\n",
        "user_8thSin[\"est\"] = user_8thSin[\"anime_id\"].apply(lambda x: algo.predict(user, x)[3])\n",
        "\n",
        "user_8thSin.sort_values(\"est\", ascending=False).head(10)[\"anime_id\"].apply(lambda x: anime.loc[x])"
      ],
      "execution_count": 142,
      "outputs": [
        {
          "output_type": "execute_result",
          "data": {
            "text/html": [
              "<div>\n",
              "<style scoped>\n",
              "    .dataframe tbody tr th:only-of-type {\n",
              "        vertical-align: middle;\n",
              "    }\n",
              "\n",
              "    .dataframe tbody tr th {\n",
              "        vertical-align: top;\n",
              "    }\n",
              "\n",
              "    .dataframe thead th {\n",
              "        text-align: right;\n",
              "    }\n",
              "</style>\n",
              "<table border=\"1\" class=\"dataframe\">\n",
              "  <thead>\n",
              "    <tr style=\"text-align: right;\">\n",
              "      <th></th>\n",
              "      <th>title</th>\n",
              "      <th>image_url</th>\n",
              "    </tr>\n",
              "  </thead>\n",
              "  <tbody>\n",
              "    <tr>\n",
              "      <th>6040</th>\n",
              "      <td>FLCL</td>\n",
              "      <td>https://myanimelist.cdn-dena.com/images/anime/...</td>\n",
              "    </tr>\n",
              "    <tr>\n",
              "      <th>5257</th>\n",
              "      <td>Suzumiya Haruhi no Yuuutsu</td>\n",
              "      <td>https://myanimelist.cdn-dena.com/images/anime/...</td>\n",
              "    </tr>\n",
              "    <tr>\n",
              "      <th>11361</th>\n",
              "      <td>Byousoku 5 Centimeter</td>\n",
              "      <td>https://myanimelist.cdn-dena.com/images/anime/...</td>\n",
              "    </tr>\n",
              "    <tr>\n",
              "      <th>10918</th>\n",
              "      <td>Tengen Toppa Gurren Lagann</td>\n",
              "      <td>https://myanimelist.cdn-dena.com/images/anime/...</td>\n",
              "    </tr>\n",
              "    <tr>\n",
              "      <th>13587</th>\n",
              "      <td>Carnival Phantasm</td>\n",
              "      <td>https://myanimelist.cdn-dena.com/images/anime/...</td>\n",
              "    </tr>\n",
              "    <tr>\n",
              "      <th>12938</th>\n",
              "      <td>Tengen Toppa Gurren Lagann Movie 2: Lagann-hen</td>\n",
              "      <td>https://myanimelist.cdn-dena.com/images/anime/...</td>\n",
              "    </tr>\n",
              "    <tr>\n",
              "      <th>1094</th>\n",
              "      <td>Suzumiya Haruhi no Shoushitsu</td>\n",
              "      <td>https://myanimelist.cdn-dena.com/images/anime/...</td>\n",
              "    </tr>\n",
              "    <tr>\n",
              "      <th>9140</th>\n",
              "      <td>Mahou Shoujo Madoka★Magica</td>\n",
              "      <td>https://myanimelist.cdn-dena.com/images/anime/...</td>\n",
              "    </tr>\n",
              "    <tr>\n",
              "      <th>1389</th>\n",
              "      <td>Evangelion: 2.0 You Can (Not) Advance</td>\n",
              "      <td>https://myanimelist.cdn-dena.com/images/anime/...</td>\n",
              "    </tr>\n",
              "    <tr>\n",
              "      <th>6112</th>\n",
              "      <td>Golden Boy</td>\n",
              "      <td>https://myanimelist.cdn-dena.com/images/anime/...</td>\n",
              "    </tr>\n",
              "  </tbody>\n",
              "</table>\n",
              "</div>"
            ],
            "text/plain": [
              "                                                title                                          image_url\n",
              "6040                                             FLCL  https://myanimelist.cdn-dena.com/images/anime/...\n",
              "5257                       Suzumiya Haruhi no Yuuutsu  https://myanimelist.cdn-dena.com/images/anime/...\n",
              "11361                           Byousoku 5 Centimeter  https://myanimelist.cdn-dena.com/images/anime/...\n",
              "10918                      Tengen Toppa Gurren Lagann  https://myanimelist.cdn-dena.com/images/anime/...\n",
              "13587                               Carnival Phantasm  https://myanimelist.cdn-dena.com/images/anime/...\n",
              "12938  Tengen Toppa Gurren Lagann Movie 2: Lagann-hen  https://myanimelist.cdn-dena.com/images/anime/...\n",
              "1094                    Suzumiya Haruhi no Shoushitsu  https://myanimelist.cdn-dena.com/images/anime/...\n",
              "9140                       Mahou Shoujo Madoka★Magica  https://myanimelist.cdn-dena.com/images/anime/...\n",
              "1389            Evangelion: 2.0 You Can (Not) Advance  https://myanimelist.cdn-dena.com/images/anime/...\n",
              "6112                                       Golden Boy  https://myanimelist.cdn-dena.com/images/anime/..."
            ]
          },
          "metadata": {
            "tags": []
          },
          "execution_count": 142
        }
      ]
    },
    {
      "cell_type": "code",
      "metadata": {
        "id": "j1-jkiKU5jNr",
        "colab_type": "code",
        "colab": {}
      },
      "source": [
        ""
      ],
      "execution_count": 0,
      "outputs": []
    },
    {
      "cell_type": "code",
      "metadata": {
        "id": "hFs5mfEOp28f",
        "colab_type": "code",
        "colab": {
          "base_uri": "https://localhost:8080/",
          "height": 357
        },
        "outputId": "47338d33-95e8-4838-ad0e-0d06221b9985"
      },
      "source": [
        "# user factors (n_users, n_factors)\n",
        "algo.pu[234398]"
      ],
      "execution_count": 51,
      "outputs": [
        {
          "output_type": "execute_result",
          "data": {
            "text/plain": [
              "array([-0.22435042, -0.01160861, -0.05903586,  0.08524899, -0.02081571,\n",
              "        0.02430032,  0.14911822,  0.0223393 ,  0.07370427, -0.24474441,\n",
              "        0.03274529,  0.12021156,  0.17408957,  0.09837864, -0.27874884,\n",
              "       -0.01354472,  0.07396942,  0.08288929,  0.09713859, -0.03154159,\n",
              "       -0.07008544, -0.02160418,  0.00590177,  0.17007012,  0.03745228,\n",
              "        0.01947959, -0.01123171,  0.00388187,  0.01823756,  0.29074033,\n",
              "       -0.23362018, -0.01262159,  0.13257073,  0.00103121, -0.10119689,\n",
              "       -0.01197944, -0.10922349, -0.04556502,  0.12172941, -0.1313765 ,\n",
              "        0.01461785,  0.13091254, -0.00603909,  0.14928827, -0.07679207,\n",
              "       -0.04695057, -0.09702527,  0.23173716,  0.02983288, -0.08450962,\n",
              "        0.0636884 , -0.11970605,  0.05579063, -0.08786603, -0.15383333,\n",
              "        0.02518277,  0.10077984, -0.06641357,  0.05064133,  0.12174697,\n",
              "       -0.08878339,  0.25642154,  0.00124955, -0.33677111,  0.02715862,\n",
              "       -0.06034399, -0.12174862, -0.06648773,  0.06724545, -0.04006774,\n",
              "        0.13350871, -0.10244337,  0.04789775, -0.14983869, -0.11077235,\n",
              "       -0.20615038,  0.06884612,  0.05008669, -0.18668531,  0.05687891,\n",
              "        0.20788203,  0.10032181, -0.01659401,  0.23781209,  0.17778737,\n",
              "        0.1001526 , -0.01500798, -0.11880763, -0.09460019, -0.01661197,\n",
              "       -0.01861474,  0.19374857, -0.02483577, -0.21881786,  0.00269375,\n",
              "        0.1441682 ,  0.0575589 ,  0.12375242,  0.0381367 ,  0.02267133])"
            ]
          },
          "metadata": {
            "tags": []
          },
          "execution_count": 51
        }
      ]
    },
    {
      "cell_type": "code",
      "metadata": {
        "id": "KqfcXQz3quvh",
        "colab_type": "code",
        "colab": {
          "base_uri": "https://localhost:8080/",
          "height": 34
        },
        "outputId": "ba0063c7-d4a5-411e-ca03-6a2553679a8b"
      },
      "source": [
        "# item factors (n_items, n_factors)\n",
        "algo.qi.shape"
      ],
      "execution_count": 47,
      "outputs": [
        {
          "output_type": "execute_result",
          "data": {
            "text/plain": [
              "(14054, 100)"
            ]
          },
          "metadata": {
            "tags": []
          },
          "execution_count": 47
        }
      ]
    },
    {
      "cell_type": "code",
      "metadata": {
        "id": "PpF0UOoaqxzY",
        "colab_type": "code",
        "colab": {
          "base_uri": "https://localhost:8080/",
          "height": 34
        },
        "outputId": "33e6bfac-16af-49bc-c127-c9f6afd36cc3"
      },
      "source": [
        "# user biases (n_users)\n",
        "algo.bu[234398]"
      ],
      "execution_count": 50,
      "outputs": [
        {
          "output_type": "execute_result",
          "data": {
            "text/plain": [
              "0.7939579124587931"
            ]
          },
          "metadata": {
            "tags": []
          },
          "execution_count": 50
        }
      ]
    },
    {
      "cell_type": "code",
      "metadata": {
        "id": "IksTrUbuqz1i",
        "colab_type": "code",
        "colab": {
          "base_uri": "https://localhost:8080/",
          "height": 34
        },
        "outputId": "3b0fcf0e-436a-4e5e-9b8a-dd1ea74d97e7"
      },
      "source": [
        "# item biases (n_items)\n",
        "algo.bi.shape"
      ],
      "execution_count": 43,
      "outputs": [
        {
          "output_type": "execute_result",
          "data": {
            "text/plain": [
              "(14054,)"
            ]
          },
          "metadata": {
            "tags": []
          },
          "execution_count": 43
        }
      ]
    },
    {
      "cell_type": "code",
      "metadata": {
        "id": "1qYaBE9Eq1dr",
        "colab_type": "code",
        "colab": {
          "base_uri": "https://localhost:8080/",
          "height": 34
        },
        "outputId": "6fd8c970-549c-4ca6-e780-22a59bfd2f13"
      },
      "source": [
        ""
      ],
      "execution_count": 49,
      "outputs": [
        {
          "output_type": "execute_result",
          "data": {
            "text/plain": [
              "{}"
            ]
          },
          "metadata": {
            "tags": []
          },
          "execution_count": 49
        }
      ]
    },
    {
      "cell_type": "code",
      "metadata": {
        "id": "0ZmVxJD3sWay",
        "colab_type": "code",
        "colab": {}
      },
      "source": [
        ""
      ],
      "execution_count": 0,
      "outputs": []
    }
  ]
}