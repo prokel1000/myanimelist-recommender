{
  "nbformat": 4,
  "nbformat_minor": 0,
  "metadata": {
    "colab": {
      "name": "algorithm_comparisons.ipynb",
      "provenance": [],
      "authorship_tag": "ABX9TyP2wQbC4hSGGFd3vDx5JrK6",
      "include_colab_link": true
    },
    "kernelspec": {
      "name": "python3",
      "display_name": "Python 3"
    },
    "accelerator": "TPU"
  },
  "cells": [
    {
      "cell_type": "markdown",
      "metadata": {
        "id": "view-in-github",
        "colab_type": "text"
      },
      "source": [
        "<a href=\"https://colab.research.google.com/github/robert-myers/myanimelist-recommender/blob/master/notebooks/algorithm_comparisons.ipynb\" target=\"_parent\"><img src=\"https://colab.research.google.com/assets/colab-badge.svg\" alt=\"Open In Colab\"/></a>"
      ]
    },
    {
      "cell_type": "code",
      "metadata": {
        "id": "gBr18XRVy91u",
        "colab_type": "code",
        "colab": {}
      },
      "source": [
        "pip install surprise"
      ],
      "execution_count": 0,
      "outputs": []
    },
    {
      "cell_type": "code",
      "metadata": {
        "id": "eNAHfRvlyAyf",
        "colab_type": "code",
        "colab": {}
      },
      "source": [
        "import numpy as np\n",
        "import pandas as pd\n",
        "import random\n",
        "\n",
        "from surprise import accuracy, AlgoBase, BaselineOnly, Dataset, NormalPredictor, Reader, SVD, SVDpp, NMF\n",
        "from surprise.model_selection import cross_validate, train_test_split\n",
        "\n",
        "my_seed = 8182868\n",
        "random.seed(my_seed)\n",
        "np.random.seed(my_seed)"
      ],
      "execution_count": 0,
      "outputs": []
    },
    {
      "cell_type": "code",
      "metadata": {
        "id": "b6XRRdAqyTgQ",
        "colab_type": "code",
        "colab": {}
      },
      "source": [
        "train = pd.read_csv(\"https://s3.us-east-2.amazonaws.com/my.anime.list.sagemaker/sagemaker/train_sagemaker_one_percent.csv\")[[\"userID\", \"itemID\", \"my_score\"]]"
      ],
      "execution_count": 0,
      "outputs": []
    },
    {
      "cell_type": "code",
      "metadata": {
        "id": "nA83CYqByVnS",
        "colab_type": "code",
        "colab": {}
      },
      "source": [
        "reader = Reader(rating_scale=(1, 10))\n",
        "data = Dataset.load_from_df(train, reader)\n",
        "trainset, testset = train_test_split(data)"
      ],
      "execution_count": 0,
      "outputs": []
    },
    {
      "cell_type": "code",
      "metadata": {
        "id": "dyqMM05W0Oxx",
        "colab_type": "code",
        "colab": {
          "base_uri": "https://localhost:8080/",
          "height": 85
        },
        "outputId": "5f69276b-12a3-408e-fde8-1f36cbd9288c"
      },
      "source": [
        "%%time\n",
        "algo = NMF()\n",
        "predictions = algo.fit(trainset).test(testset)\n",
        "accuracy.rmse(predictions), accuracy.mae(predictions)"
      ],
      "execution_count": 5,
      "outputs": [
        {
          "output_type": "stream",
          "text": [
            "RMSE: 2.4896\n",
            "MAE:  2.1012\n",
            "CPU times: user 12.9 s, sys: 14.9 ms, total: 12.9 s\n",
            "Wall time: 13 s\n"
          ],
          "name": "stdout"
        }
      ]
    },
    {
      "cell_type": "code",
      "metadata": {
        "id": "Y5KDGNgN6nBI",
        "colab_type": "code",
        "colab": {
          "base_uri": "https://localhost:8080/",
          "height": 85
        },
        "outputId": "c312a86d-e4f8-4549-b1ef-b1b9afcdd73a"
      },
      "source": [
        "%%time\n",
        "algo = NormalPredictor()\n",
        "predictions = algo.fit(trainset).test(testset)\n",
        "accuracy.rmse(predictions), accuracy.mae(predictions)"
      ],
      "execution_count": 6,
      "outputs": [
        {
          "output_type": "stream",
          "text": [
            "RMSE: 2.3192\n",
            "MAE:  1.8377\n",
            "CPU times: user 431 ms, sys: 11.9 ms, total: 443 ms\n",
            "Wall time: 446 ms\n"
          ],
          "name": "stdout"
        }
      ]
    },
    {
      "cell_type": "code",
      "metadata": {
        "id": "KMR22uUw05RI",
        "colab_type": "code",
        "colab": {
          "base_uri": "https://localhost:8080/",
          "height": 85
        },
        "outputId": "daf7bb0e-c847-4012-e43f-fe2db887e103"
      },
      "source": [
        "%%time\n",
        "class MeanAlgo(AlgoBase):\n",
        "\n",
        "    def __init__(self):\n",
        "        AlgoBase.__init__(self)\n",
        "\n",
        "    def fit(self, trainset):\n",
        "        AlgoBase.fit(self, trainset)\n",
        "        self.the_mean = trainset.global_mean\n",
        "        return self\n",
        "        \n",
        "    def estimate(self, u, i):\n",
        "        return self.the_mean\n",
        "\n",
        "algo = MeanAlgo()\n",
        "predictions = algo.fit(trainset).test(testset)\n",
        "accuracy.rmse(predictions), accuracy.mae(predictions)"
      ],
      "execution_count": 7,
      "outputs": [
        {
          "output_type": "stream",
          "text": [
            "RMSE: 1.6962\n",
            "MAE:  1.3343\n",
            "CPU times: user 353 ms, sys: 7.04 ms, total: 360 ms\n",
            "Wall time: 362 ms\n"
          ],
          "name": "stdout"
        }
      ]
    },
    {
      "cell_type": "code",
      "metadata": {
        "id": "Vju07Acv0OT6",
        "colab_type": "code",
        "colab": {
          "base_uri": "https://localhost:8080/",
          "height": 85
        },
        "outputId": "09884431-b914-4dc9-f5da-03d1315104d6"
      },
      "source": [
        "%%time\n",
        "algo = SVDpp()\n",
        "predictions = algo.fit(trainset).test(testset)\n",
        "accuracy.rmse(predictions), accuracy.mae(predictions)"
      ],
      "execution_count": 9,
      "outputs": [
        {
          "output_type": "stream",
          "text": [
            "RMSE: 1.5240\n",
            "MAE:  1.1696\n",
            "CPU times: user 17.2 s, sys: 9.52 ms, total: 17.2 s\n",
            "Wall time: 17.4 s\n"
          ],
          "name": "stdout"
        }
      ]
    },
    {
      "cell_type": "code",
      "metadata": {
        "id": "zgCLA0sV6cwF",
        "colab_type": "code",
        "colab": {
          "base_uri": "https://localhost:8080/",
          "height": 102
        },
        "outputId": "89698001-6d29-4aac-80f7-e75c6252e7c0"
      },
      "source": [
        "%%time\n",
        "algo = BaselineOnly()\n",
        "predictions = algo.fit(trainset).test(testset)\n",
        "accuracy.rmse(predictions), accuracy.mae(predictions)"
      ],
      "execution_count": 10,
      "outputs": [
        {
          "output_type": "stream",
          "text": [
            "Estimating biases using als...\n",
            "RMSE: 1.5221\n",
            "MAE:  1.1578\n",
            "CPU times: user 1.05 s, sys: 13.9 ms, total: 1.06 s\n",
            "Wall time: 1.07 s\n"
          ],
          "name": "stdout"
        }
      ]
    },
    {
      "cell_type": "code",
      "metadata": {
        "id": "hotyXH1uyWGh",
        "colab_type": "code",
        "colab": {
          "base_uri": "https://localhost:8080/",
          "height": 85
        },
        "outputId": "5c35d883-7efa-42e6-e47a-6dc3f2bc3e65"
      },
      "source": [
        "%%time\n",
        "algo = SVD()\n",
        "predictions = algo.fit(trainset).test(testset)\n",
        "accuracy.rmse(predictions), accuracy.mae(predictions)"
      ],
      "execution_count": 8,
      "outputs": [
        {
          "output_type": "stream",
          "text": [
            "RMSE: 1.5129\n",
            "MAE:  1.1503\n",
            "CPU times: user 8.57 s, sys: 8.48 ms, total: 8.58 s\n",
            "Wall time: 8.65 s\n"
          ],
          "name": "stdout"
        }
      ]
    }
  ]
}