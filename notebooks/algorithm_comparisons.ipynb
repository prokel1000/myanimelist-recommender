{
  "nbformat": 4,
  "nbformat_minor": 0,
  "metadata": {
    "colab": {
      "name": "algorithm_comparisons.ipynb",
      "provenance": [],
      "authorship_tag": "ABX9TyOIYVNN55o8Vp2SuuWaB4ah",
      "include_colab_link": true
    },
    "kernelspec": {
      "name": "python3",
      "display_name": "Python 3"
    },
    "accelerator": "TPU"
  },
  "cells": [
    {
      "cell_type": "markdown",
      "metadata": {
        "id": "view-in-github",
        "colab_type": "text"
      },
      "source": [
        "<a href=\"https://colab.research.google.com/github/robert-myers/myanimelist-recommender/blob/master/notebooks/algorithm_comparisons.ipynb\" target=\"_parent\"><img src=\"https://colab.research.google.com/assets/colab-badge.svg\" alt=\"Open In Colab\"/></a>"
      ]
    },
    {
      "cell_type": "code",
      "metadata": {
        "id": "gBr18XRVy91u",
        "colab_type": "code",
        "colab": {}
      },
      "source": [
        "pip install surprise"
      ],
      "execution_count": 0,
      "outputs": []
    },
    {
      "cell_type": "code",
      "metadata": {
        "id": "eNAHfRvlyAyf",
        "colab_type": "code",
        "colab": {}
      },
      "source": [
        "%tensorflow_version 2.x\n",
        "import numpy as np\n",
        "import pandas as pd\n",
        "import random\n",
        "\n",
        "from surprise import accuracy, AlgoBase, BaselineOnly, Dataset, NormalPredictor, Reader, SVD, SVDpp, NMF\n",
        "from surprise.model_selection import cross_validate, train_test_split\n",
        "\n",
        "my_seed = 8182868\n",
        "random.seed(my_seed)\n",
        "np.random.seed(my_seed)"
      ],
      "execution_count": 0,
      "outputs": []
    },
    {
      "cell_type": "code",
      "metadata": {
        "id": "b6XRRdAqyTgQ",
        "colab_type": "code",
        "colab": {}
      },
      "source": [
        "train = pd.read_csv(\"https://s3.us-east-2.amazonaws.com/my.anime.list.sagemaker/sagemaker/train_sagemaker_one_percent.csv\")[[\"userID\", \"itemID\", \"my_score\"]]"
      ],
      "execution_count": 0,
      "outputs": []
    },
    {
      "cell_type": "code",
      "metadata": {
        "id": "nA83CYqByVnS",
        "colab_type": "code",
        "colab": {}
      },
      "source": [
        "reader = Reader(rating_scale=(1, 10))\n",
        "data = Dataset.load_from_df(train, reader)\n",
        "trainset, testset = train_test_split(data)"
      ],
      "execution_count": 0,
      "outputs": []
    },
    {
      "cell_type": "code",
      "metadata": {
        "id": "dyqMM05W0Oxx",
        "colab_type": "code",
        "colab": {
          "base_uri": "https://localhost:8080/",
          "height": 85
        },
        "outputId": "42ae2b33-cc24-4da3-d690-3f3a9c79b1be"
      },
      "source": [
        "%%time\n",
        "algo = NMF()\n",
        "predictions = algo.fit(trainset).test(testset)\n",
        "accuracy.rmse(predictions), accuracy.mae(predictions)"
      ],
      "execution_count": 7,
      "outputs": [
        {
          "output_type": "stream",
          "text": [
            "RMSE: 2.4673\n",
            "MAE:  2.0805\n",
            "CPU times: user 13 s, sys: 20.3 ms, total: 13 s\n",
            "Wall time: 13.1 s\n"
          ],
          "name": "stdout"
        }
      ]
    },
    {
      "cell_type": "code",
      "metadata": {
        "id": "Y5KDGNgN6nBI",
        "colab_type": "code",
        "colab": {
          "base_uri": "https://localhost:8080/",
          "height": 85
        },
        "outputId": "119fa366-b7c1-47d2-e589-0f14ba32d57b"
      },
      "source": [
        "%%time\n",
        "algo = NormalPredictor()\n",
        "predictions = algo.fit(trainset).test(testset)\n",
        "accuracy.rmse(predictions), accuracy.mae(predictions)"
      ],
      "execution_count": 22,
      "outputs": [
        {
          "output_type": "stream",
          "text": [
            "RMSE: 2.3440\n",
            "MAE:  1.8588\n",
            "CPU times: user 572 ms, sys: 12.8 ms, total: 585 ms\n",
            "Wall time: 594 ms\n"
          ],
          "name": "stdout"
        }
      ]
    },
    {
      "cell_type": "code",
      "metadata": {
        "id": "KMR22uUw05RI",
        "colab_type": "code",
        "colab": {
          "base_uri": "https://localhost:8080/",
          "height": 85
        },
        "outputId": "b808bc8e-508b-478d-c9c7-e763334f09ce"
      },
      "source": [
        "%%time\n",
        "class MeanAlgo(AlgoBase):\n",
        "\n",
        "    def __init__(self):\n",
        "        AlgoBase.__init__(self)\n",
        "\n",
        "    def fit(self, trainset):\n",
        "        AlgoBase.fit(self, trainset)\n",
        "        self.the_mean = trainset.global_mean\n",
        "        return self\n",
        "        \n",
        "    def estimate(self, u, i):\n",
        "        return self.the_mean\n",
        "\n",
        "algo = MeanAlgo()\n",
        "predictions = algo.fit(trainset).test(testset)\n",
        "accuracy.rmse(predictions), accuracy.mae(predictions)"
      ],
      "execution_count": 8,
      "outputs": [
        {
          "output_type": "stream",
          "text": [
            "RMSE: 1.7194\n",
            "MAE:  1.3530\n",
            "CPU times: user 241 ms, sys: 7.97 ms, total: 249 ms\n",
            "Wall time: 250 ms\n"
          ],
          "name": "stdout"
        }
      ]
    },
    {
      "cell_type": "code",
      "metadata": {
        "id": "hotyXH1uyWGh",
        "colab_type": "code",
        "colab": {
          "base_uri": "https://localhost:8080/",
          "height": 85
        },
        "outputId": "53e241ae-6642-4e00-d2e8-b6d64f6b8684"
      },
      "source": [
        "%%time\n",
        "algo = SVD()\n",
        "predictions = algo.fit(trainset).test(testset)\n",
        "accuracy.rmse(predictions), accuracy.mae(predictions)"
      ],
      "execution_count": 5,
      "outputs": [
        {
          "output_type": "stream",
          "text": [
            "RMSE: 1.5259\n",
            "MAE:  1.1656\n",
            "CPU times: user 8.71 s, sys: 9.88 ms, total: 8.72 s\n",
            "Wall time: 8.79 s\n"
          ],
          "name": "stdout"
        }
      ]
    },
    {
      "cell_type": "code",
      "metadata": {
        "id": "Vju07Acv0OT6",
        "colab_type": "code",
        "colab": {
          "base_uri": "https://localhost:8080/",
          "height": 85
        },
        "outputId": "43cb1780-9f68-47a3-d3f2-ca6347497538"
      },
      "source": [
        "%%time\n",
        "algo = SVDpp()\n",
        "predictions = algo.fit(trainset).test(testset)\n",
        "accuracy.rmse(predictions), accuracy.mae(predictions)"
      ],
      "execution_count": 6,
      "outputs": [
        {
          "output_type": "stream",
          "text": [
            "RMSE: 1.5393\n",
            "MAE:  1.1833\n",
            "CPU times: user 17 s, sys: 20.6 ms, total: 17.1 s\n",
            "Wall time: 17.2 s\n"
          ],
          "name": "stdout"
        }
      ]
    },
    {
      "cell_type": "code",
      "metadata": {
        "id": "zgCLA0sV6cwF",
        "colab_type": "code",
        "colab": {
          "base_uri": "https://localhost:8080/",
          "height": 102
        },
        "outputId": "854be189-1ffd-454e-a586-802cb1a44de1"
      },
      "source": [
        "%%time\n",
        "algo = BaselineOnly()\n",
        "predictions = algo.fit(trainset).test(testset)\n",
        "accuracy.rmse(predictions), accuracy.mae(predictions)"
      ],
      "execution_count": 21,
      "outputs": [
        {
          "output_type": "stream",
          "text": [
            "Estimating biases using als...\n",
            "RMSE: 1.5357\n",
            "MAE:  1.1724\n",
            "CPU times: user 820 ms, sys: 10.9 ms, total: 831 ms\n",
            "Wall time: 844 ms\n"
          ],
          "name": "stdout"
        }
      ]
    }
  ]
}