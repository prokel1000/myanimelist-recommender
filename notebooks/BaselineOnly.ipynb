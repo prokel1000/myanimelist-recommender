{
  "nbformat": 4,
  "nbformat_minor": 0,
  "metadata": {
    "colab": {
      "name": "BaselineOnly.ipynb",
      "provenance": [],
      "collapsed_sections": [],
      "machine_shape": "hm",
      "authorship_tag": "ABX9TyOdSHNhUYiqRwktIMLbKZlr",
      "include_colab_link": true
    },
    "kernelspec": {
      "name": "python3",
      "display_name": "Python 3"
    },
    "accelerator": "GPU"
  },
  "cells": [
    {
      "cell_type": "markdown",
      "metadata": {
        "id": "view-in-github",
        "colab_type": "text"
      },
      "source": [
        "<a href=\"https://colab.research.google.com/github/robert-myers/myanimelist-recommender/blob/master/notebooks/BaselineOnly.ipynb\" target=\"_parent\"><img src=\"https://colab.research.google.com/assets/colab-badge.svg\" alt=\"Open In Colab\"/></a>"
      ]
    },
    {
      "cell_type": "code",
      "metadata": {
        "id": "azH5_XcE7mhR",
        "colab_type": "code",
        "colab": {}
      },
      "source": [
        "pip install surprise"
      ],
      "execution_count": 0,
      "outputs": []
    },
    {
      "cell_type": "code",
      "metadata": {
        "id": "4S5GK2jh7rK4",
        "colab_type": "code",
        "colab": {}
      },
      "source": [
        "import numpy as np\n",
        "import pandas as pd\n",
        "import random\n",
        "\n",
        "from surprise import accuracy, BaselineOnly, Dataset, Reader\n",
        "from surprise.model_selection import cross_validate, train_test_split\n",
        "\n",
        "my_seed = 8182868\n",
        "random.seed(my_seed)\n",
        "np.random.seed(my_seed)"
      ],
      "execution_count": 0,
      "outputs": []
    },
    {
      "cell_type": "code",
      "metadata": {
        "id": "2fYNlCmR7-bK",
        "colab_type": "code",
        "outputId": "1f702ccd-2355-4a1d-8237-47b2c7fbbfca",
        "colab": {
          "base_uri": "https://localhost:8080/",
          "height": 51
        }
      },
      "source": [
        "%%time\n",
        "df = pd.read_csv(\"https://s3.us-east-2.amazonaws.com/my.anime.list.sagemaker/surprise/uid_iid_rating.zip\")\n",
        "df[\"username\"] = df[\"username\"].apply(lambda x: x.lower())"
      ],
      "execution_count": 0,
      "outputs": [
        {
          "output_type": "stream",
          "text": [
            "CPU times: user 20.6 s, sys: 2.62 s, total: 23.3 s\n",
            "Wall time: 24.5 s\n"
          ],
          "name": "stdout"
        }
      ]
    },
    {
      "cell_type": "code",
      "metadata": {
        "id": "m1Ir3vCH8CtL",
        "colab_type": "code",
        "outputId": "5255a96e-5b41-4b3d-8b94-980200ffbf57",
        "colab": {
          "base_uri": "https://localhost:8080/",
          "height": 51
        }
      },
      "source": [
        "%%time\n",
        "reader = Reader(rating_scale=(1, 10))\n",
        "data = Dataset.load_from_df(df, reader)\n",
        "trainset, testset = train_test_split(data, train_size=0.99, test_size=0.01)"
      ],
      "execution_count": 0,
      "outputs": [
        {
          "output_type": "stream",
          "text": [
            "CPU times: user 3min 20s, sys: 6.05 s, total: 3min 26s\n",
            "Wall time: 3min 26s\n"
          ],
          "name": "stdout"
        }
      ]
    },
    {
      "cell_type": "code",
      "metadata": {
        "id": "yad3nmlR8v4B",
        "colab_type": "code",
        "outputId": "50dc2244-9a02-4d5a-9c7c-36b53fad061a",
        "colab": {
          "base_uri": "https://localhost:8080/",
          "height": 102
        }
      },
      "source": [
        "%%time\n",
        "algo = BaselineOnly()\n",
        "predictions = algo.fit(trainset).test(testset)\n",
        "accuracy.rmse(predictions), accuracy.mae(predictions)"
      ],
      "execution_count": 0,
      "outputs": [
        {
          "output_type": "stream",
          "text": [
            "Estimating biases using als...\n",
            "RMSE: 1.3018\n",
            "MAE:  0.9777\n",
            "CPU times: user 6min 5s, sys: 607 ms, total: 6min 6s\n",
            "Wall time: 6min 5s\n"
          ],
          "name": "stdout"
        }
      ]
    }
  ]
}