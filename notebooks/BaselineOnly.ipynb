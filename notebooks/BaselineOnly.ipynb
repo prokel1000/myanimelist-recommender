{
  "nbformat": 4,
  "nbformat_minor": 0,
  "metadata": {
    "colab": {
      "name": "BaselineOnly.ipynb",
      "provenance": [],
      "machine_shape": "hm",
      "authorship_tag": "ABX9TyNyxaOtygk6v4kMXxiauQCg",
      "include_colab_link": true
    },
    "kernelspec": {
      "name": "python3",
      "display_name": "Python 3"
    },
    "accelerator": "GPU"
  },
  "cells": [
    {
      "cell_type": "markdown",
      "metadata": {
        "id": "view-in-github",
        "colab_type": "text"
      },
      "source": [
        "<a href=\"https://colab.research.google.com/github/robert-myers/myanimelist-recommender/blob/master/notebooks/BaselineOnly.ipynb\" target=\"_parent\"><img src=\"https://colab.research.google.com/assets/colab-badge.svg\" alt=\"Open In Colab\"/></a>"
      ]
    },
    {
      "cell_type": "code",
      "metadata": {
        "id": "azH5_XcE7mhR",
        "colab_type": "code",
        "colab": {}
      },
      "source": [
        "pip install surprise"
      ],
      "execution_count": 0,
      "outputs": []
    },
    {
      "cell_type": "code",
      "metadata": {
        "id": "4S5GK2jh7rK4",
        "colab_type": "code",
        "colab": {}
      },
      "source": [
        "import numpy as np\n",
        "import pandas as pd\n",
        "import random\n",
        "\n",
        "from surprise import accuracy, BaselineOnly, Dataset, Reader\n",
        "from surprise.model_selection import cross_validate, train_test_split\n",
        "\n",
        "my_seed = 8182868\n",
        "random.seed(my_seed)\n",
        "np.random.seed(my_seed)"
      ],
      "execution_count": 0,
      "outputs": []
    },
    {
      "cell_type": "code",
      "metadata": {
        "id": "2fYNlCmR7-bK",
        "colab_type": "code",
        "colab": {}
      },
      "source": [
        "%%time\n",
        "df = pd.read_csv(\"https://s3.us-east-2.amazonaws.com/my.anime.list.sagemaker/surprise/uid_iid_rating.zip\")\n",
        "df[\"username\"] = df[\"username\"].apply(lambda x: x.lower())"
      ],
      "execution_count": 0,
      "outputs": []
    },
    {
      "cell_type": "code",
      "metadata": {
        "id": "m1Ir3vCH8CtL",
        "colab_type": "code",
        "colab": {}
      },
      "source": [
        "%%time\n",
        "reader = Reader(rating_scale=(1, 10))\n",
        "data = Dataset.load_from_df(df, reader)\n",
        "trainset, testset = train_test_split(data, train_size=0.99, test_size=0.01)"
      ],
      "execution_count": 0,
      "outputs": []
    },
    {
      "cell_type": "code",
      "metadata": {
        "id": "yad3nmlR8v4B",
        "colab_type": "code",
        "colab": {
          "base_uri": "https://localhost:8080/",
          "height": 85
        },
        "outputId": "f3d27c90-db75-4abc-aa59-b6054fe43146"
      },
      "source": [
        "%%time\n",
        "algo = BaselineOnly()\n",
        "predictions = algo.fit(trainset).test(testset)\n",
        "accuracy.rmse(predictions), accuracy.mae(predictions)"
      ],
      "execution_count": 5,
      "outputs": [
        {
          "output_type": "stream",
          "text": [
            "Estimating biases using als...\n",
            "RMSE: 1.3018\n",
            "MAE:  0.9777\n"
          ],
          "name": "stdout"
        },
        {
          "output_type": "execute_result",
          "data": {
            "text/plain": [
              "(1.3018121527765314, 0.9776505634505124)"
            ]
          },
          "metadata": {
            "tags": []
          },
          "execution_count": 5
        }
      ]
    },
    {
      "cell_type": "code",
      "metadata": {
        "id": "XjIUnLai81ui",
        "colab_type": "code",
        "colab": {}
      },
      "source": [
        ""
      ],
      "execution_count": 0,
      "outputs": []
    }
  ]
}