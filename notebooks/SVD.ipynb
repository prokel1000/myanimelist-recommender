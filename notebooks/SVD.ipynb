{
  "nbformat": 4,
  "nbformat_minor": 0,
  "metadata": {
    "colab": {
      "name": "SVD.ipynb",
      "provenance": [],
      "collapsed_sections": [],
      "machine_shape": "hm",
      "authorship_tag": "ABX9TyOuHftp04Z6/NNNdxP654MB",
      "include_colab_link": true
    },
    "kernelspec": {
      "name": "python3",
      "display_name": "Python 3"
    },
    "accelerator": "GPU"
  },
  "cells": [
    {
      "cell_type": "markdown",
      "metadata": {
        "id": "view-in-github",
        "colab_type": "text"
      },
      "source": [
        "<a href=\"https://colab.research.google.com/github/robert-myers/myanimelist-recommender/blob/master/notebooks/SVD.ipynb\" target=\"_parent\"><img src=\"https://colab.research.google.com/assets/colab-badge.svg\" alt=\"Open In Colab\"/></a>"
      ]
    },
    {
      "cell_type": "code",
      "metadata": {
        "id": "b-dzMs0W-0L1",
        "colab_type": "code",
        "outputId": "c18a3d6e-c5fe-404a-e6da-15605f4a89da",
        "colab": {
          "base_uri": "https://localhost:8080/",
          "height": 309
        }
      },
      "source": [
        "pip install surprise"
      ],
      "execution_count": 1,
      "outputs": [
        {
          "output_type": "stream",
          "text": [
            "Collecting surprise\n",
            "  Downloading https://files.pythonhosted.org/packages/61/de/e5cba8682201fcf9c3719a6fdda95693468ed061945493dea2dd37c5618b/surprise-0.1-py2.py3-none-any.whl\n",
            "Collecting scikit-surprise\n",
            "\u001b[?25l  Downloading https://files.pythonhosted.org/packages/f5/da/b5700d96495fb4f092be497f02492768a3d96a3f4fa2ae7dea46d4081cfa/scikit-surprise-1.1.0.tar.gz (6.4MB)\n",
            "\u001b[K     |████████████████████████████████| 6.5MB 2.6MB/s \n",
            "\u001b[?25hRequirement already satisfied: joblib>=0.11 in /usr/local/lib/python3.6/dist-packages (from scikit-surprise->surprise) (0.14.1)\n",
            "Requirement already satisfied: numpy>=1.11.2 in /usr/local/lib/python3.6/dist-packages (from scikit-surprise->surprise) (1.17.5)\n",
            "Requirement already satisfied: scipy>=1.0.0 in /usr/local/lib/python3.6/dist-packages (from scikit-surprise->surprise) (1.4.1)\n",
            "Requirement already satisfied: six>=1.10.0 in /usr/local/lib/python3.6/dist-packages (from scikit-surprise->surprise) (1.12.0)\n",
            "Building wheels for collected packages: scikit-surprise\n",
            "  Building wheel for scikit-surprise (setup.py) ... \u001b[?25l\u001b[?25hdone\n",
            "  Created wheel for scikit-surprise: filename=scikit_surprise-1.1.0-cp36-cp36m-linux_x86_64.whl size=1678244 sha256=b24ed5c7936a70ab9ccbbbe6ac43aa1a87d065fcec0b8093fadad50a5dc63c6e\n",
            "  Stored in directory: /root/.cache/pip/wheels/cc/fa/8c/16c93fccce688ae1bde7d979ff102f7bee980d9cfeb8641bcf\n",
            "Successfully built scikit-surprise\n",
            "Installing collected packages: scikit-surprise, surprise\n",
            "Successfully installed scikit-surprise-1.1.0 surprise-0.1\n"
          ],
          "name": "stdout"
        }
      ]
    },
    {
      "cell_type": "code",
      "metadata": {
        "id": "fE4UDRPV1KeA",
        "colab_type": "code",
        "colab": {}
      },
      "source": [
        "import numpy as np\n",
        "import pandas as pd\n",
        "import random\n",
        "\n",
        "from surprise import accuracy, Dataset, SVD, SVDpp, NMF, Reader\n",
        "from surprise.dump import dump\n",
        "from surprise.model_selection import cross_validate, GridSearchCV, train_test_split\n",
        "\n",
        "my_seed = 8182868\n",
        "random.seed(my_seed)\n",
        "np.random.seed(my_seed)"
      ],
      "execution_count": 0,
      "outputs": []
    },
    {
      "cell_type": "code",
      "metadata": {
        "id": "zNC9-nUrddro",
        "colab_type": "code",
        "colab": {
          "base_uri": "https://localhost:8080/",
          "height": 51
        },
        "outputId": "f1532f4a-fba3-4b91-f7d9-9b35690ea3d6"
      },
      "source": [
        "%%time\n",
        "# Creation of the dataframe.\n",
        "df = pd.read_csv(\"https://s3.us-east-2.amazonaws.com/my.anime.list.sagemaker/surprise/uid_iid_rating.zip\")"
      ],
      "execution_count": 3,
      "outputs": [
        {
          "output_type": "stream",
          "text": [
            "CPU times: user 11.4 s, sys: 1.42 s, total: 12.9 s\n",
            "Wall time: 24.5 s\n"
          ],
          "name": "stdout"
        }
      ]
    },
    {
      "cell_type": "code",
      "metadata": {
        "id": "4XvwjfN9XN5k",
        "colab_type": "code",
        "colab": {
          "base_uri": "https://localhost:8080/",
          "height": 51
        },
        "outputId": "48ba9eaf-0c63-4989-f3cb-33ddda57cdcb"
      },
      "source": [
        "%%time\n",
        "# A reader is needed but only the rating_scale param is requiered.\n",
        "reader = Reader(rating_scale=(1, 10))\n",
        "\n",
        "# The columns must correspond to user id, item id and ratings (in that order).\n",
        "data = Dataset.load_from_df(df[['username', 'anime_id', 'my_score']], reader)\n",
        "\n",
        "# sample random trainset and testset\n",
        "# test set is made of 1% of the ratings.\n",
        "trainset, testset = train_test_split(data, train_size=.99, test_size=.01)"
      ],
      "execution_count": 4,
      "outputs": [
        {
          "output_type": "stream",
          "text": [
            "CPU times: user 2min 46s, sys: 5.93 s, total: 2min 52s\n",
            "Wall time: 2min 52s\n"
          ],
          "name": "stdout"
        }
      ]
    },
    {
      "cell_type": "code",
      "metadata": {
        "id": "doFikIJte7an",
        "colab_type": "code",
        "colab": {}
      },
      "source": [
        "# %%time\n",
        "# init_mean = df[\"my_score\"].mean()\n",
        "# init_std_dev = df[\"my_score\"].std()\n",
        "\n",
        "# param_grid = {\n",
        "#     'init_mean': [0, init_mean],\n",
        "#     'init_std_dev': [0.1, init_std_dev],\n",
        "# }\n",
        "\n",
        "# gs = GridSearchCV(SVD, param_grid, measures=['rmse', 'mae'], cv=2)\n",
        "\n",
        "# gs.fit(data)\n",
        "\n",
        "# # best RMSE score\n",
        "# print(gs.best_score['rmse'])\n",
        "\n",
        "# # combination of parameters that gave the best RMSE score\n",
        "# print(gs.best_params['rmse'])"
      ],
      "execution_count": 0,
      "outputs": []
    },
    {
      "cell_type": "code",
      "metadata": {
        "id": "E6gZBobJRQgm",
        "colab_type": "code",
        "colab": {}
      },
      "source": [
        "%%time\n",
        "algo = SVD()\n",
        "predictions = algo.fit(trainset).test(testset)\n",
        "accuracy.rmse(predictions)"
      ],
      "execution_count": 0,
      "outputs": []
    },
    {
      "cell_type": "code",
      "metadata": {
        "id": "KnbDFlfg7Gq4",
        "colab_type": "code",
        "colab": {}
      },
      "source": [
        "dump(\"svd.pickle\", predictions=predictions, algo=algo, verbose=1)"
      ],
      "execution_count": 0,
      "outputs": []
    }
  ]
}