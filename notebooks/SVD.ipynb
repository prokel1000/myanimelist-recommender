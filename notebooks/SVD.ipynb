{
  "nbformat": 4,
  "nbformat_minor": 0,
  "metadata": {
    "colab": {
      "name": "SVD.ipynb",
      "provenance": [],
      "collapsed_sections": [],
      "machine_shape": "hm",
      "authorship_tag": "ABX9TyOM9BjPjq6+knODeypDW2zo",
      "include_colab_link": true
    },
    "kernelspec": {
      "name": "python3",
      "display_name": "Python 3"
    },
    "accelerator": "TPU"
  },
  "cells": [
    {
      "cell_type": "markdown",
      "metadata": {
        "id": "view-in-github",
        "colab_type": "text"
      },
      "source": [
        "<a href=\"https://colab.research.google.com/github/robert-myers/myanimelist-recommender/blob/master/notebooks/SVD.ipynb\" target=\"_parent\"><img src=\"https://colab.research.google.com/assets/colab-badge.svg\" alt=\"Open In Colab\"/></a>"
      ]
    },
    {
      "cell_type": "code",
      "metadata": {
        "id": "b-dzMs0W-0L1",
        "colab_type": "code",
        "outputId": "4d2422c5-c9a9-49d6-d2ee-b06dd0824306",
        "colab": {
          "base_uri": "https://localhost:8080/",
          "height": 119
        }
      },
      "source": [
        "pip install surprise"
      ],
      "execution_count": 1,
      "outputs": [
        {
          "output_type": "stream",
          "text": [
            "Requirement already satisfied: surprise in /usr/local/lib/python3.6/dist-packages (0.1)\n",
            "Requirement already satisfied: scikit-surprise in /usr/local/lib/python3.6/dist-packages (from surprise) (1.1.0)\n",
            "Requirement already satisfied: scipy>=1.0.0 in /usr/local/lib/python3.6/dist-packages (from scikit-surprise->surprise) (1.4.1)\n",
            "Requirement already satisfied: numpy>=1.11.2 in /usr/local/lib/python3.6/dist-packages (from scikit-surprise->surprise) (1.17.5)\n",
            "Requirement already satisfied: six>=1.10.0 in /usr/local/lib/python3.6/dist-packages (from scikit-surprise->surprise) (1.12.0)\n",
            "Requirement already satisfied: joblib>=0.11 in /usr/local/lib/python3.6/dist-packages (from scikit-surprise->surprise) (0.14.1)\n"
          ],
          "name": "stdout"
        }
      ]
    },
    {
      "cell_type": "code",
      "metadata": {
        "id": "fE4UDRPV1KeA",
        "colab_type": "code",
        "colab": {}
      },
      "source": [
        "import pandas as pd\n",
        "\n",
        "from surprise import SVD, SVDpp, NMF\n",
        "from surprise import Dataset\n",
        "from surprise import Reader\n",
        "from surprise.model_selection import cross_validate, GridSearchCV#, train_test_split\n",
        "\n",
        "from sklearn.model_selection import train_test_split\n",
        "\n",
        "random_state = 8182868"
      ],
      "execution_count": 0,
      "outputs": []
    },
    {
      "cell_type": "code",
      "metadata": {
        "id": "HZdyps9oazhu",
        "colab_type": "code",
        "outputId": "da95c630-1187-454c-96ce-936f79ed7dc3",
        "colab": {
          "base_uri": "https://localhost:8080/",
          "height": 71
        }
      },
      "source": [
        "df = pd.read_csv(\"https://s3.us-east-2.amazonaws.com/my.anime.list.sagemaker/surprise/custom_dataset.csv\", index_col=0)\n",
        "df = df[[\"username\", \"anime_id\", \"my_score\"]]\n",
        "X = df.drop(columns=\"my_score\")\n",
        "y = df[\"my_score\"]\n",
        "X, _, y, _ = train_test_split(X, y, stratify=y, test_size=.99, train_size=.01, random_state=random_state)\n",
        "sample = pd.concat([X, y], axis=1)"
      ],
      "execution_count": 3,
      "outputs": [
        {
          "output_type": "stream",
          "text": [
            "/usr/local/lib/python3.6/dist-packages/numpy/lib/arraysetops.py:568: FutureWarning: elementwise comparison failed; returning scalar instead, but in the future will perform elementwise comparison\n",
            "  mask |= (ar1 == a)\n"
          ],
          "name": "stderr"
        }
      ]
    },
    {
      "cell_type": "code",
      "metadata": {
        "id": "hgmfXWVEkmTu",
        "colab_type": "code",
        "colab": {}
      },
      "source": [
        "reader = Reader(rating_scale=(1, 10))\n",
        "data = Dataset.load_from_df(sample, reader)"
      ],
      "execution_count": 0,
      "outputs": []
    },
    {
      "cell_type": "code",
      "metadata": {
        "id": "k5AUVe62cffs",
        "colab_type": "code",
        "outputId": "3f7becfb-2858-4c96-b1ce-a7c2dad9903a",
        "colab": {
          "base_uri": "https://localhost:8080/",
          "height": 119
        }
      },
      "source": [
        "%%time\n",
        "cross_validate(SVD(), data, cv=2)"
      ],
      "execution_count": 5,
      "outputs": [
        {
          "output_type": "stream",
          "text": [
            "CPU times: user 18.1 s, sys: 92.4 ms, total: 18.2 s\n",
            "Wall time: 18.2 s\n"
          ],
          "name": "stdout"
        },
        {
          "output_type": "execute_result",
          "data": {
            "text/plain": [
              "{'fit_time': (7.587606191635132, 7.559513330459595),\n",
              " 'test_mae': array([1.17256245, 1.16578542]),\n",
              " 'test_rmse': array([1.53556118, 1.52356704]),\n",
              " 'test_time': (0.8626222610473633, 0.9665155410766602)}"
            ]
          },
          "metadata": {
            "tags": []
          },
          "execution_count": 5
        }
      ]
    },
    {
      "cell_type": "code",
      "metadata": {
        "id": "9MHnVeMFawQn",
        "colab_type": "code",
        "colab": {
          "base_uri": "https://localhost:8080/",
          "height": 119
        },
        "outputId": "18b6fee5-920f-49dc-c74c-6f44f33f92e1"
      },
      "source": [
        "%%time\n",
        "cross_validate(SVDpp(), data, cv=2)"
      ],
      "execution_count": 6,
      "outputs": [
        {
          "output_type": "stream",
          "text": [
            "CPU times: user 32.4 s, sys: 88 ms, total: 32.4 s\n",
            "Wall time: 32.4 s\n"
          ],
          "name": "stdout"
        },
        {
          "output_type": "execute_result",
          "data": {
            "text/plain": [
              "{'fit_time': (13.42878770828247, 13.746953010559082),\n",
              " 'test_mae': array([1.18388135, 1.18248963]),\n",
              " 'test_rmse': array([1.54040196, 1.53759737]),\n",
              " 'test_time': (1.6636502742767334, 1.6989991664886475)}"
            ]
          },
          "metadata": {
            "tags": []
          },
          "execution_count": 6
        }
      ]
    },
    {
      "cell_type": "code",
      "metadata": {
        "id": "e1UzV1jPct-W",
        "colab_type": "code",
        "colab": {
          "base_uri": "https://localhost:8080/",
          "height": 119
        },
        "outputId": "a08d894a-8351-4c90-dd21-21c21aec48e0"
      },
      "source": [
        "%%time\n",
        "cross_validate(NMF(), data, cv=2)"
      ],
      "execution_count": 7,
      "outputs": [
        {
          "output_type": "stream",
          "text": [
            "CPU times: user 26.9 s, sys: 113 ms, total: 27.1 s\n",
            "Wall time: 27 s\n"
          ],
          "name": "stdout"
        },
        {
          "output_type": "execute_result",
          "data": {
            "text/plain": [
              "{'fit_time': (11.913732290267944, 11.407222032546997),\n",
              " 'test_mae': array([2.09566739, 2.09455034]),\n",
              " 'test_rmse': array([2.49705968, 2.49679394]),\n",
              " 'test_time': (0.8375627994537354, 0.880028486251831)}"
            ]
          },
          "metadata": {
            "tags": []
          },
          "execution_count": 7
        }
      ]
    },
    {
      "cell_type": "code",
      "metadata": {
        "id": "7xMheefxjmF3",
        "colab_type": "code",
        "colab": {}
      },
      "source": [
        "%%time\n",
        "param_grid = {'n_epochs': [20], 'lr_all': [0.005],\n",
        "              'reg_all': [0.02]}\n",
        "gs = GridSearchCV(SVD, param_grid, measures=['rmse'], cv=10)\n",
        "\n",
        "gs.fit(data)\n",
        "\n",
        "# best RMSE score\n",
        "print(gs.best_score['rmse'])\n",
        "\n",
        "# combination of parameters that gave the best RMSE score\n",
        "print(gs.best_params['rmse'])"
      ],
      "execution_count": 0,
      "outputs": []
    },
    {
      "cell_type": "code",
      "metadata": {
        "id": "FBBdKG2Vne14",
        "colab_type": "code",
        "colab": {}
      },
      "source": [
        "algo = gs.best_estimator['rmse']\n",
        "\n",
        "X_train, X_test, y_train, y_test = train_test_split(X, y, stratify=y, train_size=.8, test_size=.2, random_state=random_state)\n",
        "train = pd.concat([X_train, y_train], axis=1)\n",
        "train = Dataset.load_from_df(train, reader)\n",
        "\n",
        "algo.fit(train.build_full_trainset())"
      ],
      "execution_count": 0,
      "outputs": []
    },
    {
      "cell_type": "code",
      "metadata": {
        "id": "9v6cV60hpRG9",
        "colab_type": "code",
        "colab": {}
      },
      "source": [
        "algo.predict(X_test[\"username\"].iloc[0], X_test[\"anime_id\"].iloc[0]), y_test.iloc[0]"
      ],
      "execution_count": 0,
      "outputs": []
    },
    {
      "cell_type": "code",
      "metadata": {
        "id": "kLL6-6aA9yyt",
        "colab_type": "code",
        "colab": {}
      },
      "source": [
        ""
      ],
      "execution_count": 0,
      "outputs": []
    },
    {
      "cell_type": "code",
      "metadata": {
        "id": "lvhz9-5AAbyN",
        "colab_type": "code",
        "colab": {}
      },
      "source": [
        "train = pd.read_csv(\"https://s3.us-east-2.amazonaws.com/my.anime.list.sagemaker/sagemaker/train_sagemaker_one_percent.csv\", index_col=0)\n",
        "test = pd.read_csv(\"https://s3.us-east-2.amazonaws.com/my.anime.list.sagemaker/sagemaker/test_sagemaker_one_percent.csv\", index_col=0)"
      ],
      "execution_count": 0,
      "outputs": []
    },
    {
      "cell_type": "code",
      "metadata": {
        "id": "FHWoMSAfJ2Hd",
        "colab_type": "code",
        "colab": {}
      },
      "source": [
        "train.isna().sum()"
      ],
      "execution_count": 0,
      "outputs": []
    },
    {
      "cell_type": "code",
      "metadata": {
        "id": "DWjDXeclJ6yC",
        "colab_type": "code",
        "colab": {}
      },
      "source": [
        "test.head(1)"
      ],
      "execution_count": 0,
      "outputs": []
    },
    {
      "cell_type": "code",
      "metadata": {
        "id": "dt-QlWUq1Oid",
        "colab_type": "code",
        "colab": {}
      },
      "source": [
        ""
      ],
      "execution_count": 0,
      "outputs": []
    }
  ]
}