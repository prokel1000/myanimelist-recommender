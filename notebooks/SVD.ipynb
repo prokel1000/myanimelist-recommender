{
  "nbformat": 4,
  "nbformat_minor": 0,
  "metadata": {
    "colab": {
      "name": "SVD.ipynb",
      "provenance": [],
      "collapsed_sections": [],
      "machine_shape": "hm",
      "mount_file_id": "1fOLxwlpmdysZ7WDCXWtdtDUr7XcJYzPw",
      "authorship_tag": "ABX9TyNV5JWGOGs4/mdjQW5siMpB",
      "include_colab_link": true
    },
    "kernelspec": {
      "name": "python3",
      "display_name": "Python 3"
    },
    "accelerator": "GPU"
  },
  "cells": [
    {
      "cell_type": "markdown",
      "metadata": {
        "id": "view-in-github",
        "colab_type": "text"
      },
      "source": [
        "<a href=\"https://colab.research.google.com/github/robert-myers/myanimelist-recommender/blob/master/notebooks/SVD.ipynb\" target=\"_parent\"><img src=\"https://colab.research.google.com/assets/colab-badge.svg\" alt=\"Open In Colab\"/></a>"
      ]
    },
    {
      "cell_type": "code",
      "metadata": {
        "id": "b-dzMs0W-0L1",
        "colab_type": "code",
        "colab": {}
      },
      "source": [
        "pip install surprise"
      ],
      "execution_count": 0,
      "outputs": []
    },
    {
      "cell_type": "code",
      "metadata": {
        "id": "fE4UDRPV1KeA",
        "colab_type": "code",
        "colab": {}
      },
      "source": [
        "import numpy as np\n",
        "import pandas as pd\n",
        "import random\n",
        "\n",
        "from surprise import accuracy, Dataset, SVD, SVDpp, NMF, Reader\n",
        "from surprise.dump import dump\n",
        "from surprise.model_selection import cross_validate, GridSearchCV, train_test_split\n",
        "\n",
        "my_seed = 8182868\n",
        "random.seed(my_seed)\n",
        "np.random.seed(my_seed)"
      ],
      "execution_count": 0,
      "outputs": []
    },
    {
      "cell_type": "code",
      "metadata": {
        "id": "zNC9-nUrddro",
        "colab_type": "code",
        "outputId": "4ae5a55b-d810-4fd6-d75a-54aa2b74ea3d",
        "colab": {
          "base_uri": "https://localhost:8080/",
          "height": 51
        }
      },
      "source": [
        "%%time\n",
        "# Creation of the dataframe.\n",
        "df = pd.read_csv(\"https://s3.us-east-2.amazonaws.com/my.anime.list.sagemaker/surprise/uid_iid_rating.zip\")"
      ],
      "execution_count": 0,
      "outputs": [
        {
          "output_type": "stream",
          "text": [
            "CPU times: user 13.8 s, sys: 1.61 s, total: 15.4 s\n",
            "Wall time: 17.3 s\n"
          ],
          "name": "stdout"
        }
      ]
    },
    {
      "cell_type": "code",
      "metadata": {
        "id": "4XvwjfN9XN5k",
        "colab_type": "code",
        "outputId": "2539a21c-2b3b-46d8-a945-6120d89c3a1b",
        "colab": {
          "base_uri": "https://localhost:8080/",
          "height": 51
        }
      },
      "source": [
        "%%time\n",
        "# A reader is needed but only the rating_scale param is requiered.\n",
        "reader = Reader(rating_scale=(1, 10))\n",
        "\n",
        "# The columns must correspond to user id, item id and ratings (in that order).\n",
        "data = Dataset.load_from_df(df[['username', 'anime_id', 'my_score']], reader)\n",
        "\n",
        "# sample random trainset and testset\n",
        "# test set is made of 1% of the ratings.\n",
        "trainset, testset = train_test_split(data, train_size=.99, test_size=.01)"
      ],
      "execution_count": 0,
      "outputs": [
        {
          "output_type": "stream",
          "text": [
            "CPU times: user 3min 16s, sys: 6.32 s, total: 3min 22s\n",
            "Wall time: 3min 22s\n"
          ],
          "name": "stdout"
        }
      ]
    },
    {
      "cell_type": "code",
      "metadata": {
        "id": "E6gZBobJRQgm",
        "colab_type": "code",
        "outputId": "a41bfb58-e14d-496b-f720-fe6075163b17",
        "colab": {
          "base_uri": "https://localhost:8080/",
          "height": 68
        }
      },
      "source": [
        "%%time\n",
        "algo = SVD()\n",
        "predictions = algo.fit(trainset).test(testset)\n",
        "accuracy.rmse(predictions)"
      ],
      "execution_count": 0,
      "outputs": [
        {
          "output_type": "stream",
          "text": [
            "RMSE: 1.1859\n",
            "CPU times: user 42min 4s, sys: 481 ms, total: 42min 5s\n",
            "Wall time: 42min 6s\n"
          ],
          "name": "stdout"
        }
      ]
    },
    {
      "cell_type": "code",
      "metadata": {
        "id": "1c_hsnJV757_",
        "colab_type": "code",
        "colab": {
          "base_uri": "https://localhost:8080/",
          "height": 51
        },
        "outputId": "4cabc721-4e6f-4a9f-dfd1-a9d7474d0b91"
      },
      "source": [
        "accuracy.rmse(predictions), accuracy.mae(predictions);"
      ],
      "execution_count": 11,
      "outputs": [
        {
          "output_type": "stream",
          "text": [
            "RMSE: 1.1859\n",
            "MAE:  0.8652\n"
          ],
          "name": "stdout"
        }
      ]
    }
  ]
}