{
  "nbformat": 4,
  "nbformat_minor": 0,
  "metadata": {
    "colab": {
      "name": "mal_recommender.ipynb",
      "provenance": [],
      "collapsed_sections": [],
      "toc_visible": true,
      "machine_shape": "hm",
      "authorship_tag": "ABX9TyM+KG4Cy7JCMuqi2o924Mcm",
      "include_colab_link": true
    },
    "kernelspec": {
      "name": "python3",
      "display_name": "Python 3"
    },
    "accelerator": "TPU"
  },
  "cells": [
    {
      "cell_type": "markdown",
      "metadata": {
        "id": "view-in-github",
        "colab_type": "text"
      },
      "source": [
        "<a href=\"https://colab.research.google.com/github/robert-myers/myanimelist-recommender/blob/master/notebooks/mal_recommender.ipynb\" target=\"_parent\"><img src=\"https://colab.research.google.com/assets/colab-badge.svg\" alt=\"Open In Colab\"/></a>"
      ]
    },
    {
      "cell_type": "code",
      "metadata": {
        "id": "3j5lHvPsfk4u",
        "colab_type": "code",
        "colab": {}
      },
      "source": [
        "pip install jikanpy && pip install scikit-surprise && pip install --upgrade pandas"
      ],
      "execution_count": 0,
      "outputs": []
    },
    {
      "cell_type": "code",
      "metadata": {
        "id": "LQBLsRShD0ET",
        "colab_type": "code",
        "outputId": "51f1f0cc-24ce-4b7d-a605-e8e358772dfb",
        "colab": {
          "base_uri": "https://localhost:8080/",
          "height": 34
        }
      },
      "source": [
        "%tensorflow_version 2.x"
      ],
      "execution_count": 0,
      "outputs": [
        {
          "output_type": "stream",
          "text": [
            "TensorFlow 2.x selected.\n"
          ],
          "name": "stdout"
        }
      ]
    },
    {
      "cell_type": "code",
      "metadata": {
        "id": "2hX7vs0toVhL",
        "colab_type": "code",
        "colab": {}
      },
      "source": [
        "import ast\n",
        "import matplotlib.pyplot as plt\n",
        "import numpy as np\n",
        "import pandas as pd\n",
        "import surprise as sp\n",
        "\n",
        "from jikanpy import Jikan\n",
        "from surprise import Dataset, NormalPredictor, Reader\n",
        "from surprise.model_selection import cross_validate, train_test_split"
      ],
      "execution_count": 0,
      "outputs": []
    },
    {
      "cell_type": "code",
      "metadata": {
        "id": "k8h1Mnggfrla",
        "colab_type": "code",
        "colab": {}
      },
      "source": [
        "jikan = Jikan()"
      ],
      "execution_count": 0,
      "outputs": []
    },
    {
      "cell_type": "code",
      "metadata": {
        "id": "ZG25MNgz9n4M",
        "colab_type": "code",
        "outputId": "69a6b962-e685-4f8c-d6c1-8d230dd0010b",
        "colab": {
          "base_uri": "https://localhost:8080/",
          "height": 51
        }
      },
      "source": [
        "%%time\n",
        "\n",
        "anime_lists_df = pd.read_csv(\"https://s3.us-east-2.amazonaws.com/my.anime.list.sagemaker/myanimelist/animelists_cleaned.csv\",\n",
        "                             parse_dates=[\"my_last_updated\"],\n",
        "                             ).drop(columns=[\"my_start_date\", \"my_finish_date\"])\n",
        "anime_lists_df = anime_lists_df[anime_lists_df[\"my_score\"] != 0]\n",
        "anime_lists_df = anime_lists_df[anime_lists_df[\"username\"].notna()]"
      ],
      "execution_count": 0,
      "outputs": [
        {
          "output_type": "stream",
          "text": [
            "CPU times: user 52.2 s, sys: 9.92 s, total: 1min 2s\n",
            "Wall time: 1min 28s\n"
          ],
          "name": "stdout"
        }
      ]
    },
    {
      "cell_type": "code",
      "metadata": {
        "id": "ZWE2IZ97MMnQ",
        "colab_type": "code",
        "colab": {}
      },
      "source": [
        "anime_lists_by_user = anime_lists_df.groupby(\"username\")\n",
        "anime_lists_by_anime = anime_lists_df.groupby(\"anime_id\")"
      ],
      "execution_count": 0,
      "outputs": []
    },
    {
      "cell_type": "code",
      "metadata": {
        "id": "0IA0Jp_sNibq",
        "colab_type": "code",
        "colab": {}
      },
      "source": [
        "users_df = pd.read_csv(\"https://s3.amazonaws.com/my.anime.list/myanimelist/users_cleaned.csv\",\n",
        "                       parse_dates=[\"birth_date\",\t\"join_date\",\t\"last_online\"],\n",
        "                       index_col=\"user_id\",\n",
        "                       ).drop(columns=[\"access_rank\"])"
      ],
      "execution_count": 0,
      "outputs": []
    },
    {
      "cell_type": "code",
      "metadata": {
        "id": "zlkAbKU2NkRT",
        "colab_type": "code",
        "colab": {}
      },
      "source": [
        "anime_df = pd.read_csv(\"https://s3.us-east-2.amazonaws.com/my.anime.list.sagemaker/myanimelist/anime_cleaned.csv\",\n",
        "                       index_col=\"anime_id\",\n",
        "                       )"
      ],
      "execution_count": 0,
      "outputs": []
    },
    {
      "cell_type": "code",
      "metadata": {
        "id": "8j7PNYf0ZrMp",
        "colab_type": "code",
        "colab": {}
      },
      "source": [
        "def lit_eval(row):\n",
        "  try:\n",
        "    return ast.literal_eval(row)\n",
        "  except:\n",
        "    return ast.literal_eval(str(row))\n",
        "\n",
        "anime_df[\"aired\"] = anime_df[\"aired\"].apply(lambda row: lit_eval(row))\n",
        "anime_df[\"aired_from\"] = anime_df[\"aired\"].apply(lambda x: x[\"from\"])\n",
        "anime_df[\"aired_to\"] = anime_df[\"aired\"].apply(lambda x: x[\"to\"])\n",
        "anime_df[\"aired_from\"] = pd.to_datetime(anime_df[\"aired_from\"])\n",
        "anime_df[\"aired_to\"] = pd.to_datetime(anime_df[\"aired_to\"])\n",
        "# anime_df[\"aired_from_year\"] = pd.to_datetime(anime_df[\"aired_from_year\"], format=\"%Y\")\n",
        "anime_df.drop(columns=[\"aired_string\", \"aired\", \"aired_from_year\"], inplace=True)"
      ],
      "execution_count": 0,
      "outputs": []
    },
    {
      "cell_type": "code",
      "metadata": {
        "id": "spqvrq9KB_2b",
        "colab_type": "code",
        "colab": {}
      },
      "source": [
        "custom_df = pd.read_csv(\"https://s3.amazonaws.com/my.anime.list/surprise/custom_dataset.csv\").drop(columns=\"Unnamed: 0\")\n",
        "custom_df.rename(columns={\"username\": \"userID\", \"anime_id\": \"itemID\", \"my_score\": \"rating\"}, inplace=True)\n",
        "custom_df = custom_df[['userID', 'itemID', 'rating']]"
      ],
      "execution_count": 0,
      "outputs": []
    },
    {
      "cell_type": "code",
      "metadata": {
        "id": "gnkDcVQvCuJv",
        "colab_type": "code",
        "outputId": "5a91b032-5664-4b64-e853-7def6c81e5a8",
        "colab": {
          "base_uri": "https://localhost:8080/",
          "height": 204
        }
      },
      "source": [
        "custom_df.tail()"
      ],
      "execution_count": 0,
      "outputs": [
        {
          "output_type": "execute_result",
          "data": {
            "text/html": [
              "<div>\n",
              "<style scoped>\n",
              "    .dataframe tbody tr th:only-of-type {\n",
              "        vertical-align: middle;\n",
              "    }\n",
              "\n",
              "    .dataframe tbody tr th {\n",
              "        vertical-align: top;\n",
              "    }\n",
              "\n",
              "    .dataframe thead th {\n",
              "        text-align: right;\n",
              "    }\n",
              "</style>\n",
              "<table border=\"1\" class=\"dataframe\">\n",
              "  <thead>\n",
              "    <tr style=\"text-align: right;\">\n",
              "      <th></th>\n",
              "      <th>userID</th>\n",
              "      <th>itemID</th>\n",
              "      <th>rating</th>\n",
              "    </tr>\n",
              "  </thead>\n",
              "  <tbody>\n",
              "    <tr>\n",
              "      <th>19171945</th>\n",
              "      <td>4862000</td>\n",
              "      <td>15611</td>\n",
              "      <td>9</td>\n",
              "    </tr>\n",
              "    <tr>\n",
              "      <th>19171946</th>\n",
              "      <td>4862000</td>\n",
              "      <td>27815</td>\n",
              "      <td>9</td>\n",
              "    </tr>\n",
              "    <tr>\n",
              "      <th>19171947</th>\n",
              "      <td>299167</td>\n",
              "      <td>5945</td>\n",
              "      <td>8</td>\n",
              "    </tr>\n",
              "    <tr>\n",
              "      <th>19171948</th>\n",
              "      <td>263803</td>\n",
              "      <td>1316</td>\n",
              "      <td>9</td>\n",
              "    </tr>\n",
              "    <tr>\n",
              "      <th>19171949</th>\n",
              "      <td>48074</td>\n",
              "      <td>1744</td>\n",
              "      <td>10</td>\n",
              "    </tr>\n",
              "  </tbody>\n",
              "</table>\n",
              "</div>"
            ],
            "text/plain": [
              "           userID  itemID  rating\n",
              "19171945  4862000   15611       9\n",
              "19171946  4862000   27815       9\n",
              "19171947   299167    5945       8\n",
              "19171948   263803    1316       9\n",
              "19171949    48074    1744      10"
            ]
          },
          "metadata": {
            "tags": []
          },
          "execution_count": 7
        }
      ]
    },
    {
      "cell_type": "markdown",
      "metadata": {
        "id": "vQt4cbK-GFQK",
        "colab_type": "text"
      },
      "source": [
        "## anime_lists_df"
      ]
    },
    {
      "cell_type": "code",
      "metadata": {
        "id": "271dQa-aFOGI",
        "colab_type": "code",
        "outputId": "941761e8-db7b-43a8-a5b2-356bf1ff9982",
        "colab": {
          "base_uri": "https://localhost:8080/",
          "height": 187
        }
      },
      "source": [
        "anime_lists_df.isna().sum()"
      ],
      "execution_count": 0,
      "outputs": [
        {
          "output_type": "execute_result",
          "data": {
            "text/plain": [
              "username                      0\n",
              "anime_id                      0\n",
              "my_watched_episodes           0\n",
              "my_score                      0\n",
              "my_status                     0\n",
              "my_rewatching           5059315\n",
              "my_rewatching_ep              0\n",
              "my_last_updated               0\n",
              "my_tags                17522052\n",
              "dtype: int64"
            ]
          },
          "metadata": {
            "tags": []
          },
          "execution_count": 45
        }
      ]
    },
    {
      "cell_type": "code",
      "metadata": {
        "id": "y3czqR4Eaj31",
        "colab_type": "code",
        "colab": {}
      },
      "source": [
        "train_data, test_data, _ = np.split(data.sample(frac=1, random_state=123), \n",
        "                                                  [int(0.95 * len(data)), int(len(data))])"
      ],
      "execution_count": 0,
      "outputs": []
    },
    {
      "cell_type": "code",
      "metadata": {
        "id": "mYm2D48FFHhS",
        "colab_type": "code",
        "outputId": "bf23b793-2ec1-4a05-b3d6-35ba6d5b93b3",
        "colab": {
          "base_uri": "https://localhost:8080/",
          "height": 419
        }
      },
      "source": [
        "anime_lists_df"
      ],
      "execution_count": 0,
      "outputs": [
        {
          "output_type": "execute_result",
          "data": {
            "text/html": [
              "<div>\n",
              "<style scoped>\n",
              "    .dataframe tbody tr th:only-of-type {\n",
              "        vertical-align: middle;\n",
              "    }\n",
              "\n",
              "    .dataframe tbody tr th {\n",
              "        vertical-align: top;\n",
              "    }\n",
              "\n",
              "    .dataframe thead th {\n",
              "        text-align: right;\n",
              "    }\n",
              "</style>\n",
              "<table border=\"1\" class=\"dataframe\">\n",
              "  <thead>\n",
              "    <tr style=\"text-align: right;\">\n",
              "      <th></th>\n",
              "      <th>username</th>\n",
              "      <th>anime_id</th>\n",
              "      <th>my_watched_episodes</th>\n",
              "      <th>my_score</th>\n",
              "      <th>my_status</th>\n",
              "      <th>my_rewatching</th>\n",
              "      <th>my_rewatching_ep</th>\n",
              "      <th>my_last_updated</th>\n",
              "      <th>my_tags</th>\n",
              "    </tr>\n",
              "  </thead>\n",
              "  <tbody>\n",
              "    <tr>\n",
              "      <th>0</th>\n",
              "      <td>karthiga</td>\n",
              "      <td>21</td>\n",
              "      <td>586</td>\n",
              "      <td>9</td>\n",
              "      <td>1</td>\n",
              "      <td>NaN</td>\n",
              "      <td>0</td>\n",
              "      <td>2013-03-03 10:52:53</td>\n",
              "      <td>NaN</td>\n",
              "    </tr>\n",
              "    <tr>\n",
              "      <th>1</th>\n",
              "      <td>karthiga</td>\n",
              "      <td>59</td>\n",
              "      <td>26</td>\n",
              "      <td>7</td>\n",
              "      <td>2</td>\n",
              "      <td>NaN</td>\n",
              "      <td>0</td>\n",
              "      <td>2013-03-10 13:54:51</td>\n",
              "      <td>NaN</td>\n",
              "    </tr>\n",
              "    <tr>\n",
              "      <th>2</th>\n",
              "      <td>karthiga</td>\n",
              "      <td>74</td>\n",
              "      <td>26</td>\n",
              "      <td>7</td>\n",
              "      <td>2</td>\n",
              "      <td>NaN</td>\n",
              "      <td>0</td>\n",
              "      <td>2013-04-27 16:43:35</td>\n",
              "      <td>NaN</td>\n",
              "    </tr>\n",
              "    <tr>\n",
              "      <th>3</th>\n",
              "      <td>karthiga</td>\n",
              "      <td>120</td>\n",
              "      <td>26</td>\n",
              "      <td>7</td>\n",
              "      <td>2</td>\n",
              "      <td>NaN</td>\n",
              "      <td>0</td>\n",
              "      <td>2013-03-03 10:53:57</td>\n",
              "      <td>NaN</td>\n",
              "    </tr>\n",
              "    <tr>\n",
              "      <th>4</th>\n",
              "      <td>karthiga</td>\n",
              "      <td>178</td>\n",
              "      <td>26</td>\n",
              "      <td>7</td>\n",
              "      <td>2</td>\n",
              "      <td>0.0</td>\n",
              "      <td>0</td>\n",
              "      <td>2013-03-27 15:59:13</td>\n",
              "      <td>NaN</td>\n",
              "    </tr>\n",
              "    <tr>\n",
              "      <th>...</th>\n",
              "      <td>...</td>\n",
              "      <td>...</td>\n",
              "      <td>...</td>\n",
              "      <td>...</td>\n",
              "      <td>...</td>\n",
              "      <td>...</td>\n",
              "      <td>...</td>\n",
              "      <td>...</td>\n",
              "      <td>...</td>\n",
              "    </tr>\n",
              "    <tr>\n",
              "      <th>31284025</th>\n",
              "      <td>Yokonightcore</td>\n",
              "      <td>15611</td>\n",
              "      <td>48</td>\n",
              "      <td>9</td>\n",
              "      <td>1</td>\n",
              "      <td>NaN</td>\n",
              "      <td>0</td>\n",
              "      <td>2015-09-07 17:33:03</td>\n",
              "      <td>NaN</td>\n",
              "    </tr>\n",
              "    <tr>\n",
              "      <th>31284026</th>\n",
              "      <td>Yokonightcore</td>\n",
              "      <td>27815</td>\n",
              "      <td>22</td>\n",
              "      <td>9</td>\n",
              "      <td>1</td>\n",
              "      <td>NaN</td>\n",
              "      <td>0</td>\n",
              "      <td>2015-09-07 17:32:05</td>\n",
              "      <td>NaN</td>\n",
              "    </tr>\n",
              "    <tr>\n",
              "      <th>31284027</th>\n",
              "      <td>wargod</td>\n",
              "      <td>5945</td>\n",
              "      <td>39</td>\n",
              "      <td>8</td>\n",
              "      <td>2</td>\n",
              "      <td>0.0</td>\n",
              "      <td>0</td>\n",
              "      <td>2010-03-29 04:24:12</td>\n",
              "      <td>NaN</td>\n",
              "    </tr>\n",
              "    <tr>\n",
              "      <th>31284028</th>\n",
              "      <td>JMc_SetoKai_LoVe</td>\n",
              "      <td>1316</td>\n",
              "      <td>52</td>\n",
              "      <td>9</td>\n",
              "      <td>2</td>\n",
              "      <td>NaN</td>\n",
              "      <td>0</td>\n",
              "      <td>2009-12-23 05:45:14</td>\n",
              "      <td>NaN</td>\n",
              "    </tr>\n",
              "    <tr>\n",
              "      <th>31284029</th>\n",
              "      <td>hinogurl_mikha</td>\n",
              "      <td>1744</td>\n",
              "      <td>58</td>\n",
              "      <td>10</td>\n",
              "      <td>1</td>\n",
              "      <td>0.0</td>\n",
              "      <td>0</td>\n",
              "      <td>2008-04-05 11:36:20</td>\n",
              "      <td>NaN</td>\n",
              "    </tr>\n",
              "  </tbody>\n",
              "</table>\n",
              "<p>19171950 rows × 9 columns</p>\n",
              "</div>"
            ],
            "text/plain": [
              "                  username  anime_id  ...     my_last_updated  my_tags\n",
              "0                 karthiga        21  ... 2013-03-03 10:52:53      NaN\n",
              "1                 karthiga        59  ... 2013-03-10 13:54:51      NaN\n",
              "2                 karthiga        74  ... 2013-04-27 16:43:35      NaN\n",
              "3                 karthiga       120  ... 2013-03-03 10:53:57      NaN\n",
              "4                 karthiga       178  ... 2013-03-27 15:59:13      NaN\n",
              "...                    ...       ...  ...                 ...      ...\n",
              "31284025     Yokonightcore     15611  ... 2015-09-07 17:33:03      NaN\n",
              "31284026     Yokonightcore     27815  ... 2015-09-07 17:32:05      NaN\n",
              "31284027            wargod      5945  ... 2010-03-29 04:24:12      NaN\n",
              "31284028  JMc_SetoKai_LoVe      1316  ... 2009-12-23 05:45:14      NaN\n",
              "31284029    hinogurl_mikha      1744  ... 2008-04-05 11:36:20      NaN\n",
              "\n",
              "[19171950 rows x 9 columns]"
            ]
          },
          "metadata": {
            "tags": []
          },
          "execution_count": 187
        }
      ]
    },
    {
      "cell_type": "code",
      "metadata": {
        "id": "kEkZAqJwgbh3",
        "colab_type": "code",
        "outputId": "9f7c8e33-7b3f-454a-9024-6012eb9720e9",
        "colab": {
          "base_uri": "https://localhost:8080/",
          "height": 80
        }
      },
      "source": [
        "anime_lists_by_user.get_group(\"hinogurl_mikha\")"
      ],
      "execution_count": 0,
      "outputs": [
        {
          "output_type": "execute_result",
          "data": {
            "text/html": [
              "<div>\n",
              "<style scoped>\n",
              "    .dataframe tbody tr th:only-of-type {\n",
              "        vertical-align: middle;\n",
              "    }\n",
              "\n",
              "    .dataframe tbody tr th {\n",
              "        vertical-align: top;\n",
              "    }\n",
              "\n",
              "    .dataframe thead th {\n",
              "        text-align: right;\n",
              "    }\n",
              "</style>\n",
              "<table border=\"1\" class=\"dataframe\">\n",
              "  <thead>\n",
              "    <tr style=\"text-align: right;\">\n",
              "      <th></th>\n",
              "      <th>username</th>\n",
              "      <th>anime_id</th>\n",
              "      <th>my_watched_episodes</th>\n",
              "      <th>my_score</th>\n",
              "      <th>my_status</th>\n",
              "      <th>my_rewatching</th>\n",
              "      <th>my_rewatching_ep</th>\n",
              "      <th>my_last_updated</th>\n",
              "      <th>my_tags</th>\n",
              "    </tr>\n",
              "  </thead>\n",
              "  <tbody>\n",
              "    <tr>\n",
              "      <th>31284029</th>\n",
              "      <td>hinogurl_mikha</td>\n",
              "      <td>1744</td>\n",
              "      <td>58</td>\n",
              "      <td>10</td>\n",
              "      <td>1</td>\n",
              "      <td>0.0</td>\n",
              "      <td>0</td>\n",
              "      <td>2008-04-05 11:36:20</td>\n",
              "      <td>NaN</td>\n",
              "    </tr>\n",
              "  </tbody>\n",
              "</table>\n",
              "</div>"
            ],
            "text/plain": [
              "                username  anime_id  ...     my_last_updated  my_tags\n",
              "31284029  hinogurl_mikha      1744  ... 2008-04-05 11:36:20      NaN\n",
              "\n",
              "[1 rows x 9 columns]"
            ]
          },
          "metadata": {
            "tags": []
          },
          "execution_count": 12
        }
      ]
    },
    {
      "cell_type": "code",
      "metadata": {
        "id": "SX91xGTV9umg",
        "colab_type": "code",
        "outputId": "e1f64972-885f-4c07-89c0-632b5a06c295",
        "colab": {
          "base_uri": "https://localhost:8080/",
          "height": 221
        }
      },
      "source": [
        "anime_lists_by_anime[\"my_score\"].mean().sort_values(ascending=False).head(10)"
      ],
      "execution_count": 0,
      "outputs": [
        {
          "output_type": "execute_result",
          "data": {
            "text/plain": [
              "anime_id\n",
              "5114     9.217382\n",
              "28977    9.177290\n",
              "9969     9.136981\n",
              "9253     9.129402\n",
              "32281    9.122810\n",
              "15335    9.094883\n",
              "4181     9.085412\n",
              "15417    9.072807\n",
              "11061    9.053900\n",
              "37179    9.000000\n",
              "Name: my_score, dtype: float64"
            ]
          },
          "metadata": {
            "tags": []
          },
          "execution_count": 13
        }
      ]
    },
    {
      "cell_type": "markdown",
      "metadata": {
        "id": "uBc4M_QyGP6H",
        "colab_type": "text"
      },
      "source": [
        "## users_df"
      ]
    },
    {
      "cell_type": "code",
      "metadata": {
        "id": "SJWyxx0f6lgg",
        "colab_type": "code",
        "outputId": "75ed9b94-a204-438b-e782-eb1915c2c729",
        "colab": {
          "base_uri": "https://localhost:8080/",
          "height": 34
        }
      },
      "source": [
        "custom_df[\"userID\"].nunique()"
      ],
      "execution_count": 0,
      "outputs": [
        {
          "output_type": "execute_result",
          "data": {
            "text/plain": [
              "106401"
            ]
          },
          "metadata": {
            "tags": []
          },
          "execution_count": 214
        }
      ]
    },
    {
      "cell_type": "code",
      "metadata": {
        "id": "bXeE0FofGTSH",
        "colab_type": "code",
        "outputId": "55ebcb33-d70e-4d1a-c77a-5b915df0b93e",
        "colab": {
          "base_uri": "https://localhost:8080/",
          "height": 289
        }
      },
      "source": [
        "users_df.isna().sum()"
      ],
      "execution_count": 0,
      "outputs": [
        {
          "output_type": "execute_result",
          "data": {
            "text/plain": [
              "username                    1\n",
              "user_watching               0\n",
              "user_completed              0\n",
              "user_onhold                 0\n",
              "user_dropped                0\n",
              "user_plantowatch            0\n",
              "user_days_spent_watching    0\n",
              "gender                      0\n",
              "location                    5\n",
              "birth_date                  0\n",
              "join_date                   0\n",
              "last_online                 0\n",
              "stats_mean_score            0\n",
              "stats_rewatched             0\n",
              "stats_episodes              0\n",
              "dtype: int64"
            ]
          },
          "metadata": {
            "tags": []
          },
          "execution_count": 146
        }
      ]
    },
    {
      "cell_type": "code",
      "metadata": {
        "id": "Mk8CQ0KINWP7",
        "colab_type": "code",
        "outputId": "a501d5e8-38f1-4f32-b584-501d2e71feff",
        "colab": {
          "base_uri": "https://localhost:8080/",
          "height": 391
        }
      },
      "source": [
        "users_df.info()"
      ],
      "execution_count": 0,
      "outputs": [
        {
          "output_type": "stream",
          "text": [
            "<class 'pandas.core.frame.DataFrame'>\n",
            "Int64Index: 108711 entries, 2255153 to 1289601\n",
            "Data columns (total 15 columns):\n",
            " #   Column                    Non-Null Count   Dtype         \n",
            "---  ------                    --------------   -----         \n",
            " 0   username                  108710 non-null  object        \n",
            " 1   user_watching             108711 non-null  int64         \n",
            " 2   user_completed            108711 non-null  int64         \n",
            " 3   user_onhold               108711 non-null  int64         \n",
            " 4   user_dropped              108711 non-null  int64         \n",
            " 5   user_plantowatch          108711 non-null  int64         \n",
            " 6   user_days_spent_watching  108711 non-null  float64       \n",
            " 7   gender                    108711 non-null  object        \n",
            " 8   location                  108706 non-null  object        \n",
            " 9   birth_date                108711 non-null  datetime64[ns]\n",
            " 10  join_date                 108711 non-null  datetime64[ns]\n",
            " 11  last_online               108711 non-null  datetime64[ns]\n",
            " 12  stats_mean_score          108711 non-null  float64       \n",
            " 13  stats_rewatched           108711 non-null  float64       \n",
            " 14  stats_episodes            108711 non-null  int64         \n",
            "dtypes: datetime64[ns](3), float64(3), int64(6), object(3)\n",
            "memory usage: 13.3+ MB\n"
          ],
          "name": "stdout"
        }
      ]
    },
    {
      "cell_type": "code",
      "metadata": {
        "id": "13FmGxpL_bh2",
        "colab_type": "code",
        "outputId": "12e5d01e-8552-4344-fbbb-b92b3e38389b",
        "colab": {
          "base_uri": "https://localhost:8080/",
          "height": 640
        }
      },
      "source": [
        "users_df"
      ],
      "execution_count": 0,
      "outputs": [
        {
          "output_type": "execute_result",
          "data": {
            "text/html": [
              "<div>\n",
              "<style scoped>\n",
              "    .dataframe tbody tr th:only-of-type {\n",
              "        vertical-align: middle;\n",
              "    }\n",
              "\n",
              "    .dataframe tbody tr th {\n",
              "        vertical-align: top;\n",
              "    }\n",
              "\n",
              "    .dataframe thead th {\n",
              "        text-align: right;\n",
              "    }\n",
              "</style>\n",
              "<table border=\"1\" class=\"dataframe\">\n",
              "  <thead>\n",
              "    <tr style=\"text-align: right;\">\n",
              "      <th></th>\n",
              "      <th>username</th>\n",
              "      <th>user_watching</th>\n",
              "      <th>user_completed</th>\n",
              "      <th>user_onhold</th>\n",
              "      <th>user_dropped</th>\n",
              "      <th>user_plantowatch</th>\n",
              "      <th>user_days_spent_watching</th>\n",
              "      <th>gender</th>\n",
              "      <th>location</th>\n",
              "      <th>birth_date</th>\n",
              "      <th>join_date</th>\n",
              "      <th>last_online</th>\n",
              "      <th>stats_mean_score</th>\n",
              "      <th>stats_rewatched</th>\n",
              "      <th>stats_episodes</th>\n",
              "    </tr>\n",
              "    <tr>\n",
              "      <th>user_id</th>\n",
              "      <th></th>\n",
              "      <th></th>\n",
              "      <th></th>\n",
              "      <th></th>\n",
              "      <th></th>\n",
              "      <th></th>\n",
              "      <th></th>\n",
              "      <th></th>\n",
              "      <th></th>\n",
              "      <th></th>\n",
              "      <th></th>\n",
              "      <th></th>\n",
              "      <th></th>\n",
              "      <th></th>\n",
              "      <th></th>\n",
              "    </tr>\n",
              "  </thead>\n",
              "  <tbody>\n",
              "    <tr>\n",
              "      <th>2255153</th>\n",
              "      <td>karthiga</td>\n",
              "      <td>3</td>\n",
              "      <td>49</td>\n",
              "      <td>1</td>\n",
              "      <td>0</td>\n",
              "      <td>0</td>\n",
              "      <td>55.091667</td>\n",
              "      <td>Female</td>\n",
              "      <td>Chennai, India</td>\n",
              "      <td>1990-04-29</td>\n",
              "      <td>2013-03-03</td>\n",
              "      <td>2014-02-04 01:32:00</td>\n",
              "      <td>7.43</td>\n",
              "      <td>0.0</td>\n",
              "      <td>3391</td>\n",
              "    </tr>\n",
              "    <tr>\n",
              "      <th>37326</th>\n",
              "      <td>Damonashu</td>\n",
              "      <td>45</td>\n",
              "      <td>195</td>\n",
              "      <td>27</td>\n",
              "      <td>25</td>\n",
              "      <td>59</td>\n",
              "      <td>82.574306</td>\n",
              "      <td>Male</td>\n",
              "      <td>Detroit,Michigan</td>\n",
              "      <td>1991-08-01</td>\n",
              "      <td>2008-02-13</td>\n",
              "      <td>2017-07-10 06:52:54</td>\n",
              "      <td>6.15</td>\n",
              "      <td>6.0</td>\n",
              "      <td>4903</td>\n",
              "    </tr>\n",
              "    <tr>\n",
              "      <th>228342</th>\n",
              "      <td>bskai</td>\n",
              "      <td>25</td>\n",
              "      <td>414</td>\n",
              "      <td>2</td>\n",
              "      <td>5</td>\n",
              "      <td>11</td>\n",
              "      <td>159.483333</td>\n",
              "      <td>Male</td>\n",
              "      <td>Nayarit, Mexico</td>\n",
              "      <td>1990-12-14</td>\n",
              "      <td>2009-08-31</td>\n",
              "      <td>2014-05-12 16:35:00</td>\n",
              "      <td>8.27</td>\n",
              "      <td>1.0</td>\n",
              "      <td>9701</td>\n",
              "    </tr>\n",
              "    <tr>\n",
              "      <th>327311</th>\n",
              "      <td>terune_uzumaki</td>\n",
              "      <td>5</td>\n",
              "      <td>5</td>\n",
              "      <td>0</td>\n",
              "      <td>0</td>\n",
              "      <td>0</td>\n",
              "      <td>11.394444</td>\n",
              "      <td>Female</td>\n",
              "      <td>Malaysia, Kuantan</td>\n",
              "      <td>1998-08-24</td>\n",
              "      <td>2010-05-10</td>\n",
              "      <td>2012-10-18 19:06:00</td>\n",
              "      <td>9.70</td>\n",
              "      <td>6.0</td>\n",
              "      <td>697</td>\n",
              "    </tr>\n",
              "    <tr>\n",
              "      <th>5015094</th>\n",
              "      <td>Bas_G</td>\n",
              "      <td>35</td>\n",
              "      <td>114</td>\n",
              "      <td>6</td>\n",
              "      <td>20</td>\n",
              "      <td>175</td>\n",
              "      <td>30.458333</td>\n",
              "      <td>Male</td>\n",
              "      <td>Nijmegen, Nederland</td>\n",
              "      <td>1999-10-24</td>\n",
              "      <td>2015-11-26</td>\n",
              "      <td>2018-05-10 20:53:37</td>\n",
              "      <td>7.86</td>\n",
              "      <td>0.0</td>\n",
              "      <td>1847</td>\n",
              "    </tr>\n",
              "    <tr>\n",
              "      <th>...</th>\n",
              "      <td>...</td>\n",
              "      <td>...</td>\n",
              "      <td>...</td>\n",
              "      <td>...</td>\n",
              "      <td>...</td>\n",
              "      <td>...</td>\n",
              "      <td>...</td>\n",
              "      <td>...</td>\n",
              "      <td>...</td>\n",
              "      <td>...</td>\n",
              "      <td>...</td>\n",
              "      <td>...</td>\n",
              "      <td>...</td>\n",
              "      <td>...</td>\n",
              "      <td>...</td>\n",
              "    </tr>\n",
              "    <tr>\n",
              "      <th>797785</th>\n",
              "      <td>isoann</td>\n",
              "      <td>14</td>\n",
              "      <td>213</td>\n",
              "      <td>11</td>\n",
              "      <td>20</td>\n",
              "      <td>136</td>\n",
              "      <td>64.372222</td>\n",
              "      <td>Male</td>\n",
              "      <td>Poland:</td>\n",
              "      <td>1997-01-13</td>\n",
              "      <td>2011-10-23</td>\n",
              "      <td>2018-02-25 01:20:27</td>\n",
              "      <td>8.03</td>\n",
              "      <td>2.0</td>\n",
              "      <td>3939</td>\n",
              "    </tr>\n",
              "    <tr>\n",
              "      <th>1396285</th>\n",
              "      <td>bumcakee</td>\n",
              "      <td>13</td>\n",
              "      <td>116</td>\n",
              "      <td>5</td>\n",
              "      <td>9</td>\n",
              "      <td>22</td>\n",
              "      <td>41.365972</td>\n",
              "      <td>Female</td>\n",
              "      <td>nhollywood, california</td>\n",
              "      <td>1998-07-18</td>\n",
              "      <td>2012-07-14</td>\n",
              "      <td>2017-02-14 00:30:00</td>\n",
              "      <td>8.86</td>\n",
              "      <td>24.0</td>\n",
              "      <td>2537</td>\n",
              "    </tr>\n",
              "    <tr>\n",
              "      <th>2478991</th>\n",
              "      <td>Scarlet95</td>\n",
              "      <td>6</td>\n",
              "      <td>103</td>\n",
              "      <td>10</td>\n",
              "      <td>8</td>\n",
              "      <td>54</td>\n",
              "      <td>46.827083</td>\n",
              "      <td>Female</td>\n",
              "      <td>Belgium</td>\n",
              "      <td>1995-10-17</td>\n",
              "      <td>2013-04-24</td>\n",
              "      <td>2016-12-18 08:41:00</td>\n",
              "      <td>7.40</td>\n",
              "      <td>1.0</td>\n",
              "      <td>2869</td>\n",
              "    </tr>\n",
              "    <tr>\n",
              "      <th>3975907</th>\n",
              "      <td>Torasori</td>\n",
              "      <td>22</td>\n",
              "      <td>239</td>\n",
              "      <td>0</td>\n",
              "      <td>4</td>\n",
              "      <td>176</td>\n",
              "      <td>72.361111</td>\n",
              "      <td>Male</td>\n",
              "      <td>Latvia, Riga</td>\n",
              "      <td>1998-11-18</td>\n",
              "      <td>2014-07-30</td>\n",
              "      <td>2018-05-24 21:34:46</td>\n",
              "      <td>8.98</td>\n",
              "      <td>47.0</td>\n",
              "      <td>4469</td>\n",
              "    </tr>\n",
              "    <tr>\n",
              "      <th>1289601</th>\n",
              "      <td>HMicca</td>\n",
              "      <td>11</td>\n",
              "      <td>73</td>\n",
              "      <td>2</td>\n",
              "      <td>2</td>\n",
              "      <td>16</td>\n",
              "      <td>64.431250</td>\n",
              "      <td>Female</td>\n",
              "      <td>Birmingham, England</td>\n",
              "      <td>1995-08-12</td>\n",
              "      <td>2012-05-05</td>\n",
              "      <td>2012-11-15 08:10:00</td>\n",
              "      <td>8.89</td>\n",
              "      <td>11.0</td>\n",
              "      <td>3822</td>\n",
              "    </tr>\n",
              "  </tbody>\n",
              "</table>\n",
              "<p>108711 rows × 15 columns</p>\n",
              "</div>"
            ],
            "text/plain": [
              "               username  user_watching  ...  stats_rewatched  stats_episodes\n",
              "user_id                                 ...                                 \n",
              "2255153        karthiga              3  ...              0.0            3391\n",
              "37326         Damonashu             45  ...              6.0            4903\n",
              "228342            bskai             25  ...              1.0            9701\n",
              "327311   terune_uzumaki              5  ...              6.0             697\n",
              "5015094           Bas_G             35  ...              0.0            1847\n",
              "...                 ...            ...  ...              ...             ...\n",
              "797785           isoann             14  ...              2.0            3939\n",
              "1396285        bumcakee             13  ...             24.0            2537\n",
              "2478991       Scarlet95              6  ...              1.0            2869\n",
              "3975907        Torasori             22  ...             47.0            4469\n",
              "1289601          HMicca             11  ...             11.0            3822\n",
              "\n",
              "[108711 rows x 15 columns]"
            ]
          },
          "metadata": {
            "tags": []
          },
          "execution_count": 16
        }
      ]
    },
    {
      "cell_type": "markdown",
      "metadata": {
        "id": "eh4qiC7SGRxi",
        "colab_type": "text"
      },
      "source": [
        "## anime_df"
      ]
    },
    {
      "cell_type": "code",
      "metadata": {
        "id": "XDdllHcsGhbX",
        "colab_type": "code",
        "outputId": "76a78778-9617-45ea-918a-e02604d353f1",
        "colab": {
          "base_uri": "https://localhost:8080/",
          "height": 561
        }
      },
      "source": [
        "anime_df.isna().sum()"
      ],
      "execution_count": 0,
      "outputs": [
        {
          "output_type": "execute_result",
          "data": {
            "text/plain": [
              "title                0\n",
              "title_english     3230\n",
              "title_japanese       5\n",
              "title_synonyms    2187\n",
              "image_url            2\n",
              "type                 0\n",
              "source               0\n",
              "episodes             0\n",
              "status               0\n",
              "airing               0\n",
              "duration             0\n",
              "rating               0\n",
              "score                0\n",
              "scored_by            0\n",
              "rank               356\n",
              "popularity           0\n",
              "members              0\n",
              "favorites            0\n",
              "background        5855\n",
              "premiered         3702\n",
              "broadcast         3688\n",
              "related              0\n",
              "producer          2266\n",
              "licensor          3881\n",
              "studio               0\n",
              "genre                4\n",
              "opening_theme        0\n",
              "ending_theme         0\n",
              "duration_min         0\n",
              "aired_from         115\n",
              "aired_to           292\n",
              "dtype: int64"
            ]
          },
          "metadata": {
            "tags": []
          },
          "execution_count": 208
        }
      ]
    },
    {
      "cell_type": "code",
      "metadata": {
        "id": "AK-BnWYQe0EW",
        "colab_type": "code",
        "outputId": "9703587a-c439-41dc-a164-7e3fd3d1bb3e",
        "colab": {
          "base_uri": "https://localhost:8080/",
          "height": 663
        }
      },
      "source": [
        "anime_df.info()"
      ],
      "execution_count": 0,
      "outputs": [
        {
          "output_type": "stream",
          "text": [
            "<class 'pandas.core.frame.DataFrame'>\n",
            "Int64Index: 6668 entries, 11013 to 36315\n",
            "Data columns (total 31 columns):\n",
            " #   Column          Non-Null Count  Dtype         \n",
            "---  ------          --------------  -----         \n",
            " 0   title           6668 non-null   object        \n",
            " 1   title_english   3438 non-null   object        \n",
            " 2   title_japanese  6663 non-null   object        \n",
            " 3   title_synonyms  4481 non-null   object        \n",
            " 4   image_url       6666 non-null   object        \n",
            " 5   type            6668 non-null   object        \n",
            " 6   source          6668 non-null   object        \n",
            " 7   episodes        6668 non-null   int64         \n",
            " 8   status          6668 non-null   object        \n",
            " 9   airing          6668 non-null   bool          \n",
            " 10  duration        6668 non-null   object        \n",
            " 11  rating          6668 non-null   object        \n",
            " 12  score           6668 non-null   float64       \n",
            " 13  scored_by       6668 non-null   int64         \n",
            " 14  rank            6312 non-null   float64       \n",
            " 15  popularity      6668 non-null   int64         \n",
            " 16  members         6668 non-null   int64         \n",
            " 17  favorites       6668 non-null   int64         \n",
            " 18  background      813 non-null    object        \n",
            " 19  premiered       2966 non-null   object        \n",
            " 20  broadcast       2980 non-null   object        \n",
            " 21  related         6668 non-null   object        \n",
            " 22  producer        4402 non-null   object        \n",
            " 23  licensor        2787 non-null   object        \n",
            " 24  studio          6668 non-null   object        \n",
            " 25  genre           6664 non-null   object        \n",
            " 26  opening_theme   6668 non-null   object        \n",
            " 27  ending_theme    6668 non-null   object        \n",
            " 28  duration_min    6668 non-null   float64       \n",
            " 29  aired_from      6553 non-null   datetime64[ns]\n",
            " 30  aired_to        6376 non-null   datetime64[ns]\n",
            "dtypes: bool(1), datetime64[ns](2), float64(3), int64(5), object(20)\n",
            "memory usage: 1.6+ MB\n"
          ],
          "name": "stdout"
        }
      ]
    },
    {
      "cell_type": "code",
      "metadata": {
        "id": "cKjDSTjPPeCn",
        "colab_type": "code",
        "outputId": "9f57cabb-b53d-4803-8fe5-52244e5c0625",
        "colab": {
          "base_uri": "https://localhost:8080/",
          "height": 199
        }
      },
      "source": [
        "anime_df.head(1)"
      ],
      "execution_count": 0,
      "outputs": [
        {
          "output_type": "execute_result",
          "data": {
            "text/html": [
              "<div>\n",
              "<style scoped>\n",
              "    .dataframe tbody tr th:only-of-type {\n",
              "        vertical-align: middle;\n",
              "    }\n",
              "\n",
              "    .dataframe tbody tr th {\n",
              "        vertical-align: top;\n",
              "    }\n",
              "\n",
              "    .dataframe thead th {\n",
              "        text-align: right;\n",
              "    }\n",
              "</style>\n",
              "<table border=\"1\" class=\"dataframe\">\n",
              "  <thead>\n",
              "    <tr style=\"text-align: right;\">\n",
              "      <th></th>\n",
              "      <th>title</th>\n",
              "      <th>title_english</th>\n",
              "      <th>title_japanese</th>\n",
              "      <th>title_synonyms</th>\n",
              "      <th>image_url</th>\n",
              "      <th>type</th>\n",
              "      <th>source</th>\n",
              "      <th>episodes</th>\n",
              "      <th>status</th>\n",
              "      <th>airing</th>\n",
              "      <th>duration</th>\n",
              "      <th>rating</th>\n",
              "      <th>score</th>\n",
              "      <th>scored_by</th>\n",
              "      <th>rank</th>\n",
              "      <th>popularity</th>\n",
              "      <th>members</th>\n",
              "      <th>favorites</th>\n",
              "      <th>background</th>\n",
              "      <th>premiered</th>\n",
              "      <th>broadcast</th>\n",
              "      <th>related</th>\n",
              "      <th>producer</th>\n",
              "      <th>licensor</th>\n",
              "      <th>studio</th>\n",
              "      <th>genre</th>\n",
              "      <th>opening_theme</th>\n",
              "      <th>ending_theme</th>\n",
              "      <th>duration_min</th>\n",
              "      <th>aired_from</th>\n",
              "      <th>aired_to</th>\n",
              "    </tr>\n",
              "    <tr>\n",
              "      <th>anime_id</th>\n",
              "      <th></th>\n",
              "      <th></th>\n",
              "      <th></th>\n",
              "      <th></th>\n",
              "      <th></th>\n",
              "      <th></th>\n",
              "      <th></th>\n",
              "      <th></th>\n",
              "      <th></th>\n",
              "      <th></th>\n",
              "      <th></th>\n",
              "      <th></th>\n",
              "      <th></th>\n",
              "      <th></th>\n",
              "      <th></th>\n",
              "      <th></th>\n",
              "      <th></th>\n",
              "      <th></th>\n",
              "      <th></th>\n",
              "      <th></th>\n",
              "      <th></th>\n",
              "      <th></th>\n",
              "      <th></th>\n",
              "      <th></th>\n",
              "      <th></th>\n",
              "      <th></th>\n",
              "      <th></th>\n",
              "      <th></th>\n",
              "      <th></th>\n",
              "      <th></th>\n",
              "      <th></th>\n",
              "    </tr>\n",
              "  </thead>\n",
              "  <tbody>\n",
              "    <tr>\n",
              "      <th>11013</th>\n",
              "      <td>Inu x Boku SS</td>\n",
              "      <td>Inu X Boku Secret Service</td>\n",
              "      <td>妖狐×僕SS</td>\n",
              "      <td>Youko x Boku SS</td>\n",
              "      <td>https://myanimelist.cdn-dena.com/images/anime/...</td>\n",
              "      <td>TV</td>\n",
              "      <td>Manga</td>\n",
              "      <td>12</td>\n",
              "      <td>Finished Airing</td>\n",
              "      <td>False</td>\n",
              "      <td>24 min. per ep.</td>\n",
              "      <td>PG-13 - Teens 13 or older</td>\n",
              "      <td>7.63</td>\n",
              "      <td>139250</td>\n",
              "      <td>1274.0</td>\n",
              "      <td>231</td>\n",
              "      <td>283882</td>\n",
              "      <td>2809</td>\n",
              "      <td>Inu x Boku SS was licensed by Sentai Filmworks...</td>\n",
              "      <td>Winter 2012</td>\n",
              "      <td>Fridays at Unknown</td>\n",
              "      <td>{'Adaptation': [{'mal_id': 17207, 'type': 'man...</td>\n",
              "      <td>Aniplex, Square Enix, Mainichi Broadcasting Sy...</td>\n",
              "      <td>Sentai Filmworks</td>\n",
              "      <td>David Production</td>\n",
              "      <td>Comedy, Supernatural, Romance, Shounen</td>\n",
              "      <td>['\"Nirvana\" by MUCC']</td>\n",
              "      <td>['#1: \"Nirvana\" by MUCC (eps 1, 11-12)', '#2: ...</td>\n",
              "      <td>24.0</td>\n",
              "      <td>2012-01-13</td>\n",
              "      <td>2012-03-30</td>\n",
              "    </tr>\n",
              "  </tbody>\n",
              "</table>\n",
              "</div>"
            ],
            "text/plain": [
              "                  title              title_english  ... aired_from   aired_to\n",
              "anime_id                                            ...                      \n",
              "11013     Inu x Boku SS  Inu X Boku Secret Service  ... 2012-01-13 2012-03-30\n",
              "\n",
              "[1 rows x 31 columns]"
            ]
          },
          "metadata": {
            "tags": []
          },
          "execution_count": 210
        }
      ]
    },
    {
      "cell_type": "code",
      "metadata": {
        "id": "WLKRPpjr_nq9",
        "colab_type": "code",
        "outputId": "eab95b7f-ca82-4125-c7ba-de49d229c8e3",
        "colab": {
          "base_uri": "https://localhost:8080/",
          "height": 578
        }
      },
      "source": [
        "anime_df.loc[2104]"
      ],
      "execution_count": 0,
      "outputs": [
        {
          "output_type": "execute_result",
          "data": {
            "text/plain": [
              "title                                               Seto no Hanayome\n",
              "title_english                                  My Bride is a Mermaid\n",
              "title_japanese                                                 瀬戸の花嫁\n",
              "title_synonyms                                  The Inland Sea Bride\n",
              "image_url          https://myanimelist.cdn-dena.com/images/anime/...\n",
              "type                                                              TV\n",
              "source                                                         Manga\n",
              "episodes                                                          26\n",
              "status                                               Finished Airing\n",
              "airing                                                         False\n",
              "aired_string                              Apr 2, 2007 to Oct 1, 2007\n",
              "aired                     {'from': '2007-04-02', 'to': '2007-10-01'}\n",
              "duration                                             24 min. per ep.\n",
              "rating                                     PG-13 - Teens 13 or older\n",
              "score                                                           7.89\n",
              "scored_by                                                      91206\n",
              "rank                                                             727\n",
              "popularity                                                       366\n",
              "members                                                       204003\n",
              "favorites                                                       2579\n",
              "background                                                       NaN\n",
              "premiered                                                Spring 2007\n",
              "broadcast                                                    Unknown\n",
              "related            {'Adaptation': [{'mal_id': 759, 'type': 'manga...\n",
              "producer                           TV Tokyo, AIC, Square Enix, Sotsu\n",
              "licensor                                                  Funimation\n",
              "studio                                                         Gonzo\n",
              "genre                       Comedy, Parody, Romance, School, Shounen\n",
              "opening_theme                     ['\"Romantic summer\" by SUN&LUNAR']\n",
              "ending_theme       ['#1: \"Ashita e no Hikari (明日への光)\" by Asuka Hi...\n",
              "duration_min                                                      24\n",
              "aired_from_year                                                 2007\n",
              "Name: 2104, dtype: object"
            ]
          },
          "metadata": {
            "tags": []
          },
          "execution_count": 19
        }
      ]
    },
    {
      "cell_type": "code",
      "metadata": {
        "id": "bP4JRnikF-QW",
        "colab_type": "code",
        "outputId": "23deb7c1-0b4e-4a06-9e76-04ef64be327a",
        "colab": {
          "base_uri": "https://localhost:8080/",
          "height": 68
        }
      },
      "source": [
        "anime_df[\"rating\"].unique()"
      ],
      "execution_count": 0,
      "outputs": [
        {
          "output_type": "execute_result",
          "data": {
            "text/plain": [
              "array(['PG-13 - Teens 13 or older', 'PG - Children', 'G - All Ages',\n",
              "       'R+ - Mild Nudity', 'R - 17+ (violence & profanity)', 'None',\n",
              "       'Rx - Hentai'], dtype=object)"
            ]
          },
          "metadata": {
            "tags": []
          },
          "execution_count": 20
        }
      ]
    },
    {
      "cell_type": "code",
      "metadata": {
        "id": "cCqBANCRbE7x",
        "colab_type": "code",
        "outputId": "f59d77f8-359b-4da5-d9ec-186a32647e09",
        "colab": {
          "base_uri": "https://localhost:8080/",
          "height": 34
        }
      },
      "source": [
        "anime_lists_by_anime.get_group(11013)[\"my_score\"].mean()"
      ],
      "execution_count": 0,
      "outputs": [
        {
          "output_type": "execute_result",
          "data": {
            "text/plain": [
              "7.642763330706593"
            ]
          },
          "metadata": {
            "tags": []
          },
          "execution_count": 21
        }
      ]
    },
    {
      "cell_type": "code",
      "metadata": {
        "id": "p5UceK4tci2Y",
        "colab_type": "code",
        "outputId": "42670940-fcf5-404c-f1b7-1f5d31926f5a",
        "colab": {
          "base_uri": "https://localhost:8080/",
          "height": 683
        }
      },
      "source": [
        "for k, v in jikan.anime(2104).items():\n",
        "  print(k, v)"
      ],
      "execution_count": 0,
      "outputs": [
        {
          "output_type": "stream",
          "text": [
            "request_hash request:anime:cf2a8fdd20221a9ad08fb1b3d28089e4af32791f\n",
            "request_cached True\n",
            "request_cache_expiry 46197\n",
            "mal_id 2104\n",
            "url https://myanimelist.net/anime/2104/Seto_no_Hanayome\n",
            "image_url https://cdn.myanimelist.net/images/anime/13/58383.jpg\n",
            "trailer_url https://www.youtube.com/embed/gqgk9frneoA?enablejsapi=1&wmode=opaque&autoplay=1\n",
            "title Seto no Hanayome\n",
            "title_english My Bride is a Mermaid\n",
            "title_japanese 瀬戸の花嫁\n",
            "title_synonyms ['The Inland Sea Bride']\n",
            "type TV\n",
            "source Manga\n",
            "episodes 26\n",
            "status Finished Airing\n",
            "airing False\n",
            "aired {'from': '2007-04-02T00:00:00+00:00', 'to': '2007-10-01T00:00:00+00:00', 'prop': {'from': {'day': 2, 'month': 4, 'year': 2007}, 'to': {'day': 1, 'month': 10, 'year': 2007}}, 'string': 'Apr 2, 2007 to Oct 1, 2007'}\n",
            "duration 24 min per ep\n",
            "rating PG-13 - Teens 13 or older\n",
            "score 7.82\n",
            "scored_by 103796\n",
            "rank 819\n",
            "popularity 443\n",
            "members 238651\n",
            "favorites 2767\n",
            "synopsis During his summer vacation, middle school student Nagasumi Michishio travels to the Seto Inland Sea. One day, while swimming at Mio Sun Beach, his leg suddenly cramps. No one is close enough to notice his desperate screams for help, and so he sinks into the ocean, where he is left to drown alone. Just as he loses consciousness, however, a mermaid appears and saves his life. That night, Nagasumi is visited by his savior, a girl who introduces herself as Sun Seto—a mermaid from a yakuza family. As it turns out, under mermaid law, a mermaid whose identity is revealed to a human must be punished by execution. To avoid this harrowing outcome, the Seto family propose a solution: Nagasumi must marry Sun or die at the hands of Gouzaburou, Sun's father and boss of the Seto clan. Faced with no other option, Nagasumi takes her hand in marriage. Now, the newlyweds face the difficult task of keeping their relationship secret. Between Gouzaburou's unending attempts on Nagasumi's life and the eccentric antics of a slew of antagonists, a genuine and innocent love blossoms between the pair as they adapt to their new life. [Written by MAL Rewrite]\n",
            "background None\n",
            "premiered Spring 2007\n",
            "broadcast Unknown\n",
            "related {'Adaptation': [{'mal_id': 759, 'type': 'manga', 'name': 'Seto no Hanayome', 'url': 'https://myanimelist.net/manga/759/Seto_no_Hanayome'}], 'Sequel': [{'mal_id': 4163, 'type': 'anime', 'name': 'Seto no Hanayome OVA', 'url': 'https://myanimelist.net/anime/4163/Seto_no_Hanayome_OVA'}], 'Side story': [{'mal_id': 5199, 'type': 'anime', 'name': 'Seto no Hanayome Fan Disc', 'url': 'https://myanimelist.net/anime/5199/Seto_no_Hanayome_Fan_Disc'}], 'Alternative version': [{'mal_id': 28385, 'type': 'anime', 'name': 'Seto no Hanayome Picture Drama', 'url': 'https://myanimelist.net/anime/28385/Seto_no_Hanayome_Picture_Drama'}]}\n",
            "producers [{'mal_id': 16, 'type': 'anime', 'name': 'TV Tokyo', 'url': 'https://myanimelist.net/anime/producer/16/TV_Tokyo'}, {'mal_id': 48, 'type': 'anime', 'name': 'AIC', 'url': 'https://myanimelist.net/anime/producer/48/AIC'}, {'mal_id': 58, 'type': 'anime', 'name': 'Square Enix', 'url': 'https://myanimelist.net/anime/producer/58/Square_Enix'}, {'mal_id': 64, 'type': 'anime', 'name': 'Sotsu', 'url': 'https://myanimelist.net/anime/producer/64/Sotsu'}]\n",
            "licensors [{'mal_id': 102, 'type': 'anime', 'name': 'Funimation', 'url': 'https://myanimelist.net/anime/producer/102/Funimation'}]\n",
            "studios [{'mal_id': 3, 'type': 'anime', 'name': 'Gonzo', 'url': 'https://myanimelist.net/anime/producer/3/Gonzo'}]\n",
            "genres [{'mal_id': 4, 'type': 'anime', 'name': 'Comedy', 'url': 'https://myanimelist.net/anime/genre/4/Comedy'}, {'mal_id': 20, 'type': 'anime', 'name': 'Parody', 'url': 'https://myanimelist.net/anime/genre/20/Parody'}, {'mal_id': 22, 'type': 'anime', 'name': 'Romance', 'url': 'https://myanimelist.net/anime/genre/22/Romance'}, {'mal_id': 23, 'type': 'anime', 'name': 'School', 'url': 'https://myanimelist.net/anime/genre/23/School'}, {'mal_id': 27, 'type': 'anime', 'name': 'Shounen', 'url': 'https://myanimelist.net/anime/genre/27/Shounen'}]\n",
            "opening_themes ['\"Romantic summer\" by SUN&LUNAR']\n",
            "ending_themes ['\"Ashita e no Hikari (明日への光)\" by Asuka Hinoi (1-13, 26)', '\"Dan Dan Dan\" by SUN&LUNAR (eps 14-25)']\n",
            "jikan_url https://api.jikan.moe/v3/anime/2104\n",
            "headers {'Server': 'nginx/1.14.0 (Ubuntu)', 'Date': 'Mon, 24 Feb 2020 01:34:15 GMT', 'Content-Type': 'application/json', 'Content-Length': '1790', 'Connection': 'keep-alive', 'Access-Control-Allow-Origin': '*', 'Access-Control-Allow-Methods': '*', 'Cache-Control': 'private, must-revalidate', 'ETag': '\"d39e08d3274083e7d5df0fe0db418408\"', 'X-Request-Hash': 'request:anime:cf2a8fdd20221a9ad08fb1b3d28089e4af32791f', 'X-Request-Cached': '1', 'X-Request-Cache-Ttl': '46197', 'Expires': 'Mon, 24 Feb 2020 13:58:21 GMT', 'Content-Encoding': 'gzip', 'Vary': 'Accept-Encoding', 'X-Cache-Status': 'HIT'}\n"
          ],
          "name": "stdout"
        }
      ]
    },
    {
      "cell_type": "markdown",
      "metadata": {
        "id": "Oe23izEEkT7-",
        "colab_type": "text"
      },
      "source": [
        "# custom dataset"
      ]
    },
    {
      "cell_type": "code",
      "metadata": {
        "id": "ehDW4QqGXNwk",
        "colab_type": "code",
        "colab": {}
      },
      "source": [
        "sagemaker_df = custom_df.copy()\n",
        "sagemaker_df.rename(columns={\"rating\": \"my_score\"}, inplace=True)"
      ],
      "execution_count": 0,
      "outputs": []
    },
    {
      "cell_type": "code",
      "metadata": {
        "id": "ACxgLoPbXZi-",
        "colab_type": "code",
        "outputId": "d118616e-99f2-4336-e390-b4b2d1406b4e",
        "colab": {
          "base_uri": "https://localhost:8080/",
          "height": 419
        }
      },
      "source": [
        "sagemaker_df"
      ],
      "execution_count": 0,
      "outputs": [
        {
          "output_type": "execute_result",
          "data": {
            "text/html": [
              "<div>\n",
              "<style scoped>\n",
              "    .dataframe tbody tr th:only-of-type {\n",
              "        vertical-align: middle;\n",
              "    }\n",
              "\n",
              "    .dataframe tbody tr th {\n",
              "        vertical-align: top;\n",
              "    }\n",
              "\n",
              "    .dataframe thead th {\n",
              "        text-align: right;\n",
              "    }\n",
              "</style>\n",
              "<table border=\"1\" class=\"dataframe\">\n",
              "  <thead>\n",
              "    <tr style=\"text-align: right;\">\n",
              "      <th></th>\n",
              "      <th>userID</th>\n",
              "      <th>itemID</th>\n",
              "      <th>my_score</th>\n",
              "    </tr>\n",
              "  </thead>\n",
              "  <tbody>\n",
              "    <tr>\n",
              "      <th>0</th>\n",
              "      <td>2255153</td>\n",
              "      <td>21</td>\n",
              "      <td>9</td>\n",
              "    </tr>\n",
              "    <tr>\n",
              "      <th>1</th>\n",
              "      <td>2255153</td>\n",
              "      <td>59</td>\n",
              "      <td>7</td>\n",
              "    </tr>\n",
              "    <tr>\n",
              "      <th>2</th>\n",
              "      <td>2255153</td>\n",
              "      <td>74</td>\n",
              "      <td>7</td>\n",
              "    </tr>\n",
              "    <tr>\n",
              "      <th>3</th>\n",
              "      <td>2255153</td>\n",
              "      <td>120</td>\n",
              "      <td>7</td>\n",
              "    </tr>\n",
              "    <tr>\n",
              "      <th>4</th>\n",
              "      <td>2255153</td>\n",
              "      <td>178</td>\n",
              "      <td>7</td>\n",
              "    </tr>\n",
              "    <tr>\n",
              "      <th>...</th>\n",
              "      <td>...</td>\n",
              "      <td>...</td>\n",
              "      <td>...</td>\n",
              "    </tr>\n",
              "    <tr>\n",
              "      <th>19171945</th>\n",
              "      <td>4862000</td>\n",
              "      <td>15611</td>\n",
              "      <td>9</td>\n",
              "    </tr>\n",
              "    <tr>\n",
              "      <th>19171946</th>\n",
              "      <td>4862000</td>\n",
              "      <td>27815</td>\n",
              "      <td>9</td>\n",
              "    </tr>\n",
              "    <tr>\n",
              "      <th>19171947</th>\n",
              "      <td>299167</td>\n",
              "      <td>5945</td>\n",
              "      <td>8</td>\n",
              "    </tr>\n",
              "    <tr>\n",
              "      <th>19171948</th>\n",
              "      <td>263803</td>\n",
              "      <td>1316</td>\n",
              "      <td>9</td>\n",
              "    </tr>\n",
              "    <tr>\n",
              "      <th>19171949</th>\n",
              "      <td>48074</td>\n",
              "      <td>1744</td>\n",
              "      <td>10</td>\n",
              "    </tr>\n",
              "  </tbody>\n",
              "</table>\n",
              "<p>19171950 rows × 3 columns</p>\n",
              "</div>"
            ],
            "text/plain": [
              "           userID  itemID  my_score\n",
              "0         2255153      21         9\n",
              "1         2255153      59         7\n",
              "2         2255153      74         7\n",
              "3         2255153     120         7\n",
              "4         2255153     178         7\n",
              "...           ...     ...       ...\n",
              "19171945  4862000   15611         9\n",
              "19171946  4862000   27815         9\n",
              "19171947   299167    5945         8\n",
              "19171948   263803    1316         9\n",
              "19171949    48074    1744        10\n",
              "\n",
              "[19171950 rows x 3 columns]"
            ]
          },
          "metadata": {
            "tags": []
          },
          "execution_count": 139
        }
      ]
    },
    {
      "cell_type": "code",
      "metadata": {
        "id": "H3W_zz-Yg-E8",
        "colab_type": "code",
        "colab": {}
      },
      "source": [
        "users_dct = dict(users_df.T)"
      ],
      "execution_count": 0,
      "outputs": []
    },
    {
      "cell_type": "code",
      "metadata": {
        "id": "GrEJaxythfdf",
        "colab_type": "code",
        "colab": {}
      },
      "source": [
        "anime_dct = dict(anime_df.T)"
      ],
      "execution_count": 0,
      "outputs": []
    },
    {
      "cell_type": "code",
      "metadata": {
        "id": "jyiDecvAjYey",
        "colab_type": "code",
        "outputId": "df1f3b81-b6ca-4c13-a280-4e5f2f1ca6b8",
        "colab": {
          "base_uri": "https://localhost:8080/",
          "height": 578
        }
      },
      "source": [
        "anime_df.loc[1744]"
      ],
      "execution_count": 0,
      "outputs": [
        {
          "output_type": "execute_result",
          "data": {
            "text/plain": [
              "title                                  Wagamama☆Fairy Mirumo de Pon!\n",
              "title_english                                          Mirmo Zibang!\n",
              "title_japanese                                    わがまま☆フェアリー ミルモでポン!\n",
              "title_synonyms     Milmo de Pon!, Mirmo!, Wagamama Fairy Milmo De...\n",
              "image_url          https://myanimelist.cdn-dena.com/images/anime/...\n",
              "type                                                              TV\n",
              "source                                                         Manga\n",
              "episodes                                                         172\n",
              "status                                               Finished Airing\n",
              "airing                                                         False\n",
              "aired_string                             Apr 6, 2002 to Sep 27, 2005\n",
              "aired                     {'from': '2002-04-06', 'to': '2005-09-27'}\n",
              "duration                                             21 min. per ep.\n",
              "rating                                                  G - All Ages\n",
              "score                                                           7.43\n",
              "scored_by                                                       4293\n",
              "rank                                                            1915\n",
              "popularity                                                      3546\n",
              "members                                                        10915\n",
              "favorites                                                        111\n",
              "background                                                       NaN\n",
              "premiered                                                Spring 2002\n",
              "broadcast                                                    Unknown\n",
              "related            {'Adaptation': [{'mal_id': 5362, 'type': 'mang...\n",
              "producer                                               Trinity Sound\n",
              "licensor                                                   Viz Media\n",
              "studio                                                 Studio Hibari\n",
              "genre              Kids, Adventure, Fantasy, Magic, Comedy, Roman...\n",
              "opening_theme      ['#1: Pretty Cake Magic (eps 1-28)', '#2: Keic...\n",
              "ending_theme       ['#01: Mirumo no waratsu (eps 1-28)', '#02: Sa...\n",
              "duration_min                                                      21\n",
              "aired_from_year                                                 2002\n",
              "Name: 1744, dtype: object"
            ]
          },
          "metadata": {
            "tags": []
          },
          "execution_count": 107
        }
      ]
    },
    {
      "cell_type": "code",
      "metadata": {
        "id": "hWZTsJd6omuu",
        "colab_type": "code",
        "outputId": "d2156862-f8f4-46f3-aa50-e84184658061",
        "colab": {
          "base_uri": "https://localhost:8080/",
          "height": 221
        }
      },
      "source": [
        "sagemaker_df[\"my_score\"]"
      ],
      "execution_count": 0,
      "outputs": [
        {
          "output_type": "execute_result",
          "data": {
            "text/plain": [
              "0            9\n",
              "1            7\n",
              "2            7\n",
              "3            7\n",
              "4            7\n",
              "            ..\n",
              "19171945     9\n",
              "19171946     9\n",
              "19171947     8\n",
              "19171948     9\n",
              "19171949    10\n",
              "Name: my_score, Length: 19171950, dtype: int64"
            ]
          },
          "metadata": {
            "tags": []
          },
          "execution_count": 118
        }
      ]
    },
    {
      "cell_type": "code",
      "metadata": {
        "id": "Q_pLII9Jfjoa",
        "colab_type": "code",
        "colab": {}
      },
      "source": [
        "def make_sage(df):\n",
        "    df = df.join(df.apply(lambda x: users_dct[x[\"userID\"]].append(anime_dct[x[\"itemID\"]]), axis=1))\n",
        "    return df\n",
        "\n",
        "X = sagemaker_df.drop(columns=\"my_score\")\n",
        "y = sagemaker_df[\"my_score\"]\n",
        "\n",
        "X, _, y, _ = train_test_split(X, y, stratify=y, test_size=.99, train_size=.01)\n",
        "X_train, X_test, y_train, y_test = train_test_split(X, y, stratify=y)"
      ],
      "execution_count": 0,
      "outputs": []
    },
    {
      "cell_type": "code",
      "metadata": {
        "id": "hbevtbu0pJJS",
        "colab_type": "code",
        "outputId": "12897eb2-b3fd-4c73-c109-c16223c3ce5b",
        "colab": {
          "base_uri": "https://localhost:8080/",
          "height": 68
        }
      },
      "source": [
        "X.nunique()"
      ],
      "execution_count": 0,
      "outputs": [
        {
          "output_type": "execute_result",
          "data": {
            "text/plain": [
              "userID    65545\n",
              "itemID     5383\n",
              "dtype: int64"
            ]
          },
          "metadata": {
            "tags": []
          },
          "execution_count": 216
        }
      ]
    },
    {
      "cell_type": "code",
      "metadata": {
        "id": "tHoytrsUo4wl",
        "colab_type": "code",
        "colab": {}
      },
      "source": [
        "train_one_percent = pd.concat([X_train, y_train], axis=1)\n",
        "train_one_percent = make_sage(train_one_percent)\n",
        "test_one_percent = pd.concat([X_test, y_test], axis=1)\n",
        "test_one_percent = make_sage(test_one_percent)"
      ],
      "execution_count": 0,
      "outputs": []
    },
    {
      "cell_type": "code",
      "metadata": {
        "id": "24g40_Swqr1C",
        "colab_type": "code",
        "outputId": "e87b4bf7-b1a3-42e4-b715-30d37a8665f8",
        "colab": {
          "base_uri": "https://localhost:8080/",
          "height": 34
        }
      },
      "source": [
        "len(train_one_percent), len(test_one_percent)"
      ],
      "execution_count": 0,
      "outputs": [
        {
          "output_type": "execute_result",
          "data": {
            "text/plain": [
              "(143789, 47930)"
            ]
          },
          "metadata": {
            "tags": []
          },
          "execution_count": 136
        }
      ]
    },
    {
      "cell_type": "code",
      "metadata": {
        "id": "uEiNgg2P5AXk",
        "colab_type": "code",
        "outputId": "f0014d03-5d27-4485-f752-34594b09bda7",
        "colab": {
          "base_uri": "https://localhost:8080/",
          "height": 986
        }
      },
      "source": [
        "train_one_percent.info()"
      ],
      "execution_count": 0,
      "outputs": [
        {
          "output_type": "stream",
          "text": [
            "<class 'pandas.core.frame.DataFrame'>\n",
            "Int64Index: 143789 entries, 7377478 to 9145034\n",
            "Data columns (total 50 columns):\n",
            " #   Column                    Non-Null Count   Dtype         \n",
            "---  ------                    --------------   -----         \n",
            " 0   userID                    143789 non-null  int64         \n",
            " 1   itemID                    143789 non-null  int64         \n",
            " 2   my_score                  143789 non-null  int64         \n",
            " 3   username                  143789 non-null  object        \n",
            " 4   user_watching             143789 non-null  int64         \n",
            " 5   user_completed            143789 non-null  int64         \n",
            " 6   user_onhold               143789 non-null  int64         \n",
            " 7   user_dropped              143789 non-null  int64         \n",
            " 8   user_plantowatch          143789 non-null  int64         \n",
            " 9   user_days_spent_watching  143789 non-null  float64       \n",
            " 10  gender                    143789 non-null  object        \n",
            " 11  location                  143784 non-null  object        \n",
            " 12  birth_date                143789 non-null  datetime64[ns]\n",
            " 13  join_date                 143789 non-null  datetime64[ns]\n",
            " 14  last_online               143789 non-null  datetime64[ns]\n",
            " 15  stats_mean_score          143789 non-null  float64       \n",
            " 16  stats_rewatched           143789 non-null  float64       \n",
            " 17  stats_episodes            143789 non-null  int64         \n",
            " 18  title                     143789 non-null  object        \n",
            " 19  title_english             119302 non-null  object        \n",
            " 20  title_japanese            143789 non-null  object        \n",
            " 21  title_synonyms            108339 non-null  object        \n",
            " 22  image_url                 143789 non-null  object        \n",
            " 23  type                      143789 non-null  object        \n",
            " 24  source                    143789 non-null  object        \n",
            " 25  episodes                  143789 non-null  int64         \n",
            " 26  status                    143789 non-null  object        \n",
            " 27  airing                    143789 non-null  bool          \n",
            " 28  aired_string              143789 non-null  object        \n",
            " 29  aired                     143789 non-null  object        \n",
            " 30  duration                  143789 non-null  object        \n",
            " 31  rating                    143789 non-null  object        \n",
            " 32  score                     143789 non-null  float64       \n",
            " 33  scored_by                 143789 non-null  int64         \n",
            " 34  rank                      142129 non-null  float64       \n",
            " 35  popularity                143789 non-null  int64         \n",
            " 36  members                   143789 non-null  int64         \n",
            " 37  favorites                 143789 non-null  int64         \n",
            " 38  background                55003 non-null   object        \n",
            " 39  premiered                 100782 non-null  object        \n",
            " 40  broadcast                 100785 non-null  object        \n",
            " 41  related                   143789 non-null  object        \n",
            " 42  producer                  126525 non-null  object        \n",
            " 43  licensor                  116298 non-null  object        \n",
            " 44  studio                    143789 non-null  object        \n",
            " 45  genre                     143783 non-null  object        \n",
            " 46  opening_theme             143789 non-null  object        \n",
            " 47  ending_theme              143789 non-null  object        \n",
            " 48  duration_min              143789 non-null  float64       \n",
            " 49  aired_from_year           143789 non-null  float64       \n",
            "dtypes: bool(1), datetime64[ns](3), float64(7), int64(14), object(25)\n",
            "memory usage: 60.0+ MB\n"
          ],
          "name": "stdout"
        }
      ]
    },
    {
      "cell_type": "code",
      "metadata": {
        "id": "m0tr37cxp1zA",
        "colab_type": "code",
        "colab": {}
      },
      "source": [
        "train_one_percent.to_csv(\"train_sagemaker_one_percent.csv\")"
      ],
      "execution_count": 0,
      "outputs": []
    },
    {
      "cell_type": "code",
      "metadata": {
        "id": "wlYjRVuCwklZ",
        "colab_type": "code",
        "colab": {}
      },
      "source": [
        "test_one_percent.to_csv(\"test_sagemaker_one_percent.csv\")"
      ],
      "execution_count": 0,
      "outputs": []
    },
    {
      "cell_type": "code",
      "metadata": {
        "id": "ZaBygIPmjNfK",
        "colab_type": "code",
        "colab": {}
      },
      "source": [
        "sagemaker_df = make_sage(sagemaker_df)"
      ],
      "execution_count": 0,
      "outputs": []
    },
    {
      "cell_type": "code",
      "metadata": {
        "id": "ZTFZto6sclmh",
        "colab_type": "code",
        "colab": {}
      },
      "source": [
        "sagemaker_df = sagemaker_df.apply(lambda x: users_df.loc[x[\"userID\"]].append(anime_df.loc[x[\"itemID\"]]).append(sagemaker_df.loc[x.name][[\"my_score\"]]), axis=1)"
      ],
      "execution_count": 0,
      "outputs": []
    },
    {
      "cell_type": "code",
      "metadata": {
        "id": "n_eJRz62Zc43",
        "colab_type": "code",
        "outputId": "478f9830-952a-44f8-f71a-b9eec21116d4",
        "colab": {
          "base_uri": "https://localhost:8080/",
          "height": 833
        }
      },
      "source": [
        "users_df.loc[a_user_id].append(anime_df.loc[an_item_id]).append()"
      ],
      "execution_count": 0,
      "outputs": [
        {
          "output_type": "execute_result",
          "data": {
            "text/plain": [
              "username                                                       hinogurl_mikha\n",
              "user_watching                                                               1\n",
              "user_completed                                                              0\n",
              "user_onhold                                                                 0\n",
              "user_dropped                                                                0\n",
              "user_plantowatch                                                            0\n",
              "user_days_spent_watching                                             0.845833\n",
              "gender                                                                 Female\n",
              "location                                                         makati,phil.\n",
              "birth_date                                                1992-11-17 00:00:00\n",
              "join_date                                                 2008-04-05 00:00:00\n",
              "last_online                                               2008-04-14 04:32:00\n",
              "stats_mean_score                                                           10\n",
              "stats_rewatched                                                             0\n",
              "stats_episodes                                                             58\n",
              "title                                           Wagamama☆Fairy Mirumo de Pon!\n",
              "title_english                                                   Mirmo Zibang!\n",
              "title_japanese                                             わがまま☆フェアリー ミルモでポン!\n",
              "title_synonyms              Milmo de Pon!, Mirmo!, Wagamama Fairy Milmo De...\n",
              "image_url                   https://myanimelist.cdn-dena.com/images/anime/...\n",
              "type                                                                       TV\n",
              "source                                                                  Manga\n",
              "episodes                                                                  172\n",
              "status                                                        Finished Airing\n",
              "airing                                                                  False\n",
              "aired_string                                      Apr 6, 2002 to Sep 27, 2005\n",
              "aired                              {'from': '2002-04-06', 'to': '2005-09-27'}\n",
              "duration                                                      21 min. per ep.\n",
              "rating                                                           G - All Ages\n",
              "score                                                                    7.43\n",
              "scored_by                                                                4293\n",
              "rank                                                                     1915\n",
              "popularity                                                               3546\n",
              "members                                                                 10915\n",
              "favorites                                                                 111\n",
              "background                                                                NaN\n",
              "premiered                                                         Spring 2002\n",
              "broadcast                                                             Unknown\n",
              "related                     {'Adaptation': [{'mal_id': 5362, 'type': 'mang...\n",
              "producer                                                        Trinity Sound\n",
              "licensor                                                            Viz Media\n",
              "studio                                                          Studio Hibari\n",
              "genre                       Kids, Adventure, Fantasy, Magic, Comedy, Roman...\n",
              "opening_theme               ['#1: Pretty Cake Magic (eps 1-28)', '#2: Keic...\n",
              "ending_theme                ['#01: Mirumo no waratsu (eps 1-28)', '#02: Sa...\n",
              "duration_min                                                               21\n",
              "aired_from_year                                                          2002\n",
              "dtype: object"
            ]
          },
          "metadata": {
            "tags": []
          },
          "execution_count": 43
        }
      ]
    },
    {
      "cell_type": "code",
      "metadata": {
        "id": "OugFTqALkWc1",
        "colab_type": "code",
        "outputId": "feb1529a-69cb-4350-cce3-57362c9927b9",
        "colab": {
          "base_uri": "https://localhost:8080/",
          "height": 51
        }
      },
      "source": [
        "custom_df[\"rating\"].mean(), custom_df[\"rating\"].median(), custom_df[\"rating\"].mode()"
      ],
      "execution_count": 0,
      "outputs": [
        {
          "output_type": "execute_result",
          "data": {
            "text/plain": [
              "(7.591403847808908, 8.0, 0    8\n",
              " dtype: int64)"
            ]
          },
          "metadata": {
            "tags": []
          },
          "execution_count": 19
        }
      ]
    },
    {
      "cell_type": "code",
      "metadata": {
        "id": "mfmXJofDkXZW",
        "colab_type": "code",
        "colab": {}
      },
      "source": [
        "reader = Reader(rating_scale=(1, 10))\n",
        "data = Dataset.load_from_df(custom_df, reader)"
      ],
      "execution_count": 0,
      "outputs": []
    },
    {
      "cell_type": "code",
      "metadata": {
        "id": "29TWjpp5H7dV",
        "colab_type": "code",
        "outputId": "6087fe47-2986-472e-a4a4-39a85f4746ed",
        "colab": {
          "base_uri": "https://localhost:8080/",
          "height": 187
        }
      },
      "source": [
        "from surprise import AlgoBase\n",
        "from surprise import Dataset\n",
        "from surprise.model_selection import cross_validate\n",
        "\n",
        "\n",
        "class MyOwnAlgorithm(AlgoBase):\n",
        "\n",
        "    def __init__(self):\n",
        "\n",
        "        # Always call base method before doing anything.\n",
        "        AlgoBase.__init__(self)\n",
        "\n",
        "    def estimate(self, u, i):\n",
        "\n",
        "        return 8\n",
        "\n",
        "\n",
        "algo = MyOwnAlgorithm()\n",
        "\n",
        "\n",
        "from surprise import SVD\n",
        "from surprise import Dataset\n",
        "from surprise import accuracy\n",
        "from surprise.model_selection import KFold\n",
        "\n",
        "# define a cross-validation iterator\n",
        "kf = KFold(n_splits=10)\n",
        "\n",
        "for trainset, testset in kf.split(data):\n",
        "\n",
        "    # train and test algorithm.\n",
        "    algo.fit(trainset)\n",
        "    predictions = algo.test(testset)\n",
        "\n",
        "    # Compute and print Root Mean Squared Error\n",
        "    accuracy.rmse(predictions, verbose=True)"
      ],
      "execution_count": 0,
      "outputs": [
        {
          "output_type": "stream",
          "text": [
            "RMSE: 1.7544\n",
            "RMSE: 1.7539\n",
            "RMSE: 1.7544\n",
            "RMSE: 1.7542\n",
            "RMSE: 1.7552\n",
            "RMSE: 1.7564\n",
            "RMSE: 1.7542\n",
            "RMSE: 1.7536\n",
            "RMSE: 1.7519\n",
            "RMSE: 1.7561\n"
          ],
          "name": "stdout"
        }
      ]
    },
    {
      "cell_type": "code",
      "metadata": {
        "id": "PXIRlilbRFfw",
        "colab_type": "code",
        "outputId": "cd983f61-ab7c-4105-8946-c364e3e16775",
        "colab": {
          "base_uri": "https://localhost:8080/",
          "height": 34
        }
      },
      "source": [
        "rmses = [1.7544, 1.7539, 1.7544, 1.7542, 1.7552, 1.7564, 1.7542, 1.7536, 1.7519, 1.7561]\n",
        "np.mean(rmses)"
      ],
      "execution_count": 0,
      "outputs": [
        {
          "output_type": "execute_result",
          "data": {
            "text/plain": [
              "1.75443"
            ]
          },
          "metadata": {
            "tags": []
          },
          "execution_count": 162
        }
      ]
    },
    {
      "cell_type": "code",
      "metadata": {
        "id": "cWk3Xey4w3j8",
        "colab_type": "code",
        "colab": {}
      },
      "source": [
        "user_id_dct = dict(users_df[\"username\"].dropna().reset_index().set_index(\"username\")[\"user_id\"])"
      ],
      "execution_count": 0,
      "outputs": []
    },
    {
      "cell_type": "code",
      "metadata": {
        "id": "NcmMdAfGk2H_",
        "colab_type": "code",
        "colab": {}
      },
      "source": [
        "\n",
        "from joblib import Parallel, delayed\n",
        "import multiprocessing\n",
        "from multiprocessing import cpu_count\n",
        "\n",
        "def name_to_id(df):\n",
        "    df.replace(user_id_dct, inplace=True)\n",
        "    return df\n",
        "\n",
        "cores = cpu_count() #Number of CPU cores on your system\n",
        "partitions = cores #Define as many partitions as you want\n",
        " \n",
        "def parallelize(data, func):\n",
        "    data_split = np.array_split(data, partitions)\n",
        "    pool = Pool(cores)\n",
        "    data = pd.concat(pool.map(func, data_split))\n",
        "    pool.close()\n",
        "    pool.join()\n",
        "    return data\n",
        "\n",
        "def applyParallel(dfGrouped, func):\n",
        "    retLst = Parallel(n_jobs=multiprocessing.cpu_count(), verbose=multiprocessing.cpu_count())(delayed(func)(group) for name, group in dfGrouped)\n",
        "    return pd.concat(retLst)\n",
        "\n",
        "# custom_df[\"username\"] = custom_df[\"username\"].apply(lambda x: users_df[users_df[\"username\"] == x].index[0])\n",
        "\n",
        "# applyParallel(custom_df[:5].groupby(custom_df[:5].index), name_to_id)"
      ],
      "execution_count": 0,
      "outputs": []
    },
    {
      "cell_type": "code",
      "metadata": {
        "id": "mncmrIhAkwUX",
        "colab_type": "code",
        "colab": {}
      },
      "source": [
        "# data = Dataset.load_from_df(df[['userID', 'itemID', 'rating']], reader)\n",
        "anime_lists_df"
      ],
      "execution_count": 0,
      "outputs": []
    },
    {
      "cell_type": "code",
      "metadata": {
        "id": "GGwI3sElmf4k",
        "colab_type": "code",
        "outputId": "d76b62ec-3222-4214-d065-3eaa1ac46c42",
        "colab": {
          "base_uri": "https://localhost:8080/",
          "height": 238
        }
      },
      "source": [
        "%%time\n",
        "\n",
        "custom_df[:5].replace(user_id_dct)"
      ],
      "execution_count": 0,
      "outputs": [
        {
          "output_type": "stream",
          "text": [
            "CPU times: user 4.7 s, sys: 88.8 ms, total: 4.79 s\n",
            "Wall time: 4.79 s\n"
          ],
          "name": "stdout"
        },
        {
          "output_type": "execute_result",
          "data": {
            "text/html": [
              "<div>\n",
              "<style scoped>\n",
              "    .dataframe tbody tr th:only-of-type {\n",
              "        vertical-align: middle;\n",
              "    }\n",
              "\n",
              "    .dataframe tbody tr th {\n",
              "        vertical-align: top;\n",
              "    }\n",
              "\n",
              "    .dataframe thead th {\n",
              "        text-align: right;\n",
              "    }\n",
              "</style>\n",
              "<table border=\"1\" class=\"dataframe\">\n",
              "  <thead>\n",
              "    <tr style=\"text-align: right;\">\n",
              "      <th></th>\n",
              "      <th>anime_id</th>\n",
              "      <th>my_score</th>\n",
              "      <th>username</th>\n",
              "    </tr>\n",
              "  </thead>\n",
              "  <tbody>\n",
              "    <tr>\n",
              "      <th>0</th>\n",
              "      <td>21</td>\n",
              "      <td>9</td>\n",
              "      <td>2255153</td>\n",
              "    </tr>\n",
              "    <tr>\n",
              "      <th>1</th>\n",
              "      <td>59</td>\n",
              "      <td>7</td>\n",
              "      <td>2255153</td>\n",
              "    </tr>\n",
              "    <tr>\n",
              "      <th>2</th>\n",
              "      <td>74</td>\n",
              "      <td>7</td>\n",
              "      <td>2255153</td>\n",
              "    </tr>\n",
              "    <tr>\n",
              "      <th>3</th>\n",
              "      <td>120</td>\n",
              "      <td>7</td>\n",
              "      <td>2255153</td>\n",
              "    </tr>\n",
              "    <tr>\n",
              "      <th>4</th>\n",
              "      <td>178</td>\n",
              "      <td>7</td>\n",
              "      <td>2255153</td>\n",
              "    </tr>\n",
              "  </tbody>\n",
              "</table>\n",
              "</div>"
            ],
            "text/plain": [
              "   anime_id  my_score  username\n",
              "0        21         9   2255153\n",
              "1        59         7   2255153\n",
              "2        74         7   2255153\n",
              "3       120         7   2255153\n",
              "4       178         7   2255153"
            ]
          },
          "metadata": {
            "tags": []
          },
          "execution_count": 63
        }
      ]
    },
    {
      "cell_type": "code",
      "metadata": {
        "id": "BIR2of3rk7mx",
        "colab_type": "code",
        "colab": {}
      },
      "source": [
        "users_df.loc[4862000]"
      ],
      "execution_count": 0,
      "outputs": []
    },
    {
      "cell_type": "code",
      "metadata": {
        "id": "70yqSGSM4AiA",
        "colab_type": "code",
        "outputId": "93b42496-1499-4984-8fa0-abfd2ba58a48",
        "colab": {
          "base_uri": "https://localhost:8080/",
          "height": 170
        }
      },
      "source": [
        "users_df[[\"username\"]].reset_index().info()"
      ],
      "execution_count": 0,
      "outputs": [
        {
          "output_type": "stream",
          "text": [
            "<class 'pandas.core.frame.DataFrame'>\n",
            "RangeIndex: 108711 entries, 0 to 108710\n",
            "Data columns (total 2 columns):\n",
            " #   Column    Non-Null Count   Dtype \n",
            "---  ------    --------------   ----- \n",
            " 0   user_id   108711 non-null  int64 \n",
            " 1   username  108710 non-null  object\n",
            "dtypes: int64(1), object(1)\n",
            "memory usage: 1.7+ MB\n"
          ],
          "name": "stdout"
        }
      ]
    },
    {
      "cell_type": "code",
      "metadata": {
        "id": "okHAGNaV4PlB",
        "colab_type": "code",
        "outputId": "1379e0fa-aeeb-479e-8600-5f949bfe4af6",
        "colab": {
          "base_uri": "https://localhost:8080/",
          "height": 34
        }
      },
      "source": [
        "unique_usernames = custom_df[\"username\"].unique()\n",
        "unique_usernames."
      ],
      "execution_count": 0,
      "outputs": [
        {
          "output_type": "execute_result",
          "data": {
            "text/plain": [
              "numpy.ndarray"
            ]
          },
          "metadata": {
            "tags": []
          },
          "execution_count": 59
        }
      ]
    },
    {
      "cell_type": "code",
      "metadata": {
        "id": "nBml4vrH4qWa",
        "colab_type": "code",
        "outputId": "e1da0bd8-b696-404a-dd3e-b5c4384bebaa",
        "colab": {
          "base_uri": "https://localhost:8080/",
          "height": 119
        }
      },
      "source": [
        "custom_df[\"username\"] = custom_df[\"username\"].apply(lambda x: user_id_dct[x])"
      ],
      "execution_count": 0,
      "outputs": [
        {
          "output_type": "stream",
          "text": [
            "/usr/local/lib/python3.6/dist-packages/ipykernel_launcher.py:1: SettingWithCopyWarning: \n",
            "A value is trying to be set on a copy of a slice from a DataFrame.\n",
            "Try using .loc[row_indexer,col_indexer] = value instead\n",
            "\n",
            "See the caveats in the documentation: https://pandas.pydata.org/pandas-docs/stable/user_guide/indexing.html#returning-a-view-versus-a-copy\n",
            "  \"\"\"Entry point for launching an IPython kernel.\n"
          ],
          "name": "stderr"
        }
      ]
    },
    {
      "cell_type": "code",
      "metadata": {
        "id": "YYWTMZ7I8o1c",
        "colab_type": "code",
        "colab": {}
      },
      "source": [
        "custom_df.to_csv(\"custom_dataset.csv\")"
      ],
      "execution_count": 0,
      "outputs": []
    },
    {
      "cell_type": "code",
      "metadata": {
        "id": "nF27P1PI7ldS",
        "colab_type": "code",
        "outputId": "e6470e79-852c-4899-ee59-8e5dddb72e01",
        "colab": {
          "base_uri": "https://localhost:8080/",
          "height": 419
        }
      },
      "source": [
        "anime_lists_df[anime_lists_df[\"username\"].notna()]"
      ],
      "execution_count": 0,
      "outputs": [
        {
          "output_type": "execute_result",
          "data": {
            "text/html": [
              "<div>\n",
              "<style scoped>\n",
              "    .dataframe tbody tr th:only-of-type {\n",
              "        vertical-align: middle;\n",
              "    }\n",
              "\n",
              "    .dataframe tbody tr th {\n",
              "        vertical-align: top;\n",
              "    }\n",
              "\n",
              "    .dataframe thead th {\n",
              "        text-align: right;\n",
              "    }\n",
              "</style>\n",
              "<table border=\"1\" class=\"dataframe\">\n",
              "  <thead>\n",
              "    <tr style=\"text-align: right;\">\n",
              "      <th></th>\n",
              "      <th>username</th>\n",
              "      <th>anime_id</th>\n",
              "      <th>my_watched_episodes</th>\n",
              "      <th>my_score</th>\n",
              "      <th>my_status</th>\n",
              "      <th>my_rewatching</th>\n",
              "      <th>my_rewatching_ep</th>\n",
              "      <th>my_last_updated</th>\n",
              "      <th>my_tags</th>\n",
              "    </tr>\n",
              "  </thead>\n",
              "  <tbody>\n",
              "    <tr>\n",
              "      <th>0</th>\n",
              "      <td>karthiga</td>\n",
              "      <td>21</td>\n",
              "      <td>586</td>\n",
              "      <td>9</td>\n",
              "      <td>1</td>\n",
              "      <td>NaN</td>\n",
              "      <td>0</td>\n",
              "      <td>2013-03-03 10:52:53</td>\n",
              "      <td>NaN</td>\n",
              "    </tr>\n",
              "    <tr>\n",
              "      <th>1</th>\n",
              "      <td>karthiga</td>\n",
              "      <td>59</td>\n",
              "      <td>26</td>\n",
              "      <td>7</td>\n",
              "      <td>2</td>\n",
              "      <td>NaN</td>\n",
              "      <td>0</td>\n",
              "      <td>2013-03-10 13:54:51</td>\n",
              "      <td>NaN</td>\n",
              "    </tr>\n",
              "    <tr>\n",
              "      <th>2</th>\n",
              "      <td>karthiga</td>\n",
              "      <td>74</td>\n",
              "      <td>26</td>\n",
              "      <td>7</td>\n",
              "      <td>2</td>\n",
              "      <td>NaN</td>\n",
              "      <td>0</td>\n",
              "      <td>2013-04-27 16:43:35</td>\n",
              "      <td>NaN</td>\n",
              "    </tr>\n",
              "    <tr>\n",
              "      <th>3</th>\n",
              "      <td>karthiga</td>\n",
              "      <td>120</td>\n",
              "      <td>26</td>\n",
              "      <td>7</td>\n",
              "      <td>2</td>\n",
              "      <td>NaN</td>\n",
              "      <td>0</td>\n",
              "      <td>2013-03-03 10:53:57</td>\n",
              "      <td>NaN</td>\n",
              "    </tr>\n",
              "    <tr>\n",
              "      <th>4</th>\n",
              "      <td>karthiga</td>\n",
              "      <td>178</td>\n",
              "      <td>26</td>\n",
              "      <td>7</td>\n",
              "      <td>2</td>\n",
              "      <td>0.0</td>\n",
              "      <td>0</td>\n",
              "      <td>2013-03-27 15:59:13</td>\n",
              "      <td>NaN</td>\n",
              "    </tr>\n",
              "    <tr>\n",
              "      <th>...</th>\n",
              "      <td>...</td>\n",
              "      <td>...</td>\n",
              "      <td>...</td>\n",
              "      <td>...</td>\n",
              "      <td>...</td>\n",
              "      <td>...</td>\n",
              "      <td>...</td>\n",
              "      <td>...</td>\n",
              "      <td>...</td>\n",
              "    </tr>\n",
              "    <tr>\n",
              "      <th>31284025</th>\n",
              "      <td>Yokonightcore</td>\n",
              "      <td>15611</td>\n",
              "      <td>48</td>\n",
              "      <td>9</td>\n",
              "      <td>1</td>\n",
              "      <td>NaN</td>\n",
              "      <td>0</td>\n",
              "      <td>2015-09-07 17:33:03</td>\n",
              "      <td>NaN</td>\n",
              "    </tr>\n",
              "    <tr>\n",
              "      <th>31284026</th>\n",
              "      <td>Yokonightcore</td>\n",
              "      <td>27815</td>\n",
              "      <td>22</td>\n",
              "      <td>9</td>\n",
              "      <td>1</td>\n",
              "      <td>NaN</td>\n",
              "      <td>0</td>\n",
              "      <td>2015-09-07 17:32:05</td>\n",
              "      <td>NaN</td>\n",
              "    </tr>\n",
              "    <tr>\n",
              "      <th>31284027</th>\n",
              "      <td>wargod</td>\n",
              "      <td>5945</td>\n",
              "      <td>39</td>\n",
              "      <td>8</td>\n",
              "      <td>2</td>\n",
              "      <td>0.0</td>\n",
              "      <td>0</td>\n",
              "      <td>2010-03-29 04:24:12</td>\n",
              "      <td>NaN</td>\n",
              "    </tr>\n",
              "    <tr>\n",
              "      <th>31284028</th>\n",
              "      <td>JMc_SetoKai_LoVe</td>\n",
              "      <td>1316</td>\n",
              "      <td>52</td>\n",
              "      <td>9</td>\n",
              "      <td>2</td>\n",
              "      <td>NaN</td>\n",
              "      <td>0</td>\n",
              "      <td>2009-12-23 05:45:14</td>\n",
              "      <td>NaN</td>\n",
              "    </tr>\n",
              "    <tr>\n",
              "      <th>31284029</th>\n",
              "      <td>hinogurl_mikha</td>\n",
              "      <td>1744</td>\n",
              "      <td>58</td>\n",
              "      <td>10</td>\n",
              "      <td>1</td>\n",
              "      <td>0.0</td>\n",
              "      <td>0</td>\n",
              "      <td>2008-04-05 11:36:20</td>\n",
              "      <td>NaN</td>\n",
              "    </tr>\n",
              "  </tbody>\n",
              "</table>\n",
              "<p>19171950 rows × 9 columns</p>\n",
              "</div>"
            ],
            "text/plain": [
              "                  username  anime_id  ...     my_last_updated  my_tags\n",
              "0                 karthiga        21  ... 2013-03-03 10:52:53      NaN\n",
              "1                 karthiga        59  ... 2013-03-10 13:54:51      NaN\n",
              "2                 karthiga        74  ... 2013-04-27 16:43:35      NaN\n",
              "3                 karthiga       120  ... 2013-03-03 10:53:57      NaN\n",
              "4                 karthiga       178  ... 2013-03-27 15:59:13      NaN\n",
              "...                    ...       ...  ...                 ...      ...\n",
              "31284025     Yokonightcore     15611  ... 2015-09-07 17:33:03      NaN\n",
              "31284026     Yokonightcore     27815  ... 2015-09-07 17:32:05      NaN\n",
              "31284027            wargod      5945  ... 2010-03-29 04:24:12      NaN\n",
              "31284028  JMc_SetoKai_LoVe      1316  ... 2009-12-23 05:45:14      NaN\n",
              "31284029    hinogurl_mikha      1744  ... 2008-04-05 11:36:20      NaN\n",
              "\n",
              "[19171950 rows x 9 columns]"
            ]
          },
          "metadata": {
            "tags": []
          },
          "execution_count": 70
        }
      ]
    }
  ]
}