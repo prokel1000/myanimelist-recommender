{
  "nbformat": 4,
  "nbformat_minor": 0,
  "metadata": {
    "colab": {
      "name": "try_it_out.ipynb",
      "provenance": [],
      "collapsed_sections": [],
      "machine_shape": "hm",
      "mount_file_id": "1SdPi96IuaR8N2L4VQc_kXRuccNwSsP2u",
      "authorship_tag": "ABX9TyOT2I4N8P6N4LOeM5P4fv8W",
      "include_colab_link": true
    },
    "kernelspec": {
      "name": "python3",
      "display_name": "Python 3"
    }
  },
  "cells": [
    {
      "cell_type": "markdown",
      "metadata": {
        "id": "view-in-github",
        "colab_type": "text"
      },
      "source": [
        "<a href=\"https://colab.research.google.com/github/robert-myers/myanimelist-recommender/blob/master/notebooks/try_it_out.ipynb\" target=\"_parent\"><img src=\"https://colab.research.google.com/assets/colab-badge.svg\" alt=\"Open In Colab\"/></a>"
      ]
    },
    {
      "cell_type": "code",
      "metadata": {
        "id": "SekBkvMQHCBU",
        "colab_type": "code",
        "outputId": "b9500758-56c6-475c-f7a4-3ec782a601ec",
        "colab": {
          "base_uri": "https://localhost:8080/",
          "height": 632
        }
      },
      "source": [
        "pip install jikanpy && pip install surprise"
      ],
      "execution_count": 145,
      "outputs": [
        {
          "output_type": "stream",
          "text": [
            "Collecting jikanpy\n",
            "  Downloading https://files.pythonhosted.org/packages/20/9a/57008e44af347d957e389b06199c62c52b13d5e0bb464309760221fc0491/jikanpy-3.4.2-py3-none-any.whl\n",
            "Collecting aiohttp\n",
            "\u001b[?25l  Downloading https://files.pythonhosted.org/packages/7c/39/7eb5f98d24904e0f6d3edb505d4aa60e3ef83c0a58d6fe18244a51757247/aiohttp-3.6.2-cp36-cp36m-manylinux1_x86_64.whl (1.2MB)\n",
            "\u001b[K     |████████████████████████████████| 1.2MB 4.1MB/s \n",
            "\u001b[?25hRequirement already satisfied: requests in /usr/local/lib/python3.6/dist-packages (from jikanpy) (2.21.0)\n",
            "Collecting multidict<5.0,>=4.5\n",
            "\u001b[?25l  Downloading https://files.pythonhosted.org/packages/30/2e/3ab2f1fb72571f75013db323a3799d505d99f3bc203513604f1ffb9b7858/multidict-4.7.5-cp36-cp36m-manylinux1_x86_64.whl (148kB)\n",
            "\u001b[K     |████████████████████████████████| 153kB 19.7MB/s \n",
            "\u001b[?25hRequirement already satisfied: chardet<4.0,>=2.0 in /usr/local/lib/python3.6/dist-packages (from aiohttp->jikanpy) (3.0.4)\n",
            "Requirement already satisfied: typing-extensions>=3.6.5; python_version < \"3.7\" in /usr/local/lib/python3.6/dist-packages (from aiohttp->jikanpy) (3.6.6)\n",
            "Collecting async-timeout<4.0,>=3.0\n",
            "  Downloading https://files.pythonhosted.org/packages/e1/1e/5a4441be21b0726c4464f3f23c8b19628372f606755a9d2e46c187e65ec4/async_timeout-3.0.1-py3-none-any.whl\n",
            "Collecting yarl<2.0,>=1.0\n",
            "\u001b[?25l  Downloading https://files.pythonhosted.org/packages/95/8f/0209fc5d975f839344c33c822ff2f7ef80f6b1e984673a5a68f960bfa583/yarl-1.4.2-cp36-cp36m-manylinux1_x86_64.whl (252kB)\n",
            "\u001b[K     |████████████████████████████████| 256kB 20.8MB/s \n",
            "\u001b[?25hRequirement already satisfied: attrs>=17.3.0 in /usr/local/lib/python3.6/dist-packages (from aiohttp->jikanpy) (19.3.0)\n",
            "Collecting idna-ssl>=1.0; python_version < \"3.7\"\n",
            "  Downloading https://files.pythonhosted.org/packages/46/03/07c4894aae38b0de52b52586b24bf189bb83e4ddabfe2e2c8f2419eec6f4/idna-ssl-1.1.0.tar.gz\n",
            "Requirement already satisfied: certifi>=2017.4.17 in /usr/local/lib/python3.6/dist-packages (from requests->jikanpy) (2019.11.28)\n",
            "Requirement already satisfied: urllib3<1.25,>=1.21.1 in /usr/local/lib/python3.6/dist-packages (from requests->jikanpy) (1.24.3)\n",
            "Requirement already satisfied: idna<2.9,>=2.5 in /usr/local/lib/python3.6/dist-packages (from requests->jikanpy) (2.8)\n",
            "Building wheels for collected packages: idna-ssl\n",
            "  Building wheel for idna-ssl (setup.py) ... \u001b[?25l\u001b[?25hdone\n",
            "  Created wheel for idna-ssl: filename=idna_ssl-1.1.0-cp36-none-any.whl size=3162 sha256=3d08797215393b599659cda182d9d123c123879e76318cc09e4b4efc2cfb9251\n",
            "  Stored in directory: /root/.cache/pip/wheels/d3/00/b3/32d613e19e08a739751dd6bf998cfed277728f8b2127ad4eb7\n",
            "Successfully built idna-ssl\n",
            "Installing collected packages: multidict, async-timeout, yarl, idna-ssl, aiohttp, jikanpy\n",
            "Successfully installed aiohttp-3.6.2 async-timeout-3.0.1 idna-ssl-1.1.0 jikanpy-3.4.2 multidict-4.7.5 yarl-1.4.2\n",
            "Requirement already satisfied: surprise in /usr/local/lib/python3.6/dist-packages (0.1)\n",
            "Requirement already satisfied: scikit-surprise in /usr/local/lib/python3.6/dist-packages (from surprise) (1.1.0)\n",
            "Requirement already satisfied: numpy>=1.11.2 in /usr/local/lib/python3.6/dist-packages (from scikit-surprise->surprise) (1.17.5)\n",
            "Requirement already satisfied: joblib>=0.11 in /usr/local/lib/python3.6/dist-packages (from scikit-surprise->surprise) (0.14.1)\n",
            "Requirement already satisfied: six>=1.10.0 in /usr/local/lib/python3.6/dist-packages (from scikit-surprise->surprise) (1.12.0)\n",
            "Requirement already satisfied: scipy>=1.0.0 in /usr/local/lib/python3.6/dist-packages (from scikit-surprise->surprise) (1.4.1)\n"
          ],
          "name": "stdout"
        }
      ]
    },
    {
      "cell_type": "code",
      "metadata": {
        "id": "VW1C2Bq2ISRx",
        "colab_type": "code",
        "colab": {}
      },
      "source": [
        "import pandas as pd\n",
        "\n",
        "from jikanpy import Jikan\n",
        "from surprise import accuracy\n",
        "from surprise.dump import load"
      ],
      "execution_count": 0,
      "outputs": []
    },
    {
      "cell_type": "code",
      "metadata": {
        "id": "wT5rjUhj70OW",
        "colab_type": "code",
        "colab": {}
      },
      "source": [
        "jikan = Jikan()"
      ],
      "execution_count": 0,
      "outputs": []
    },
    {
      "cell_type": "code",
      "metadata": {
        "id": "80uvM_z-d-Dt",
        "colab_type": "code",
        "colab": {}
      },
      "source": [
        "users = pd.read_csv(\"https://s3.us-east-2.amazonaws.com/my.anime.list.sagemaker/myanimelist/UserList.csv\")\n",
        "users = users[[\"username\"]]\n",
        "users = users.dropna()\n",
        "users[\"lower\"] = users[\"username\"].apply(lambda x: x.lower())\n",
        "users = users.set_index(\"lower\")"
      ],
      "execution_count": 0,
      "outputs": []
    },
    {
      "cell_type": "code",
      "metadata": {
        "id": "y5V6BJPweDMJ",
        "colab_type": "code",
        "colab": {}
      },
      "source": [
        "users = dict(users.T)"
      ],
      "execution_count": 0,
      "outputs": []
    },
    {
      "cell_type": "code",
      "metadata": {
        "id": "yAOJ4VMoe8Ke",
        "colab_type": "code",
        "colab": {}
      },
      "source": [
        "def get_uid(username):\n",
        "  username = username.lower()\n",
        "  if username in users:\n",
        "    return users[username.lower()][0]\n",
        "  else:\n",
        "    return username"
      ],
      "execution_count": 0,
      "outputs": []
    },
    {
      "cell_type": "code",
      "metadata": {
        "id": "FKmnhFYVxX8X",
        "colab_type": "code",
        "colab": {
          "base_uri": "https://localhost:8080/",
          "height": 419
        },
        "outputId": "fa0547d3-8f82-475b-a79c-81a751515bef"
      },
      "source": [
        "anime = pd.read_csv(\"https://s3.us-east-2.amazonaws.com/my.anime.list.sagemaker/myanimelist/AnimeList.csv\", index_col=\"anime_id\")[[\"title\",\t\"image_url\"]]\n",
        "anime.reset_index()[[\"anime_id\"]]"
      ],
      "execution_count": 123,
      "outputs": [
        {
          "output_type": "execute_result",
          "data": {
            "text/html": [
              "<div>\n",
              "<style scoped>\n",
              "    .dataframe tbody tr th:only-of-type {\n",
              "        vertical-align: middle;\n",
              "    }\n",
              "\n",
              "    .dataframe tbody tr th {\n",
              "        vertical-align: top;\n",
              "    }\n",
              "\n",
              "    .dataframe thead th {\n",
              "        text-align: right;\n",
              "    }\n",
              "</style>\n",
              "<table border=\"1\" class=\"dataframe\">\n",
              "  <thead>\n",
              "    <tr style=\"text-align: right;\">\n",
              "      <th></th>\n",
              "      <th>anime_id</th>\n",
              "    </tr>\n",
              "  </thead>\n",
              "  <tbody>\n",
              "    <tr>\n",
              "      <th>0</th>\n",
              "      <td>11013</td>\n",
              "    </tr>\n",
              "    <tr>\n",
              "      <th>1</th>\n",
              "      <td>2104</td>\n",
              "    </tr>\n",
              "    <tr>\n",
              "      <th>2</th>\n",
              "      <td>5262</td>\n",
              "    </tr>\n",
              "    <tr>\n",
              "      <th>3</th>\n",
              "      <td>721</td>\n",
              "    </tr>\n",
              "    <tr>\n",
              "      <th>4</th>\n",
              "      <td>12365</td>\n",
              "    </tr>\n",
              "    <tr>\n",
              "      <th>...</th>\n",
              "      <td>...</td>\n",
              "    </tr>\n",
              "    <tr>\n",
              "      <th>14473</th>\n",
              "      <td>26089</td>\n",
              "    </tr>\n",
              "    <tr>\n",
              "      <th>14474</th>\n",
              "      <td>21525</td>\n",
              "    </tr>\n",
              "    <tr>\n",
              "      <th>14475</th>\n",
              "      <td>37897</td>\n",
              "    </tr>\n",
              "    <tr>\n",
              "      <th>14476</th>\n",
              "      <td>34193</td>\n",
              "    </tr>\n",
              "    <tr>\n",
              "      <th>14477</th>\n",
              "      <td>37908</td>\n",
              "    </tr>\n",
              "  </tbody>\n",
              "</table>\n",
              "<p>14478 rows × 1 columns</p>\n",
              "</div>"
            ],
            "text/plain": [
              "       anime_id\n",
              "0         11013\n",
              "1          2104\n",
              "2          5262\n",
              "3           721\n",
              "4         12365\n",
              "...         ...\n",
              "14473     26089\n",
              "14474     21525\n",
              "14475     37897\n",
              "14476     34193\n",
              "14477     37908\n",
              "\n",
              "[14478 rows x 1 columns]"
            ]
          },
          "metadata": {
            "tags": []
          },
          "execution_count": 123
        }
      ]
    },
    {
      "cell_type": "code",
      "metadata": {
        "id": "UxsfubEvIU5t",
        "colab_type": "code",
        "colab": {}
      },
      "source": [
        "surprised = load(\"/content/drive/My Drive/svd.pickle\")"
      ],
      "execution_count": 0,
      "outputs": []
    },
    {
      "cell_type": "code",
      "metadata": {
        "id": "TfAa5cTQIi9H",
        "colab_type": "code",
        "colab": {}
      },
      "source": [
        "algo = surprised[1]\n",
        "predictions = surprised[0]"
      ],
      "execution_count": 0,
      "outputs": []
    },
    {
      "cell_type": "code",
      "metadata": {
        "id": "plJwaVPhJjd-",
        "colab_type": "code",
        "outputId": "bd4b6aa5-b363-4259-dadc-e993ec89cd75",
        "colab": {
          "base_uri": "https://localhost:8080/",
          "height": 51
        }
      },
      "source": [
        "accuracy.rmse(predictions)"
      ],
      "execution_count": 8,
      "outputs": [
        {
          "output_type": "stream",
          "text": [
            "RMSE: 1.1859\n"
          ],
          "name": "stdout"
        },
        {
          "output_type": "execute_result",
          "data": {
            "text/plain": [
              "1.1859182533000143"
            ]
          },
          "metadata": {
            "tags": []
          },
          "execution_count": 8
        }
      ]
    },
    {
      "cell_type": "code",
      "metadata": {
        "id": "g5E_MZXe78C1",
        "colab_type": "code",
        "colab": {}
      },
      "source": [
        "orionite_completed = pd.DataFrame(jikan.user(username=user, request='animelist', argument='completed', page=1)[\"anime\"])\n",
        "orionite_completed = orionite_completed.append(pd.DataFrame(jikan.user(username=user, request='animelist', argument='completed', page=2)[\"anime\"]))"
      ],
      "execution_count": 0,
      "outputs": []
    },
    {
      "cell_type": "code",
      "metadata": {
        "id": "gAzp7t4OBcRk",
        "colab_type": "code",
        "colab": {
          "base_uri": "https://localhost:8080/",
          "height": 674
        },
        "outputId": "7e321f5d-3e73-47b1-eab0-b3ccfb7a3872"
      },
      "source": [
        "orionite_completed[orionite_completed[\"title\"].str.contains(\"Tengen\")]"
      ],
      "execution_count": 245,
      "outputs": [
        {
          "output_type": "execute_result",
          "data": {
            "text/html": [
              "<div>\n",
              "<style scoped>\n",
              "    .dataframe tbody tr th:only-of-type {\n",
              "        vertical-align: middle;\n",
              "    }\n",
              "\n",
              "    .dataframe tbody tr th {\n",
              "        vertical-align: top;\n",
              "    }\n",
              "\n",
              "    .dataframe thead th {\n",
              "        text-align: right;\n",
              "    }\n",
              "</style>\n",
              "<table border=\"1\" class=\"dataframe\">\n",
              "  <thead>\n",
              "    <tr style=\"text-align: right;\">\n",
              "      <th></th>\n",
              "      <th>mal_id</th>\n",
              "      <th>title</th>\n",
              "      <th>video_url</th>\n",
              "      <th>url</th>\n",
              "      <th>image_url</th>\n",
              "      <th>type</th>\n",
              "      <th>watching_status</th>\n",
              "      <th>score</th>\n",
              "      <th>watched_episodes</th>\n",
              "      <th>total_episodes</th>\n",
              "      <th>airing_status</th>\n",
              "      <th>season_name</th>\n",
              "      <th>season_year</th>\n",
              "      <th>has_episode_video</th>\n",
              "      <th>has_promo_video</th>\n",
              "      <th>has_video</th>\n",
              "      <th>is_rewatching</th>\n",
              "      <th>tags</th>\n",
              "      <th>rating</th>\n",
              "      <th>start_date</th>\n",
              "      <th>end_date</th>\n",
              "      <th>watch_start_date</th>\n",
              "      <th>watch_end_date</th>\n",
              "      <th>days</th>\n",
              "      <th>storage</th>\n",
              "      <th>priority</th>\n",
              "      <th>added_to_list</th>\n",
              "      <th>studios</th>\n",
              "      <th>licensors</th>\n",
              "    </tr>\n",
              "  </thead>\n",
              "  <tbody>\n",
              "    <tr>\n",
              "      <th>107</th>\n",
              "      <td>2001</td>\n",
              "      <td>Tengen Toppa Gurren Lagann</td>\n",
              "      <td>https://myanimelist.net/anime/2001/Tengen_Topp...</td>\n",
              "      <td>https://myanimelist.net/anime/2001/Tengen_Topp...</td>\n",
              "      <td>https://cdn.myanimelist.net/images/anime/4/512...</td>\n",
              "      <td>TV</td>\n",
              "      <td>2</td>\n",
              "      <td>10</td>\n",
              "      <td>27</td>\n",
              "      <td>27</td>\n",
              "      <td>2</td>\n",
              "      <td>None</td>\n",
              "      <td>None</td>\n",
              "      <td>False</td>\n",
              "      <td>True</td>\n",
              "      <td>True</td>\n",
              "      <td>False</td>\n",
              "      <td>None</td>\n",
              "      <td>PG-13</td>\n",
              "      <td>2007-01-04T00:00:00+00:00</td>\n",
              "      <td>2009-06-09T00:00:00+00:00</td>\n",
              "      <td>2009-01-06T00:00:00+00:00</td>\n",
              "      <td>2009-06-09T00:00:00+00:00</td>\n",
              "      <td>98.0</td>\n",
              "      <td>None</td>\n",
              "      <td>Low</td>\n",
              "      <td>False</td>\n",
              "      <td>[]</td>\n",
              "      <td>[]</td>\n",
              "    </tr>\n",
              "    <tr>\n",
              "      <th>108</th>\n",
              "      <td>4107</td>\n",
              "      <td>Tengen Toppa Gurren Lagann Movie 1: Gurren-hen</td>\n",
              "      <td>https://myanimelist.net/anime/4107/Tengen_Topp...</td>\n",
              "      <td>https://myanimelist.net/anime/4107/Tengen_Topp...</td>\n",
              "      <td>https://cdn.myanimelist.net/images/anime/10/11...</td>\n",
              "      <td>Movie</td>\n",
              "      <td>2</td>\n",
              "      <td>9</td>\n",
              "      <td>1</td>\n",
              "      <td>1</td>\n",
              "      <td>2</td>\n",
              "      <td>None</td>\n",
              "      <td>None</td>\n",
              "      <td>False</td>\n",
              "      <td>True</td>\n",
              "      <td>True</td>\n",
              "      <td>False</td>\n",
              "      <td>None</td>\n",
              "      <td>PG-13</td>\n",
              "      <td>2008-06-09T00:00:00+00:00</td>\n",
              "      <td>2008-06-09T00:00:00+00:00</td>\n",
              "      <td>2010-11-04T00:00:00+00:00</td>\n",
              "      <td>2010-11-04T00:00:00+00:00</td>\n",
              "      <td>1.0</td>\n",
              "      <td>None</td>\n",
              "      <td>Low</td>\n",
              "      <td>False</td>\n",
              "      <td>[]</td>\n",
              "      <td>[]</td>\n",
              "    </tr>\n",
              "    <tr>\n",
              "      <th>109</th>\n",
              "      <td>4565</td>\n",
              "      <td>Tengen Toppa Gurren Lagann Movie 2: Lagann-hen</td>\n",
              "      <td>https://myanimelist.net/anime/4565/Tengen_Topp...</td>\n",
              "      <td>https://myanimelist.net/anime/4565/Tengen_Topp...</td>\n",
              "      <td>https://cdn.myanimelist.net/images/anime/12/19...</td>\n",
              "      <td>Movie</td>\n",
              "      <td>2</td>\n",
              "      <td>10</td>\n",
              "      <td>1</td>\n",
              "      <td>1</td>\n",
              "      <td>2</td>\n",
              "      <td>None</td>\n",
              "      <td>None</td>\n",
              "      <td>False</td>\n",
              "      <td>False</td>\n",
              "      <td>False</td>\n",
              "      <td>False</td>\n",
              "      <td>None</td>\n",
              "      <td>R+</td>\n",
              "      <td>2010-10-04T00:00:00+00:00</td>\n",
              "      <td>2010-10-04T00:00:00+00:00</td>\n",
              "      <td>2012-06-01T00:00:00+00:00</td>\n",
              "      <td>2012-06-01T00:00:00+00:00</td>\n",
              "      <td>1.0</td>\n",
              "      <td>None</td>\n",
              "      <td>Low</td>\n",
              "      <td>False</td>\n",
              "      <td>[]</td>\n",
              "      <td>[]</td>\n",
              "    </tr>\n",
              "    <tr>\n",
              "      <th>110</th>\n",
              "      <td>5947</td>\n",
              "      <td>Tengen Toppa Gurren Lagann Movie Zenyasai: Vir...</td>\n",
              "      <td>https://myanimelist.net/anime/5947/Tengen_Topp...</td>\n",
              "      <td>https://myanimelist.net/anime/5947/Tengen_Topp...</td>\n",
              "      <td>https://cdn.myanimelist.net/images/anime/13/22...</td>\n",
              "      <td>OVA</td>\n",
              "      <td>2</td>\n",
              "      <td>8</td>\n",
              "      <td>1</td>\n",
              "      <td>1</td>\n",
              "      <td>2</td>\n",
              "      <td>None</td>\n",
              "      <td>None</td>\n",
              "      <td>False</td>\n",
              "      <td>False</td>\n",
              "      <td>False</td>\n",
              "      <td>False</td>\n",
              "      <td>None</td>\n",
              "      <td>PG-13</td>\n",
              "      <td>2008-12-01T00:00:00+00:00</td>\n",
              "      <td>2008-12-01T00:00:00+00:00</td>\n",
              "      <td>2010-09-01T00:00:00+00:00</td>\n",
              "      <td>2010-09-01T00:00:00+00:00</td>\n",
              "      <td>1.0</td>\n",
              "      <td>None</td>\n",
              "      <td>Low</td>\n",
              "      <td>False</td>\n",
              "      <td>[]</td>\n",
              "      <td>[]</td>\n",
              "    </tr>\n",
              "    <tr>\n",
              "      <th>111</th>\n",
              "      <td>6548</td>\n",
              "      <td>Tengen Toppa Gurren Lagann: Kirameki★Yoko Box ...</td>\n",
              "      <td>https://myanimelist.net/anime/6548/Tengen_Topp...</td>\n",
              "      <td>https://myanimelist.net/anime/6548/Tengen_Topp...</td>\n",
              "      <td>https://cdn.myanimelist.net/images/anime/9/249...</td>\n",
              "      <td>Music</td>\n",
              "      <td>2</td>\n",
              "      <td>8</td>\n",
              "      <td>1</td>\n",
              "      <td>1</td>\n",
              "      <td>2</td>\n",
              "      <td>None</td>\n",
              "      <td>None</td>\n",
              "      <td>False</td>\n",
              "      <td>False</td>\n",
              "      <td>False</td>\n",
              "      <td>False</td>\n",
              "      <td>None</td>\n",
              "      <td>PG-13</td>\n",
              "      <td>2011-03-05T00:00:00+00:00</td>\n",
              "      <td>2011-03-05T00:00:00+00:00</td>\n",
              "      <td>None</td>\n",
              "      <td>None</td>\n",
              "      <td>NaN</td>\n",
              "      <td>None</td>\n",
              "      <td>Low</td>\n",
              "      <td>False</td>\n",
              "      <td>[]</td>\n",
              "      <td>[]</td>\n",
              "    </tr>\n",
              "    <tr>\n",
              "      <th>112</th>\n",
              "      <td>3352</td>\n",
              "      <td>Tengen Toppa Gurren Lagann: Mitee Mono wa Mite...</td>\n",
              "      <td>https://myanimelist.net/anime/3352/Tengen_Topp...</td>\n",
              "      <td>https://myanimelist.net/anime/3352/Tengen_Topp...</td>\n",
              "      <td>https://cdn.myanimelist.net/images/anime/9/196...</td>\n",
              "      <td>Special</td>\n",
              "      <td>2</td>\n",
              "      <td>8</td>\n",
              "      <td>0</td>\n",
              "      <td>1</td>\n",
              "      <td>2</td>\n",
              "      <td>None</td>\n",
              "      <td>None</td>\n",
              "      <td>False</td>\n",
              "      <td>False</td>\n",
              "      <td>False</td>\n",
              "      <td>False</td>\n",
              "      <td>None</td>\n",
              "      <td>PG-13</td>\n",
              "      <td>2010-02-02T00:00:00+00:00</td>\n",
              "      <td>2010-02-02T00:00:00+00:00</td>\n",
              "      <td>2007-04-12T00:00:00+00:00</td>\n",
              "      <td>2007-04-12T00:00:00+00:00</td>\n",
              "      <td>1.0</td>\n",
              "      <td>None</td>\n",
              "      <td>Low</td>\n",
              "      <td>False</td>\n",
              "      <td>[]</td>\n",
              "      <td>[]</td>\n",
              "    </tr>\n",
              "    <tr>\n",
              "      <th>113</th>\n",
              "      <td>4705</td>\n",
              "      <td>Tengen Toppa Gurren Lagann: Parallel Works</td>\n",
              "      <td>https://myanimelist.net/anime/4705/Tengen_Topp...</td>\n",
              "      <td>https://myanimelist.net/anime/4705/Tengen_Topp...</td>\n",
              "      <td>https://cdn.myanimelist.net/images/anime/5/109...</td>\n",
              "      <td>Music</td>\n",
              "      <td>2</td>\n",
              "      <td>9</td>\n",
              "      <td>8</td>\n",
              "      <td>8</td>\n",
              "      <td>2</td>\n",
              "      <td>None</td>\n",
              "      <td>None</td>\n",
              "      <td>False</td>\n",
              "      <td>False</td>\n",
              "      <td>False</td>\n",
              "      <td>False</td>\n",
              "      <td>None</td>\n",
              "      <td>PG-13</td>\n",
              "      <td>2009-03-06T00:00:00+00:00</td>\n",
              "      <td>2009-02-09T00:00:00+00:00</td>\n",
              "      <td>2009-03-06T00:00:00+00:00</td>\n",
              "      <td>2009-02-09T00:00:00+00:00</td>\n",
              "      <td>92.0</td>\n",
              "      <td>None</td>\n",
              "      <td>Low</td>\n",
              "      <td>False</td>\n",
              "      <td>[]</td>\n",
              "      <td>[]</td>\n",
              "    </tr>\n",
              "    <tr>\n",
              "      <th>114</th>\n",
              "      <td>8348</td>\n",
              "      <td>Tengen Toppa Gurren Lagann: Parallel Works 2</td>\n",
              "      <td>https://myanimelist.net/anime/8348/Tengen_Topp...</td>\n",
              "      <td>https://myanimelist.net/anime/8348/Tengen_Topp...</td>\n",
              "      <td>https://cdn.myanimelist.net/images/anime/13/23...</td>\n",
              "      <td>Music</td>\n",
              "      <td>2</td>\n",
              "      <td>8</td>\n",
              "      <td>7</td>\n",
              "      <td>7</td>\n",
              "      <td>2</td>\n",
              "      <td>None</td>\n",
              "      <td>None</td>\n",
              "      <td>False</td>\n",
              "      <td>False</td>\n",
              "      <td>False</td>\n",
              "      <td>False</td>\n",
              "      <td>None</td>\n",
              "      <td>PG-13</td>\n",
              "      <td>2012-02-05T00:00:00+00:00</td>\n",
              "      <td>2012-02-05T00:00:00+00:00</td>\n",
              "      <td>2010-04-06T00:00:00+00:00</td>\n",
              "      <td>2010-04-06T00:00:00+00:00</td>\n",
              "      <td>1.0</td>\n",
              "      <td>None</td>\n",
              "      <td>Low</td>\n",
              "      <td>False</td>\n",
              "      <td>[]</td>\n",
              "      <td>[]</td>\n",
              "    </tr>\n",
              "  </tbody>\n",
              "</table>\n",
              "</div>"
            ],
            "text/plain": [
              "     mal_id  ... licensors\n",
              "107    2001  ...        []\n",
              "108    4107  ...        []\n",
              "109    4565  ...        []\n",
              "110    5947  ...        []\n",
              "111    6548  ...        []\n",
              "112    3352  ...        []\n",
              "113    4705  ...        []\n",
              "114    8348  ...        []\n",
              "\n",
              "[8 rows x 29 columns]"
            ]
          },
          "metadata": {
            "tags": []
          },
          "execution_count": 245
        }
      ]
    },
    {
      "cell_type": "code",
      "metadata": {
        "id": "AO9apR22-QEQ",
        "colab_type": "code",
        "colab": {
          "base_uri": "https://localhost:8080/",
          "height": 34
        },
        "outputId": "4674a4d7-636a-479e-d549-71884b704330"
      },
      "source": [
        "orionite_completed_lst = list(orionite_completed[\"mal_id\"])\n",
        "\n",
        "2001 in orionite_completed_lst"
      ],
      "execution_count": 250,
      "outputs": [
        {
          "output_type": "execute_result",
          "data": {
            "text/plain": [
              "True"
            ]
          },
          "metadata": {
            "tags": []
          },
          "execution_count": 250
        }
      ]
    },
    {
      "cell_type": "code",
      "metadata": {
        "id": "MyPmZstZKJhx",
        "colab_type": "code",
        "outputId": "c2d20dfb-5727-4ccd-d1f6-45067887a559",
        "colab": {
          "base_uri": "https://localhost:8080/",
          "height": 359
        }
      },
      "source": [
        "user = get_uid(\"orionite\")\n",
        "\n",
        "user_orionite = anime.reset_index()[[\"anime_id\"]]\n",
        "\n",
        "user_orionite[\"est\"] = user_orionite[\"anime_id\"].apply(lambda item: algo.predict(user, item)[3] if item not in orionite_completed_lst else 0)\n",
        "\n",
        "user_orionite.sort_values(\"est\", ascending=False).head(10)[\"anime_id\"].apply(lambda x: anime.loc[x])"
      ],
      "execution_count": 251,
      "outputs": [
        {
          "output_type": "execute_result",
          "data": {
            "text/html": [
              "<div>\n",
              "<style scoped>\n",
              "    .dataframe tbody tr th:only-of-type {\n",
              "        vertical-align: middle;\n",
              "    }\n",
              "\n",
              "    .dataframe tbody tr th {\n",
              "        vertical-align: top;\n",
              "    }\n",
              "\n",
              "    .dataframe thead th {\n",
              "        text-align: right;\n",
              "    }\n",
              "</style>\n",
              "<table border=\"1\" class=\"dataframe\">\n",
              "  <thead>\n",
              "    <tr style=\"text-align: right;\">\n",
              "      <th></th>\n",
              "      <th>title</th>\n",
              "      <th>image_url</th>\n",
              "    </tr>\n",
              "  </thead>\n",
              "  <tbody>\n",
              "    <tr>\n",
              "      <th>7483</th>\n",
              "      <td>Redline</td>\n",
              "      <td>https://myanimelist.cdn-dena.com/images/anime/...</td>\n",
              "    </tr>\n",
              "    <tr>\n",
              "      <th>4687</th>\n",
              "      <td>Detroit Metal City</td>\n",
              "      <td>https://myanimelist.cdn-dena.com/images/anime/...</td>\n",
              "    </tr>\n",
              "    <tr>\n",
              "      <th>3677</th>\n",
              "      <td>Prison School</td>\n",
              "      <td>https://myanimelist.cdn-dena.com/images/anime/...</td>\n",
              "    </tr>\n",
              "    <tr>\n",
              "      <th>10598</th>\n",
              "      <td>Daicon Opening Animations</td>\n",
              "      <td>https://myanimelist.cdn-dena.com/images/anime/...</td>\n",
              "    </tr>\n",
              "    <tr>\n",
              "      <th>10810</th>\n",
              "      <td>JoJo no Kimyou na Bouken (TV)</td>\n",
              "      <td>https://myanimelist.cdn-dena.com/images/anime/...</td>\n",
              "    </tr>\n",
              "    <tr>\n",
              "      <th>13232</th>\n",
              "      <td>Nihon Animator Mihonichi</td>\n",
              "      <td>https://myanimelist.cdn-dena.com/images/anime/...</td>\n",
              "    </tr>\n",
              "    <tr>\n",
              "      <th>9889</th>\n",
              "      <td>Great Teacher Onizuka</td>\n",
              "      <td>https://myanimelist.cdn-dena.com/images/anime/...</td>\n",
              "    </tr>\n",
              "    <tr>\n",
              "      <th>6687</th>\n",
              "      <td>Mahou Shoujo Lyrical Nanoha: The Movie 2nd A&amp;#...</td>\n",
              "      <td>https://myanimelist.cdn-dena.com/images/anime/...</td>\n",
              "    </tr>\n",
              "    <tr>\n",
              "      <th>5005</th>\n",
              "      <td>Hellsing Ultimate</td>\n",
              "      <td>https://myanimelist.cdn-dena.com/images/anime/...</td>\n",
              "    </tr>\n",
              "    <tr>\n",
              "      <th>9880</th>\n",
              "      <td>Uchuu Senkan Yamato 2199</td>\n",
              "      <td>https://myanimelist.cdn-dena.com/images/anime/...</td>\n",
              "    </tr>\n",
              "  </tbody>\n",
              "</table>\n",
              "</div>"
            ],
            "text/plain": [
              "                                                   title                                          image_url\n",
              "7483                                             Redline  https://myanimelist.cdn-dena.com/images/anime/...\n",
              "4687                                  Detroit Metal City  https://myanimelist.cdn-dena.com/images/anime/...\n",
              "3677                                       Prison School  https://myanimelist.cdn-dena.com/images/anime/...\n",
              "10598                          Daicon Opening Animations  https://myanimelist.cdn-dena.com/images/anime/...\n",
              "10810                      JoJo no Kimyou na Bouken (TV)  https://myanimelist.cdn-dena.com/images/anime/...\n",
              "13232                           Nihon Animator Mihonichi  https://myanimelist.cdn-dena.com/images/anime/...\n",
              "9889                               Great Teacher Onizuka  https://myanimelist.cdn-dena.com/images/anime/...\n",
              "6687   Mahou Shoujo Lyrical Nanoha: The Movie 2nd A&#...  https://myanimelist.cdn-dena.com/images/anime/...\n",
              "5005                                   Hellsing Ultimate  https://myanimelist.cdn-dena.com/images/anime/...\n",
              "9880                            Uchuu Senkan Yamato 2199  https://myanimelist.cdn-dena.com/images/anime/..."
            ]
          },
          "metadata": {
            "tags": []
          },
          "execution_count": 251
        }
      ]
    },
    {
      "cell_type": "code",
      "metadata": {
        "id": "7gtyhHsD_GIN",
        "colab_type": "code",
        "colab": {
          "base_uri": "https://localhost:8080/",
          "height": 419
        },
        "outputId": "1bf37ed7-6b58-4fec-a63b-a58d574fef5b"
      },
      "source": [
        "user_orionite"
      ],
      "execution_count": 178,
      "outputs": [
        {
          "output_type": "execute_result",
          "data": {
            "text/html": [
              "<div>\n",
              "<style scoped>\n",
              "    .dataframe tbody tr th:only-of-type {\n",
              "        vertical-align: middle;\n",
              "    }\n",
              "\n",
              "    .dataframe tbody tr th {\n",
              "        vertical-align: top;\n",
              "    }\n",
              "\n",
              "    .dataframe thead th {\n",
              "        text-align: right;\n",
              "    }\n",
              "</style>\n",
              "<table border=\"1\" class=\"dataframe\">\n",
              "  <thead>\n",
              "    <tr style=\"text-align: right;\">\n",
              "      <th></th>\n",
              "      <th>anime_id</th>\n",
              "      <th>est</th>\n",
              "    </tr>\n",
              "  </thead>\n",
              "  <tbody>\n",
              "    <tr>\n",
              "      <th>0</th>\n",
              "      <td>11013</td>\n",
              "      <td>7.910471</td>\n",
              "    </tr>\n",
              "    <tr>\n",
              "      <th>1</th>\n",
              "      <td>2104</td>\n",
              "      <td>9.330880</td>\n",
              "    </tr>\n",
              "    <tr>\n",
              "      <th>2</th>\n",
              "      <td>5262</td>\n",
              "      <td>7.880556</td>\n",
              "    </tr>\n",
              "    <tr>\n",
              "      <th>3</th>\n",
              "      <td>721</td>\n",
              "      <td>7.892112</td>\n",
              "    </tr>\n",
              "    <tr>\n",
              "      <th>4</th>\n",
              "      <td>12365</td>\n",
              "      <td>8.488308</td>\n",
              "    </tr>\n",
              "    <tr>\n",
              "      <th>...</th>\n",
              "      <td>...</td>\n",
              "      <td>...</td>\n",
              "    </tr>\n",
              "    <tr>\n",
              "      <th>14473</th>\n",
              "      <td>26089</td>\n",
              "      <td>7.376596</td>\n",
              "    </tr>\n",
              "    <tr>\n",
              "      <th>14474</th>\n",
              "      <td>21525</td>\n",
              "      <td>7.705882</td>\n",
              "    </tr>\n",
              "    <tr>\n",
              "      <th>14475</th>\n",
              "      <td>37897</td>\n",
              "      <td>7.706382</td>\n",
              "    </tr>\n",
              "    <tr>\n",
              "      <th>14476</th>\n",
              "      <td>34193</td>\n",
              "      <td>7.706382</td>\n",
              "    </tr>\n",
              "    <tr>\n",
              "      <th>14477</th>\n",
              "      <td>37908</td>\n",
              "      <td>7.032458</td>\n",
              "    </tr>\n",
              "  </tbody>\n",
              "</table>\n",
              "<p>14478 rows × 2 columns</p>\n",
              "</div>"
            ],
            "text/plain": [
              "       anime_id       est\n",
              "0         11013  7.910471\n",
              "1          2104  9.330880\n",
              "2          5262  7.880556\n",
              "3           721  7.892112\n",
              "4         12365  8.488308\n",
              "...         ...       ...\n",
              "14473     26089  7.376596\n",
              "14474     21525  7.705882\n",
              "14475     37897  7.706382\n",
              "14476     34193  7.706382\n",
              "14477     37908  7.032458\n",
              "\n",
              "[14478 rows x 2 columns]"
            ]
          },
          "metadata": {
            "tags": []
          },
          "execution_count": 178
        }
      ]
    },
    {
      "cell_type": "code",
      "metadata": {
        "id": "j1-jkiKU5jNr",
        "colab_type": "code",
        "colab": {}
      },
      "source": [
        ""
      ],
      "execution_count": 0,
      "outputs": []
    },
    {
      "cell_type": "code",
      "metadata": {
        "id": "hFs5mfEOp28f",
        "colab_type": "code",
        "colab": {
          "base_uri": "https://localhost:8080/",
          "height": 357
        },
        "outputId": "dd301aa8-a7c4-4971-9837-9ac583989860"
      },
      "source": [
        "# user factors (n_users, n_factors)\n",
        "algo.pu[0]"
      ],
      "execution_count": 224,
      "outputs": [
        {
          "output_type": "execute_result",
          "data": {
            "text/plain": [
              "array([-0.10964764,  0.0644132 ,  0.07801158,  0.18785343,  0.13044843,\n",
              "        0.0816009 , -0.04354965, -0.13049902,  0.29556624, -0.18943162,\n",
              "        0.15343936,  0.11352456, -0.12047465, -0.01193312, -0.00639427,\n",
              "       -0.24816709,  0.04486322, -0.03175322, -0.05919502,  0.26406707,\n",
              "       -0.05431184, -0.10821562, -0.22316178, -0.01923154, -0.07012862,\n",
              "        0.32352119, -0.18648226,  0.03759529,  0.08528246, -0.07084615,\n",
              "       -0.05253177, -0.03210823,  0.1763752 , -0.0618852 ,  0.228194  ,\n",
              "        0.19996405, -0.11953084, -0.34856987, -0.15103973,  0.16548378,\n",
              "        0.11159979,  0.06441523,  0.01045672, -0.07757395,  0.03409468,\n",
              "        0.06488721,  0.00360526, -0.17637929,  0.08903039,  0.17047077,\n",
              "        0.06997993, -0.55025234,  0.0093419 ,  0.08678235,  0.32406392,\n",
              "       -0.1440272 , -0.04432669, -0.05377477,  0.15502467, -0.02025733,\n",
              "        0.05649897,  0.22920751, -0.11284086,  0.13677604,  0.11792899,\n",
              "       -0.35910372, -0.00715197, -0.39200042,  0.17792549, -0.09401946,\n",
              "       -0.06098952,  0.09417173,  0.02991287, -0.1014092 ,  0.17159458,\n",
              "       -0.00096133,  0.21875248,  0.16875688, -0.09920367, -0.13492483,\n",
              "       -0.28686601, -0.03072533, -0.29582041,  0.17573315, -0.0796781 ,\n",
              "        0.10879198,  0.20763055, -0.22027122,  0.05867287, -0.04059841,\n",
              "       -0.2482192 ,  0.15711205,  0.08965538, -0.03294684,  0.04734463,\n",
              "        0.21611313, -0.22089769,  0.09266789, -0.02739802, -0.03378951])"
            ]
          },
          "metadata": {
            "tags": []
          },
          "execution_count": 224
        }
      ]
    },
    {
      "cell_type": "code",
      "metadata": {
        "id": "KqfcXQz3quvh",
        "colab_type": "code",
        "colab": {
          "base_uri": "https://localhost:8080/",
          "height": 357
        },
        "outputId": "079c7dce-67a0-46a2-fecc-a62d12693017"
      },
      "source": [
        "# item factors (n_items, n_factors)\n",
        "algo.qi[0]"
      ],
      "execution_count": 225,
      "outputs": [
        {
          "output_type": "execute_result",
          "data": {
            "text/plain": [
              "array([ 0.42709911, -0.28117853, -0.06381595, -0.05734433, -0.07931106,\n",
              "        0.42733028, -0.34496157, -0.24146143,  0.26566008,  0.10157331,\n",
              "       -0.69469139, -0.40108364,  0.16823679,  0.06035036,  0.13880951,\n",
              "       -0.17149166,  0.39679193,  0.23724567, -0.02829183, -0.06513415,\n",
              "       -0.09182997,  0.32917318, -0.29527852,  0.11351543,  0.41465146,\n",
              "        0.32349009,  0.42206472,  0.1376204 ,  0.32755613,  0.31566931,\n",
              "       -0.00895321,  0.01206662,  0.23039966,  0.55485186, -0.2266337 ,\n",
              "       -0.3160523 ,  0.15437517, -0.08905405,  0.41339608,  0.24516277,\n",
              "        0.25700383,  0.46243531, -0.1665267 ,  0.18155341,  0.34524059,\n",
              "       -0.08826208, -0.08534759,  0.10599066, -0.16018633,  0.4427061 ,\n",
              "        0.31034535, -0.3084262 ,  0.20602024,  0.0273474 , -0.07117152,\n",
              "        0.38642278, -0.12666264,  0.02532184,  0.20931989,  0.16916658,\n",
              "       -0.52505023, -0.12093556, -0.14442767,  0.20892785,  0.13101318,\n",
              "       -0.27524866,  0.06997981, -0.12183319, -0.13099155, -0.1664914 ,\n",
              "       -0.44299161,  0.0347858 ,  0.25757441,  0.27534904, -0.06557194,\n",
              "       -0.18146429, -0.33420747, -0.55793602, -0.19174638,  0.37439544,\n",
              "       -0.09540614,  0.32164815, -0.16752719,  0.29895848, -0.21046284,\n",
              "       -0.06693456,  0.20411301,  0.55055392, -0.19420391,  0.13999898,\n",
              "       -0.47613318, -0.10946335,  0.17923692,  0.35726875, -0.56649599,\n",
              "       -0.01735439, -0.07971671, -0.22383544, -0.24294197,  0.11053297])"
            ]
          },
          "metadata": {
            "tags": []
          },
          "execution_count": 225
        }
      ]
    },
    {
      "cell_type": "code",
      "metadata": {
        "id": "PpF0UOoaqxzY",
        "colab_type": "code",
        "colab": {
          "base_uri": "https://localhost:8080/",
          "height": 34
        },
        "outputId": "fc377340-d34e-4ce1-c231-04e5a4e6cb1c"
      },
      "source": [
        "# user biases (n_users)\n",
        "algo.bu[0]"
      ],
      "execution_count": 226,
      "outputs": [
        {
          "output_type": "execute_result",
          "data": {
            "text/plain": [
              "0.25164323312979164"
            ]
          },
          "metadata": {
            "tags": []
          },
          "execution_count": 226
        }
      ]
    },
    {
      "cell_type": "code",
      "metadata": {
        "id": "IksTrUbuqz1i",
        "colab_type": "code",
        "colab": {
          "base_uri": "https://localhost:8080/",
          "height": 34
        },
        "outputId": "7f382292-89e9-4ced-be8f-d4ecceacf685"
      },
      "source": [
        "# item biases (n_items)\n",
        "algo.bi[0]"
      ],
      "execution_count": 227,
      "outputs": [
        {
          "output_type": "execute_result",
          "data": {
            "text/plain": [
              "-0.056219577209310805"
            ]
          },
          "metadata": {
            "tags": []
          },
          "execution_count": 227
        }
      ]
    },
    {
      "cell_type": "code",
      "metadata": {
        "id": "1qYaBE9Eq1dr",
        "colab_type": "code",
        "colab": {
          "base_uri": "https://localhost:8080/",
          "height": 34
        },
        "outputId": "6fd8c970-549c-4ca6-e780-22a59bfd2f13"
      },
      "source": [
        ""
      ],
      "execution_count": 49,
      "outputs": [
        {
          "output_type": "execute_result",
          "data": {
            "text/plain": [
              "{}"
            ]
          },
          "metadata": {
            "tags": []
          },
          "execution_count": 49
        }
      ]
    },
    {
      "cell_type": "code",
      "metadata": {
        "id": "0ZmVxJD3sWay",
        "colab_type": "code",
        "colab": {}
      },
      "source": [
        ""
      ],
      "execution_count": 0,
      "outputs": []
    }
  ]
}