{
  "nbformat": 4,
  "nbformat_minor": 0,
  "metadata": {
    "colab": {
      "name": "try_it_out.ipynb",
      "provenance": [],
      "collapsed_sections": [],
      "machine_shape": "hm",
      "mount_file_id": "1SdPi96IuaR8N2L4VQc_kXRuccNwSsP2u",
      "authorship_tag": "ABX9TyM0fH5EThDBCsztkb/bnGVK",
      "include_colab_link": true
    },
    "kernelspec": {
      "name": "python3",
      "display_name": "Python 3"
    }
  },
  "cells": [
    {
      "cell_type": "markdown",
      "metadata": {
        "id": "view-in-github",
        "colab_type": "text"
      },
      "source": [
        "<a href=\"https://colab.research.google.com/github/robert-myers/myanimelist-recommender/blob/master/notebooks/try_it_out.ipynb\" target=\"_parent\"><img src=\"https://colab.research.google.com/assets/colab-badge.svg\" alt=\"Open In Colab\"/></a>"
      ]
    },
    {
      "cell_type": "code",
      "metadata": {
        "id": "SekBkvMQHCBU",
        "colab_type": "code",
        "outputId": "7c48f4b7-8710-4d6f-e8d7-cf49553aa7f6",
        "colab": {
          "base_uri": "https://localhost:8080/",
          "height": 802
        }
      },
      "source": [
        "pip install jikanpy && pip install surprise"
      ],
      "execution_count": 1,
      "outputs": [
        {
          "output_type": "stream",
          "text": [
            "Collecting jikanpy\n",
            "  Downloading https://files.pythonhosted.org/packages/20/9a/57008e44af347d957e389b06199c62c52b13d5e0bb464309760221fc0491/jikanpy-3.4.2-py3-none-any.whl\n",
            "Requirement already satisfied: requests in /usr/local/lib/python3.6/dist-packages (from jikanpy) (2.21.0)\n",
            "Collecting aiohttp\n",
            "\u001b[?25l  Downloading https://files.pythonhosted.org/packages/7c/39/7eb5f98d24904e0f6d3edb505d4aa60e3ef83c0a58d6fe18244a51757247/aiohttp-3.6.2-cp36-cp36m-manylinux1_x86_64.whl (1.2MB)\n",
            "\u001b[K     |████████████████████████████████| 1.2MB 5.5MB/s \n",
            "\u001b[?25hRequirement already satisfied: urllib3<1.25,>=1.21.1 in /usr/local/lib/python3.6/dist-packages (from requests->jikanpy) (1.24.3)\n",
            "Requirement already satisfied: chardet<3.1.0,>=3.0.2 in /usr/local/lib/python3.6/dist-packages (from requests->jikanpy) (3.0.4)\n",
            "Requirement already satisfied: certifi>=2017.4.17 in /usr/local/lib/python3.6/dist-packages (from requests->jikanpy) (2019.11.28)\n",
            "Requirement already satisfied: idna<2.9,>=2.5 in /usr/local/lib/python3.6/dist-packages (from requests->jikanpy) (2.8)\n",
            "Collecting async-timeout<4.0,>=3.0\n",
            "  Downloading https://files.pythonhosted.org/packages/e1/1e/5a4441be21b0726c4464f3f23c8b19628372f606755a9d2e46c187e65ec4/async_timeout-3.0.1-py3-none-any.whl\n",
            "Collecting yarl<2.0,>=1.0\n",
            "\u001b[?25l  Downloading https://files.pythonhosted.org/packages/95/8f/0209fc5d975f839344c33c822ff2f7ef80f6b1e984673a5a68f960bfa583/yarl-1.4.2-cp36-cp36m-manylinux1_x86_64.whl (252kB)\n",
            "\u001b[K     |████████████████████████████████| 256kB 58.7MB/s \n",
            "\u001b[?25hCollecting idna-ssl>=1.0; python_version < \"3.7\"\n",
            "  Downloading https://files.pythonhosted.org/packages/46/03/07c4894aae38b0de52b52586b24bf189bb83e4ddabfe2e2c8f2419eec6f4/idna-ssl-1.1.0.tar.gz\n",
            "Collecting multidict<5.0,>=4.5\n",
            "\u001b[?25l  Downloading https://files.pythonhosted.org/packages/30/2e/3ab2f1fb72571f75013db323a3799d505d99f3bc203513604f1ffb9b7858/multidict-4.7.5-cp36-cp36m-manylinux1_x86_64.whl (148kB)\n",
            "\u001b[K     |████████████████████████████████| 153kB 54.5MB/s \n",
            "\u001b[?25hRequirement already satisfied: typing-extensions>=3.6.5; python_version < \"3.7\" in /usr/local/lib/python3.6/dist-packages (from aiohttp->jikanpy) (3.6.6)\n",
            "Requirement already satisfied: attrs>=17.3.0 in /usr/local/lib/python3.6/dist-packages (from aiohttp->jikanpy) (19.3.0)\n",
            "Building wheels for collected packages: idna-ssl\n",
            "  Building wheel for idna-ssl (setup.py) ... \u001b[?25l\u001b[?25hdone\n",
            "  Created wheel for idna-ssl: filename=idna_ssl-1.1.0-cp36-none-any.whl size=3162 sha256=2f64acd73c7fe36329978d1bc6778465dcc2431da20a3d30e9632053bccd3793\n",
            "  Stored in directory: /root/.cache/pip/wheels/d3/00/b3/32d613e19e08a739751dd6bf998cfed277728f8b2127ad4eb7\n",
            "Successfully built idna-ssl\n",
            "Installing collected packages: async-timeout, multidict, yarl, idna-ssl, aiohttp, jikanpy\n",
            "Successfully installed aiohttp-3.6.2 async-timeout-3.0.1 idna-ssl-1.1.0 jikanpy-3.4.2 multidict-4.7.5 yarl-1.4.2\n",
            "Collecting surprise\n",
            "  Downloading https://files.pythonhosted.org/packages/61/de/e5cba8682201fcf9c3719a6fdda95693468ed061945493dea2dd37c5618b/surprise-0.1-py2.py3-none-any.whl\n",
            "Collecting scikit-surprise\n",
            "\u001b[?25l  Downloading https://files.pythonhosted.org/packages/f5/da/b5700d96495fb4f092be497f02492768a3d96a3f4fa2ae7dea46d4081cfa/scikit-surprise-1.1.0.tar.gz (6.4MB)\n",
            "\u001b[K     |████████████████████████████████| 6.5MB 2.9MB/s \n",
            "\u001b[?25hRequirement already satisfied: joblib>=0.11 in /usr/local/lib/python3.6/dist-packages (from scikit-surprise->surprise) (0.14.1)\n",
            "Requirement already satisfied: numpy>=1.11.2 in /usr/local/lib/python3.6/dist-packages (from scikit-surprise->surprise) (1.17.5)\n",
            "Requirement already satisfied: scipy>=1.0.0 in /usr/local/lib/python3.6/dist-packages (from scikit-surprise->surprise) (1.4.1)\n",
            "Requirement already satisfied: six>=1.10.0 in /usr/local/lib/python3.6/dist-packages (from scikit-surprise->surprise) (1.12.0)\n",
            "Building wheels for collected packages: scikit-surprise\n",
            "  Building wheel for scikit-surprise (setup.py) ... \u001b[?25l\u001b[?25hdone\n",
            "  Created wheel for scikit-surprise: filename=scikit_surprise-1.1.0-cp36-cp36m-linux_x86_64.whl size=1678215 sha256=8b6358966ce684b47e147c1c5bca2cdad5f9d03352c4ccf0bf59d19b75eefd34\n",
            "  Stored in directory: /root/.cache/pip/wheels/cc/fa/8c/16c93fccce688ae1bde7d979ff102f7bee980d9cfeb8641bcf\n",
            "Successfully built scikit-surprise\n",
            "Installing collected packages: scikit-surprise, surprise\n",
            "Successfully installed scikit-surprise-1.1.0 surprise-0.1\n"
          ],
          "name": "stdout"
        }
      ]
    },
    {
      "cell_type": "code",
      "metadata": {
        "id": "VW1C2Bq2ISRx",
        "colab_type": "code",
        "colab": {}
      },
      "source": [
        "import pandas as pd\n",
        "import string\n",
        "import time\n",
        "\n",
        "from jikanpy import Jikan\n",
        "from surprise import accuracy\n",
        "from surprise.dump import load"
      ],
      "execution_count": 0,
      "outputs": []
    },
    {
      "cell_type": "code",
      "metadata": {
        "id": "wT5rjUhj70OW",
        "colab_type": "code",
        "colab": {}
      },
      "source": [
        "jikan = Jikan()"
      ],
      "execution_count": 0,
      "outputs": []
    },
    {
      "cell_type": "code",
      "metadata": {
        "id": "80uvM_z-d-Dt",
        "colab_type": "code",
        "colab": {}
      },
      "source": [
        "users = pd.read_csv(\"https://s3.us-east-2.amazonaws.com/my.anime.list.sagemaker/myanimelist/UserList.csv\")\n",
        "users = users[[\"username\"]]\n",
        "users = users.dropna()\n",
        "users[\"lower\"] = users[\"username\"].apply(lambda x: x.lower())\n",
        "users = users.set_index(\"lower\")"
      ],
      "execution_count": 0,
      "outputs": []
    },
    {
      "cell_type": "code",
      "metadata": {
        "id": "y5V6BJPweDMJ",
        "colab_type": "code",
        "colab": {}
      },
      "source": [
        "users = dict(users.T)"
      ],
      "execution_count": 0,
      "outputs": []
    },
    {
      "cell_type": "code",
      "metadata": {
        "id": "yAOJ4VMoe8Ke",
        "colab_type": "code",
        "colab": {}
      },
      "source": [
        "def get_uid(username):\n",
        "  username = username.lower()\n",
        "  if username in users:\n",
        "    return users[username.lower()][0]\n",
        "  else:\n",
        "    return username"
      ],
      "execution_count": 0,
      "outputs": []
    },
    {
      "cell_type": "code",
      "metadata": {
        "id": "FKmnhFYVxX8X",
        "colab_type": "code",
        "colab": {
          "base_uri": "https://localhost:8080/",
          "height": 419
        },
        "outputId": "15691be9-6c4e-4789-b215-ac8b389411f1"
      },
      "source": [
        "anime = pd.read_csv(\"https://s3.us-east-2.amazonaws.com/my.anime.list.sagemaker/myanimelist/AnimeList.csv\", index_col=\"anime_id\")[[\"title\",\t\"image_url\"]]\n",
        "anime.reset_index()[[\"anime_id\"]]"
      ],
      "execution_count": 7,
      "outputs": [
        {
          "output_type": "execute_result",
          "data": {
            "text/html": [
              "<div>\n",
              "<style scoped>\n",
              "    .dataframe tbody tr th:only-of-type {\n",
              "        vertical-align: middle;\n",
              "    }\n",
              "\n",
              "    .dataframe tbody tr th {\n",
              "        vertical-align: top;\n",
              "    }\n",
              "\n",
              "    .dataframe thead th {\n",
              "        text-align: right;\n",
              "    }\n",
              "</style>\n",
              "<table border=\"1\" class=\"dataframe\">\n",
              "  <thead>\n",
              "    <tr style=\"text-align: right;\">\n",
              "      <th></th>\n",
              "      <th>anime_id</th>\n",
              "    </tr>\n",
              "  </thead>\n",
              "  <tbody>\n",
              "    <tr>\n",
              "      <th>0</th>\n",
              "      <td>11013</td>\n",
              "    </tr>\n",
              "    <tr>\n",
              "      <th>1</th>\n",
              "      <td>2104</td>\n",
              "    </tr>\n",
              "    <tr>\n",
              "      <th>2</th>\n",
              "      <td>5262</td>\n",
              "    </tr>\n",
              "    <tr>\n",
              "      <th>3</th>\n",
              "      <td>721</td>\n",
              "    </tr>\n",
              "    <tr>\n",
              "      <th>4</th>\n",
              "      <td>12365</td>\n",
              "    </tr>\n",
              "    <tr>\n",
              "      <th>...</th>\n",
              "      <td>...</td>\n",
              "    </tr>\n",
              "    <tr>\n",
              "      <th>14473</th>\n",
              "      <td>26089</td>\n",
              "    </tr>\n",
              "    <tr>\n",
              "      <th>14474</th>\n",
              "      <td>21525</td>\n",
              "    </tr>\n",
              "    <tr>\n",
              "      <th>14475</th>\n",
              "      <td>37897</td>\n",
              "    </tr>\n",
              "    <tr>\n",
              "      <th>14476</th>\n",
              "      <td>34193</td>\n",
              "    </tr>\n",
              "    <tr>\n",
              "      <th>14477</th>\n",
              "      <td>37908</td>\n",
              "    </tr>\n",
              "  </tbody>\n",
              "</table>\n",
              "<p>14478 rows × 1 columns</p>\n",
              "</div>"
            ],
            "text/plain": [
              "       anime_id\n",
              "0         11013\n",
              "1          2104\n",
              "2          5262\n",
              "3           721\n",
              "4         12365\n",
              "...         ...\n",
              "14473     26089\n",
              "14474     21525\n",
              "14475     37897\n",
              "14476     34193\n",
              "14477     37908\n",
              "\n",
              "[14478 rows x 1 columns]"
            ]
          },
          "metadata": {
            "tags": []
          },
          "execution_count": 7
        }
      ]
    },
    {
      "cell_type": "code",
      "metadata": {
        "id": "UxsfubEvIU5t",
        "colab_type": "code",
        "colab": {}
      },
      "source": [
        "surprised = load(\"/content/drive/My Drive/svd.pickle\")"
      ],
      "execution_count": 0,
      "outputs": []
    },
    {
      "cell_type": "code",
      "metadata": {
        "id": "TfAa5cTQIi9H",
        "colab_type": "code",
        "colab": {}
      },
      "source": [
        "algo = surprised[1]\n",
        "predictions = surprised[0]"
      ],
      "execution_count": 0,
      "outputs": []
    },
    {
      "cell_type": "code",
      "metadata": {
        "id": "plJwaVPhJjd-",
        "colab_type": "code",
        "outputId": "8c3d27ca-e620-40c2-e70b-0d56138dc38e",
        "colab": {
          "base_uri": "https://localhost:8080/",
          "height": 51
        }
      },
      "source": [
        "accuracy.rmse(predictions)"
      ],
      "execution_count": 10,
      "outputs": [
        {
          "output_type": "stream",
          "text": [
            "RMSE: 1.1859\n"
          ],
          "name": "stdout"
        },
        {
          "output_type": "execute_result",
          "data": {
            "text/plain": [
              "1.1859182533000143"
            ]
          },
          "metadata": {
            "tags": []
          },
          "execution_count": 10
        }
      ]
    },
    {
      "cell_type": "code",
      "metadata": {
        "id": "CYZqCxcFeGX4",
        "colab_type": "code",
        "colab": {
          "base_uri": "https://localhost:8080/",
          "height": 34
        },
        "outputId": "ee0dfdfd-19be-46b3-a685-78be69ee5095"
      },
      "source": [
        "\"RX-78-2_Gundam\".translate(str.maketrans(\"\", \"\", string.punctuation))"
      ],
      "execution_count": 11,
      "outputs": [
        {
          "output_type": "execute_result",
          "data": {
            "text/plain": [
              "'RX782Gundam'"
            ]
          },
          "metadata": {
            "tags": []
          },
          "execution_count": 11
        }
      ]
    },
    {
      "cell_type": "code",
      "metadata": {
        "id": "HVR_Vz5Cgd0H",
        "colab_type": "code",
        "colab": {
          "base_uri": "https://localhost:8080/",
          "height": 221
        },
        "outputId": "268726ae-2cfa-4348-9db4-898eeb520326"
      },
      "source": [
        "anime.reset_index()[\"anime_id\"]"
      ],
      "execution_count": 12,
      "outputs": [
        {
          "output_type": "execute_result",
          "data": {
            "text/plain": [
              "0        11013\n",
              "1         2104\n",
              "2         5262\n",
              "3          721\n",
              "4        12365\n",
              "         ...  \n",
              "14473    26089\n",
              "14474    21525\n",
              "14475    37897\n",
              "14476    34193\n",
              "14477    37908\n",
              "Name: anime_id, Length: 14478, dtype: int64"
            ]
          },
          "metadata": {
            "tags": []
          },
          "execution_count": 12
        }
      ]
    },
    {
      "cell_type": "code",
      "metadata": {
        "id": "HEpv8RJASRGG",
        "colab_type": "code",
        "colab": {}
      },
      "source": [
        "def get_recommendations(user, num_titles=10, filter_completed=True):\n",
        "  user = get_uid(user)  \n",
        "  user_predictions = anime.reset_index()[[\"anime_id\"]]\n",
        "  if filter_completed:\n",
        "    user_completed = pd.DataFrame(jikan.user(username=user, request='animelist', argument='completed', page=1)[\"anime\"])\n",
        "    i = 2\n",
        "    downloading = True\n",
        "    while downloading:\n",
        "      time.sleep(4) # API requires 4 second delay between requests\n",
        "      downloading = jikan.user(username=user, request='animelist', argument='completed', page=i)[\"anime\"]\n",
        "      user_completed = user_completed.append(pd.DataFrame(downloading))\n",
        "      i += 1\n",
        "    user_completed_lst = list(user_completed[\"mal_id\"])\n",
        "    user_predictions[\"est\"] = user_predictions[\"anime_id\"].apply(lambda item: algo.predict(user, item)[3] if item not in user_completed_lst else 0)\n",
        "  else:\n",
        "    user_predictions[\"est\"] = user_predictions[\"anime_id\"].apply(lambda item: algo.predict(user, item)[3])\n",
        "  return user_predictions.sort_values(\"est\", ascending=False).head(10)[\"anime_id\"].apply(lambda x: anime.loc[x])"
      ],
      "execution_count": 0,
      "outputs": []
    },
    {
      "cell_type": "code",
      "metadata": {
        "id": "dRUbExB7hbRM",
        "colab_type": "code",
        "colab": {
          "base_uri": "https://localhost:8080/",
          "height": 393
        },
        "outputId": "20a6de55-83b9-46a0-b888-2715e126eb81"
      },
      "source": [
        "%%time\n",
        "get_recommendations(\"orionite\", filter_completed=True)"
      ],
      "execution_count": 20,
      "outputs": [
        {
          "output_type": "stream",
          "text": [
            "CPU times: user 270 ms, sys: 4.07 ms, total: 274 ms\n",
            "Wall time: 9.12 s\n"
          ],
          "name": "stdout"
        },
        {
          "output_type": "execute_result",
          "data": {
            "text/html": [
              "<div>\n",
              "<style scoped>\n",
              "    .dataframe tbody tr th:only-of-type {\n",
              "        vertical-align: middle;\n",
              "    }\n",
              "\n",
              "    .dataframe tbody tr th {\n",
              "        vertical-align: top;\n",
              "    }\n",
              "\n",
              "    .dataframe thead th {\n",
              "        text-align: right;\n",
              "    }\n",
              "</style>\n",
              "<table border=\"1\" class=\"dataframe\">\n",
              "  <thead>\n",
              "    <tr style=\"text-align: right;\">\n",
              "      <th></th>\n",
              "      <th>title</th>\n",
              "      <th>image_url</th>\n",
              "    </tr>\n",
              "  </thead>\n",
              "  <tbody>\n",
              "    <tr>\n",
              "      <th>7483</th>\n",
              "      <td>Redline</td>\n",
              "      <td>https://myanimelist.cdn-dena.com/images/anime/...</td>\n",
              "    </tr>\n",
              "    <tr>\n",
              "      <th>4687</th>\n",
              "      <td>Detroit Metal City</td>\n",
              "      <td>https://myanimelist.cdn-dena.com/images/anime/...</td>\n",
              "    </tr>\n",
              "    <tr>\n",
              "      <th>3677</th>\n",
              "      <td>Prison School</td>\n",
              "      <td>https://myanimelist.cdn-dena.com/images/anime/...</td>\n",
              "    </tr>\n",
              "    <tr>\n",
              "      <th>10598</th>\n",
              "      <td>Daicon Opening Animations</td>\n",
              "      <td>https://myanimelist.cdn-dena.com/images/anime/...</td>\n",
              "    </tr>\n",
              "    <tr>\n",
              "      <th>10810</th>\n",
              "      <td>JoJo no Kimyou na Bouken (TV)</td>\n",
              "      <td>https://myanimelist.cdn-dena.com/images/anime/...</td>\n",
              "    </tr>\n",
              "    <tr>\n",
              "      <th>13232</th>\n",
              "      <td>Nihon Animator Mihonichi</td>\n",
              "      <td>https://myanimelist.cdn-dena.com/images/anime/...</td>\n",
              "    </tr>\n",
              "    <tr>\n",
              "      <th>9889</th>\n",
              "      <td>Great Teacher Onizuka</td>\n",
              "      <td>https://myanimelist.cdn-dena.com/images/anime/...</td>\n",
              "    </tr>\n",
              "    <tr>\n",
              "      <th>6687</th>\n",
              "      <td>Mahou Shoujo Lyrical Nanoha: The Movie 2nd A&amp;#...</td>\n",
              "      <td>https://myanimelist.cdn-dena.com/images/anime/...</td>\n",
              "    </tr>\n",
              "    <tr>\n",
              "      <th>5005</th>\n",
              "      <td>Hellsing Ultimate</td>\n",
              "      <td>https://myanimelist.cdn-dena.com/images/anime/...</td>\n",
              "    </tr>\n",
              "    <tr>\n",
              "      <th>9880</th>\n",
              "      <td>Uchuu Senkan Yamato 2199</td>\n",
              "      <td>https://myanimelist.cdn-dena.com/images/anime/...</td>\n",
              "    </tr>\n",
              "  </tbody>\n",
              "</table>\n",
              "</div>"
            ],
            "text/plain": [
              "                                                   title                                          image_url\n",
              "7483                                             Redline  https://myanimelist.cdn-dena.com/images/anime/...\n",
              "4687                                  Detroit Metal City  https://myanimelist.cdn-dena.com/images/anime/...\n",
              "3677                                       Prison School  https://myanimelist.cdn-dena.com/images/anime/...\n",
              "10598                          Daicon Opening Animations  https://myanimelist.cdn-dena.com/images/anime/...\n",
              "10810                      JoJo no Kimyou na Bouken (TV)  https://myanimelist.cdn-dena.com/images/anime/...\n",
              "13232                           Nihon Animator Mihonichi  https://myanimelist.cdn-dena.com/images/anime/...\n",
              "9889                               Great Teacher Onizuka  https://myanimelist.cdn-dena.com/images/anime/...\n",
              "6687   Mahou Shoujo Lyrical Nanoha: The Movie 2nd A&#...  https://myanimelist.cdn-dena.com/images/anime/...\n",
              "5005                                   Hellsing Ultimate  https://myanimelist.cdn-dena.com/images/anime/...\n",
              "9880                            Uchuu Senkan Yamato 2199  https://myanimelist.cdn-dena.com/images/anime/..."
            ]
          },
          "metadata": {
            "tags": []
          },
          "execution_count": 20
        }
      ]
    },
    {
      "cell_type": "code",
      "metadata": {
        "id": "tbAdJxtof8ZX",
        "colab_type": "code",
        "colab": {
          "base_uri": "https://localhost:8080/",
          "height": 393
        },
        "outputId": "e67f8b0b-d5c8-4a86-cba4-29aa86b59cc8"
      },
      "source": [
        "%%time\n",
        "get_recommendations(\"orionite\", filter_completed=False)"
      ],
      "execution_count": 21,
      "outputs": [
        {
          "output_type": "stream",
          "text": [
            "CPU times: user 148 ms, sys: 11.1 ms, total: 159 ms\n",
            "Wall time: 150 ms\n"
          ],
          "name": "stdout"
        },
        {
          "output_type": "execute_result",
          "data": {
            "text/html": [
              "<div>\n",
              "<style scoped>\n",
              "    .dataframe tbody tr th:only-of-type {\n",
              "        vertical-align: middle;\n",
              "    }\n",
              "\n",
              "    .dataframe tbody tr th {\n",
              "        vertical-align: top;\n",
              "    }\n",
              "\n",
              "    .dataframe thead th {\n",
              "        text-align: right;\n",
              "    }\n",
              "</style>\n",
              "<table border=\"1\" class=\"dataframe\">\n",
              "  <thead>\n",
              "    <tr style=\"text-align: right;\">\n",
              "      <th></th>\n",
              "      <th>title</th>\n",
              "      <th>image_url</th>\n",
              "    </tr>\n",
              "  </thead>\n",
              "  <tbody>\n",
              "    <tr>\n",
              "      <th>6040</th>\n",
              "      <td>FLCL</td>\n",
              "      <td>https://myanimelist.cdn-dena.com/images/anime/...</td>\n",
              "    </tr>\n",
              "    <tr>\n",
              "      <th>5257</th>\n",
              "      <td>Suzumiya Haruhi no Yuuutsu</td>\n",
              "      <td>https://myanimelist.cdn-dena.com/images/anime/...</td>\n",
              "    </tr>\n",
              "    <tr>\n",
              "      <th>11361</th>\n",
              "      <td>Byousoku 5 Centimeter</td>\n",
              "      <td>https://myanimelist.cdn-dena.com/images/anime/...</td>\n",
              "    </tr>\n",
              "    <tr>\n",
              "      <th>10918</th>\n",
              "      <td>Tengen Toppa Gurren Lagann</td>\n",
              "      <td>https://myanimelist.cdn-dena.com/images/anime/...</td>\n",
              "    </tr>\n",
              "    <tr>\n",
              "      <th>13587</th>\n",
              "      <td>Carnival Phantasm</td>\n",
              "      <td>https://myanimelist.cdn-dena.com/images/anime/...</td>\n",
              "    </tr>\n",
              "    <tr>\n",
              "      <th>12938</th>\n",
              "      <td>Tengen Toppa Gurren Lagann Movie 2: Lagann-hen</td>\n",
              "      <td>https://myanimelist.cdn-dena.com/images/anime/...</td>\n",
              "    </tr>\n",
              "    <tr>\n",
              "      <th>1094</th>\n",
              "      <td>Suzumiya Haruhi no Shoushitsu</td>\n",
              "      <td>https://myanimelist.cdn-dena.com/images/anime/...</td>\n",
              "    </tr>\n",
              "    <tr>\n",
              "      <th>9140</th>\n",
              "      <td>Mahou Shoujo Madoka★Magica</td>\n",
              "      <td>https://myanimelist.cdn-dena.com/images/anime/...</td>\n",
              "    </tr>\n",
              "    <tr>\n",
              "      <th>1389</th>\n",
              "      <td>Evangelion: 2.0 You Can (Not) Advance</td>\n",
              "      <td>https://myanimelist.cdn-dena.com/images/anime/...</td>\n",
              "    </tr>\n",
              "    <tr>\n",
              "      <th>6112</th>\n",
              "      <td>Golden Boy</td>\n",
              "      <td>https://myanimelist.cdn-dena.com/images/anime/...</td>\n",
              "    </tr>\n",
              "  </tbody>\n",
              "</table>\n",
              "</div>"
            ],
            "text/plain": [
              "                                                title                                          image_url\n",
              "6040                                             FLCL  https://myanimelist.cdn-dena.com/images/anime/...\n",
              "5257                       Suzumiya Haruhi no Yuuutsu  https://myanimelist.cdn-dena.com/images/anime/...\n",
              "11361                           Byousoku 5 Centimeter  https://myanimelist.cdn-dena.com/images/anime/...\n",
              "10918                      Tengen Toppa Gurren Lagann  https://myanimelist.cdn-dena.com/images/anime/...\n",
              "13587                               Carnival Phantasm  https://myanimelist.cdn-dena.com/images/anime/...\n",
              "12938  Tengen Toppa Gurren Lagann Movie 2: Lagann-hen  https://myanimelist.cdn-dena.com/images/anime/...\n",
              "1094                    Suzumiya Haruhi no Shoushitsu  https://myanimelist.cdn-dena.com/images/anime/...\n",
              "9140                       Mahou Shoujo Madoka★Magica  https://myanimelist.cdn-dena.com/images/anime/...\n",
              "1389            Evangelion: 2.0 You Can (Not) Advance  https://myanimelist.cdn-dena.com/images/anime/...\n",
              "6112                                       Golden Boy  https://myanimelist.cdn-dena.com/images/anime/..."
            ]
          },
          "metadata": {
            "tags": []
          },
          "execution_count": 21
        }
      ]
    },
    {
      "cell_type": "code",
      "metadata": {
        "id": "cbEq7Xw-kJ_T",
        "colab_type": "code",
        "colab": {}
      },
      "source": [
        ""
      ],
      "execution_count": 0,
      "outputs": []
    }
  ]
}