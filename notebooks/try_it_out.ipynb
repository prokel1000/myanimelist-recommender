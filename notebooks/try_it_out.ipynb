{
  "nbformat": 4,
  "nbformat_minor": 0,
  "metadata": {
    "colab": {
      "name": "try_it_out.ipynb",
      "provenance": [],
      "collapsed_sections": [],
      "machine_shape": "hm",
      "mount_file_id": "1SdPi96IuaR8N2L4VQc_kXRuccNwSsP2u",
      "authorship_tag": "ABX9TyP932m2Ws3A75YAUHaqN4RE",
      "include_colab_link": true
    },
    "kernelspec": {
      "name": "python3",
      "display_name": "Python 3"
    }
  },
  "cells": [
    {
      "cell_type": "markdown",
      "metadata": {
        "id": "view-in-github",
        "colab_type": "text"
      },
      "source": [
        "<a href=\"https://colab.research.google.com/github/robert-myers/myanimelist-recommender/blob/master/notebooks/try_it_out.ipynb\" target=\"_parent\"><img src=\"https://colab.research.google.com/assets/colab-badge.svg\" alt=\"Open In Colab\"/></a>"
      ]
    },
    {
      "cell_type": "code",
      "metadata": {
        "id": "SekBkvMQHCBU",
        "colab_type": "code",
        "colab": {}
      },
      "source": [
        "pip install jikanpy && pip install surprise"
      ],
      "execution_count": 0,
      "outputs": []
    },
    {
      "cell_type": "code",
      "metadata": {
        "id": "VW1C2Bq2ISRx",
        "colab_type": "code",
        "colab": {}
      },
      "source": [
        "import pandas as pd\n",
        "import string\n",
        "import time\n",
        "\n",
        "from jikanpy import Jikan\n",
        "from surprise import accuracy\n",
        "from surprise.dump import load"
      ],
      "execution_count": 0,
      "outputs": []
    },
    {
      "cell_type": "code",
      "metadata": {
        "id": "wT5rjUhj70OW",
        "colab_type": "code",
        "colab": {}
      },
      "source": [
        "jikan = Jikan()"
      ],
      "execution_count": 0,
      "outputs": []
    },
    {
      "cell_type": "code",
      "metadata": {
        "id": "80uvM_z-d-Dt",
        "colab_type": "code",
        "colab": {}
      },
      "source": [
        "users = pd.read_csv(\"https://s3.us-east-2.amazonaws.com/my.anime.list.sagemaker/myanimelist/UserList.csv\")\n",
        "users = users[[\"username\"]]\n",
        "users = users.dropna()\n",
        "users[\"lower\"] = users[\"username\"].apply(lambda x: x.lower())\n",
        "users = users.set_index(\"lower\")"
      ],
      "execution_count": 0,
      "outputs": []
    },
    {
      "cell_type": "code",
      "metadata": {
        "id": "y5V6BJPweDMJ",
        "colab_type": "code",
        "colab": {}
      },
      "source": [
        "usernames = dict(users.T)"
      ],
      "execution_count": 0,
      "outputs": []
    },
    {
      "cell_type": "code",
      "metadata": {
        "id": "yAOJ4VMoe8Ke",
        "colab_type": "code",
        "colab": {}
      },
      "source": [
        "def get_uid(username):\n",
        "  username = username.lower()\n",
        "  if username in usernames:\n",
        "    return usernames[username][0]\n",
        "  else:\n",
        "    return username"
      ],
      "execution_count": 0,
      "outputs": []
    },
    {
      "cell_type": "code",
      "metadata": {
        "id": "FKmnhFYVxX8X",
        "colab_type": "code",
        "colab": {}
      },
      "source": [
        "anime = pd.read_csv(\"https://s3.us-east-2.amazonaws.com/my.anime.list.sagemaker/myanimelist/AnimeList.csv\", index_col=\"anime_id\")[[\"title\",\t\"image_url\"]]"
      ],
      "execution_count": 0,
      "outputs": []
    },
    {
      "cell_type": "code",
      "metadata": {
        "id": "UxsfubEvIU5t",
        "colab_type": "code",
        "colab": {}
      },
      "source": [
        "surprised = load(\"/content/drive/My Drive/svd.pickle\")"
      ],
      "execution_count": 0,
      "outputs": []
    },
    {
      "cell_type": "code",
      "metadata": {
        "id": "TfAa5cTQIi9H",
        "colab_type": "code",
        "colab": {}
      },
      "source": [
        "algo = surprised[1]\n",
        "predictions = surprised[0]"
      ],
      "execution_count": 0,
      "outputs": []
    },
    {
      "cell_type": "code",
      "metadata": {
        "id": "plJwaVPhJjd-",
        "colab_type": "code",
        "outputId": "c9309942-91e3-4e57-baf2-1d2022fa38ae",
        "colab": {
          "base_uri": "https://localhost:8080/",
          "height": 51
        }
      },
      "source": [
        "accuracy.rmse(predictions)"
      ],
      "execution_count": 0,
      "outputs": [
        {
          "output_type": "stream",
          "text": [
            "RMSE: 1.1859\n"
          ],
          "name": "stdout"
        },
        {
          "output_type": "execute_result",
          "data": {
            "text/plain": [
              "1.1859182533000143"
            ]
          },
          "metadata": {
            "tags": []
          },
          "execution_count": 12
        }
      ]
    },
    {
      "cell_type": "code",
      "metadata": {
        "id": "CYZqCxcFeGX4",
        "colab_type": "code",
        "outputId": "e3bd5227-d198-4306-99fe-d3d94a9f8195",
        "colab": {
          "base_uri": "https://localhost:8080/",
          "height": 34
        }
      },
      "source": [
        "\"RX-78-2_Gundam\".translate(str.maketrans(\"\", \"\", string.punctuation))"
      ],
      "execution_count": 0,
      "outputs": [
        {
          "output_type": "execute_result",
          "data": {
            "text/plain": [
              "'RX782Gundam'"
            ]
          },
          "metadata": {
            "tags": []
          },
          "execution_count": 13
        }
      ]
    },
    {
      "cell_type": "code",
      "metadata": {
        "id": "HEpv8RJASRGG",
        "colab_type": "code",
        "colab": {}
      },
      "source": [
        "def get_recommendations(user, num_titles=10, filter_completed=True):\n",
        "  user = get_uid(user)  \n",
        "  user_predictions = anime.reset_index()[[\"anime_id\"]]\n",
        "  if filter_completed:\n",
        "    user_completed = pd.DataFrame(jikan.user(username=user, request='animelist', argument='completed', page=1)[\"anime\"])\n",
        "    i = 2\n",
        "    downloading = True\n",
        "    while downloading:\n",
        "      time.sleep(4) # API requires 4 second delay between requests\n",
        "      downloading = jikan.user(username=user, request='animelist', argument='completed', page=i)[\"anime\"]\n",
        "      user_completed = user_completed.append(pd.DataFrame(downloading))\n",
        "      i += 1\n",
        "    user_completed_lst = list(user_completed[\"mal_id\"])\n",
        "    user_predictions[\"est\"] = user_predictions[\"anime_id\"].apply(lambda item: algo.predict(user, item)[3] if item not in user_completed_lst else 0)\n",
        "  else:\n",
        "    user_predictions[\"est\"] = user_predictions[\"anime_id\"].apply(lambda item: algo.predict(user, item)[3])\n",
        "  return user_predictions.sort_values(\"est\", ascending=False).head(num_titles)[\"anime_id\"].apply(lambda x: anime.loc[x])"
      ],
      "execution_count": 0,
      "outputs": []
    },
    {
      "cell_type": "code",
      "metadata": {
        "id": "dRUbExB7hbRM",
        "colab_type": "code",
        "outputId": "e8d90536-601c-4d00-89df-736bd7e1383e",
        "colab": {
          "base_uri": "https://localhost:8080/",
          "height": 393
        }
      },
      "source": [
        "%%time\n",
        "get_recommendations(\"orionite\", filter_completed=True)"
      ],
      "execution_count": 0,
      "outputs": [
        {
          "output_type": "stream",
          "text": [
            "CPU times: user 272 ms, sys: 0 ns, total: 272 ms\n",
            "Wall time: 15 s\n"
          ],
          "name": "stdout"
        },
        {
          "output_type": "execute_result",
          "data": {
            "text/html": [
              "<div>\n",
              "<style scoped>\n",
              "    .dataframe tbody tr th:only-of-type {\n",
              "        vertical-align: middle;\n",
              "    }\n",
              "\n",
              "    .dataframe tbody tr th {\n",
              "        vertical-align: top;\n",
              "    }\n",
              "\n",
              "    .dataframe thead th {\n",
              "        text-align: right;\n",
              "    }\n",
              "</style>\n",
              "<table border=\"1\" class=\"dataframe\">\n",
              "  <thead>\n",
              "    <tr style=\"text-align: right;\">\n",
              "      <th></th>\n",
              "      <th>title</th>\n",
              "      <th>image_url</th>\n",
              "    </tr>\n",
              "  </thead>\n",
              "  <tbody>\n",
              "    <tr>\n",
              "      <th>7483</th>\n",
              "      <td>Redline</td>\n",
              "      <td>https://myanimelist.cdn-dena.com/images/anime/...</td>\n",
              "    </tr>\n",
              "    <tr>\n",
              "      <th>4687</th>\n",
              "      <td>Detroit Metal City</td>\n",
              "      <td>https://myanimelist.cdn-dena.com/images/anime/...</td>\n",
              "    </tr>\n",
              "    <tr>\n",
              "      <th>3677</th>\n",
              "      <td>Prison School</td>\n",
              "      <td>https://myanimelist.cdn-dena.com/images/anime/...</td>\n",
              "    </tr>\n",
              "    <tr>\n",
              "      <th>10598</th>\n",
              "      <td>Daicon Opening Animations</td>\n",
              "      <td>https://myanimelist.cdn-dena.com/images/anime/...</td>\n",
              "    </tr>\n",
              "    <tr>\n",
              "      <th>10810</th>\n",
              "      <td>JoJo no Kimyou na Bouken (TV)</td>\n",
              "      <td>https://myanimelist.cdn-dena.com/images/anime/...</td>\n",
              "    </tr>\n",
              "    <tr>\n",
              "      <th>13232</th>\n",
              "      <td>Nihon Animator Mihonichi</td>\n",
              "      <td>https://myanimelist.cdn-dena.com/images/anime/...</td>\n",
              "    </tr>\n",
              "    <tr>\n",
              "      <th>9889</th>\n",
              "      <td>Great Teacher Onizuka</td>\n",
              "      <td>https://myanimelist.cdn-dena.com/images/anime/...</td>\n",
              "    </tr>\n",
              "    <tr>\n",
              "      <th>6687</th>\n",
              "      <td>Mahou Shoujo Lyrical Nanoha: The Movie 2nd A&amp;#...</td>\n",
              "      <td>https://myanimelist.cdn-dena.com/images/anime/...</td>\n",
              "    </tr>\n",
              "    <tr>\n",
              "      <th>5005</th>\n",
              "      <td>Hellsing Ultimate</td>\n",
              "      <td>https://myanimelist.cdn-dena.com/images/anime/...</td>\n",
              "    </tr>\n",
              "    <tr>\n",
              "      <th>9880</th>\n",
              "      <td>Uchuu Senkan Yamato 2199</td>\n",
              "      <td>https://myanimelist.cdn-dena.com/images/anime/...</td>\n",
              "    </tr>\n",
              "  </tbody>\n",
              "</table>\n",
              "</div>"
            ],
            "text/plain": [
              "                                                   title                                          image_url\n",
              "7483                                             Redline  https://myanimelist.cdn-dena.com/images/anime/...\n",
              "4687                                  Detroit Metal City  https://myanimelist.cdn-dena.com/images/anime/...\n",
              "3677                                       Prison School  https://myanimelist.cdn-dena.com/images/anime/...\n",
              "10598                          Daicon Opening Animations  https://myanimelist.cdn-dena.com/images/anime/...\n",
              "10810                      JoJo no Kimyou na Bouken (TV)  https://myanimelist.cdn-dena.com/images/anime/...\n",
              "13232                           Nihon Animator Mihonichi  https://myanimelist.cdn-dena.com/images/anime/...\n",
              "9889                               Great Teacher Onizuka  https://myanimelist.cdn-dena.com/images/anime/...\n",
              "6687   Mahou Shoujo Lyrical Nanoha: The Movie 2nd A&#...  https://myanimelist.cdn-dena.com/images/anime/...\n",
              "5005                                   Hellsing Ultimate  https://myanimelist.cdn-dena.com/images/anime/...\n",
              "9880                            Uchuu Senkan Yamato 2199  https://myanimelist.cdn-dena.com/images/anime/..."
            ]
          },
          "metadata": {
            "tags": []
          },
          "execution_count": 15
        }
      ]
    },
    {
      "cell_type": "code",
      "metadata": {
        "id": "tbAdJxtof8ZX",
        "colab_type": "code",
        "outputId": "41fa1b55-92ea-4177-fff8-c6b6edb61b6a",
        "colab": {
          "base_uri": "https://localhost:8080/",
          "height": 238
        }
      },
      "source": [
        "%%time\n",
        "get_recommendations(\"orionite\", num_titles=5, filter_completed=False)"
      ],
      "execution_count": 0,
      "outputs": [
        {
          "output_type": "stream",
          "text": [
            "CPU times: user 128 ms, sys: 4.73 ms, total: 133 ms\n",
            "Wall time: 130 ms\n"
          ],
          "name": "stdout"
        },
        {
          "output_type": "execute_result",
          "data": {
            "text/html": [
              "<div>\n",
              "<style scoped>\n",
              "    .dataframe tbody tr th:only-of-type {\n",
              "        vertical-align: middle;\n",
              "    }\n",
              "\n",
              "    .dataframe tbody tr th {\n",
              "        vertical-align: top;\n",
              "    }\n",
              "\n",
              "    .dataframe thead th {\n",
              "        text-align: right;\n",
              "    }\n",
              "</style>\n",
              "<table border=\"1\" class=\"dataframe\">\n",
              "  <thead>\n",
              "    <tr style=\"text-align: right;\">\n",
              "      <th></th>\n",
              "      <th>title</th>\n",
              "      <th>image_url</th>\n",
              "    </tr>\n",
              "  </thead>\n",
              "  <tbody>\n",
              "    <tr>\n",
              "      <th>6040</th>\n",
              "      <td>FLCL</td>\n",
              "      <td>https://myanimelist.cdn-dena.com/images/anime/...</td>\n",
              "    </tr>\n",
              "    <tr>\n",
              "      <th>5257</th>\n",
              "      <td>Suzumiya Haruhi no Yuuutsu</td>\n",
              "      <td>https://myanimelist.cdn-dena.com/images/anime/...</td>\n",
              "    </tr>\n",
              "    <tr>\n",
              "      <th>11361</th>\n",
              "      <td>Byousoku 5 Centimeter</td>\n",
              "      <td>https://myanimelist.cdn-dena.com/images/anime/...</td>\n",
              "    </tr>\n",
              "    <tr>\n",
              "      <th>10918</th>\n",
              "      <td>Tengen Toppa Gurren Lagann</td>\n",
              "      <td>https://myanimelist.cdn-dena.com/images/anime/...</td>\n",
              "    </tr>\n",
              "    <tr>\n",
              "      <th>13587</th>\n",
              "      <td>Carnival Phantasm</td>\n",
              "      <td>https://myanimelist.cdn-dena.com/images/anime/...</td>\n",
              "    </tr>\n",
              "  </tbody>\n",
              "</table>\n",
              "</div>"
            ],
            "text/plain": [
              "                            title                                          image_url\n",
              "6040                         FLCL  https://myanimelist.cdn-dena.com/images/anime/...\n",
              "5257   Suzumiya Haruhi no Yuuutsu  https://myanimelist.cdn-dena.com/images/anime/...\n",
              "11361       Byousoku 5 Centimeter  https://myanimelist.cdn-dena.com/images/anime/...\n",
              "10918  Tengen Toppa Gurren Lagann  https://myanimelist.cdn-dena.com/images/anime/...\n",
              "13587           Carnival Phantasm  https://myanimelist.cdn-dena.com/images/anime/..."
            ]
          },
          "metadata": {
            "tags": []
          },
          "execution_count": 16
        }
      ]
    },
    {
      "cell_type": "code",
      "metadata": {
        "id": "rl1Qn-P9w4bo",
        "colab_type": "code",
        "colab": {}
      },
      "source": [
        "users = pd.DataFrame(usernames).T.reset_index()[[\"index\"]]"
      ],
      "execution_count": 0,
      "outputs": []
    },
    {
      "cell_type": "code",
      "metadata": {
        "id": "cbEq7Xw-kJ_T",
        "colab_type": "code",
        "colab": {}
      },
      "source": [
        "def get_fans(item, num_users=10, get_estimates=True):\n",
        "  item_predictions = users.copy()\n",
        "  item_predictions[\"est\"] = item_predictions[\"index\"].apply(lambda user: algo.predict(get_uid(user), item)[3])\n",
        "  if get_estimates:\n",
        "    return item_predictions.sort_values(\"est\", ascending=False).head(num_users)\n",
        "  else:\n",
        "    return item_predictions.sort_values(\"est\", ascending=False).head(num_users)[[\"index\"]]"
      ],
      "execution_count": 0,
      "outputs": []
    },
    {
      "cell_type": "code",
      "metadata": {
        "id": "ShfMIfoxy_fo",
        "colab_type": "code",
        "outputId": "05792961-ac74-4141-ec82-b0a628aaf89d",
        "colab": {
          "base_uri": "https://localhost:8080/",
          "height": 359
        }
      },
      "source": [
        "get_fans(227, num_users=10)"
      ],
      "execution_count": 0,
      "outputs": [
        {
          "output_type": "execute_result",
          "data": {
            "text/html": [
              "<div>\n",
              "<style scoped>\n",
              "    .dataframe tbody tr th:only-of-type {\n",
              "        vertical-align: middle;\n",
              "    }\n",
              "\n",
              "    .dataframe tbody tr th {\n",
              "        vertical-align: top;\n",
              "    }\n",
              "\n",
              "    .dataframe thead th {\n",
              "        text-align: right;\n",
              "    }\n",
              "</style>\n",
              "<table border=\"1\" class=\"dataframe\">\n",
              "  <thead>\n",
              "    <tr style=\"text-align: right;\">\n",
              "      <th></th>\n",
              "      <th>index</th>\n",
              "      <th>est</th>\n",
              "    </tr>\n",
              "  </thead>\n",
              "  <tbody>\n",
              "    <tr>\n",
              "      <th>131741</th>\n",
              "      <td>calamitymeg</td>\n",
              "      <td>10.0</td>\n",
              "    </tr>\n",
              "    <tr>\n",
              "      <th>138819</th>\n",
              "      <td>mellon85</td>\n",
              "      <td>10.0</td>\n",
              "    </tr>\n",
              "    <tr>\n",
              "      <th>138768</th>\n",
              "      <td>sindhara</td>\n",
              "      <td>10.0</td>\n",
              "    </tr>\n",
              "    <tr>\n",
              "      <th>138782</th>\n",
              "      <td>zindrel</td>\n",
              "      <td>10.0</td>\n",
              "    </tr>\n",
              "    <tr>\n",
              "      <th>21356</th>\n",
              "      <td>sasohina</td>\n",
              "      <td>10.0</td>\n",
              "    </tr>\n",
              "    <tr>\n",
              "      <th>21355</th>\n",
              "      <td>8bitmare</td>\n",
              "      <td>10.0</td>\n",
              "    </tr>\n",
              "    <tr>\n",
              "      <th>138787</th>\n",
              "      <td>solid132</td>\n",
              "      <td>10.0</td>\n",
              "    </tr>\n",
              "    <tr>\n",
              "      <th>138792</th>\n",
              "      <td>boogiepopxo</td>\n",
              "      <td>10.0</td>\n",
              "    </tr>\n",
              "    <tr>\n",
              "      <th>280182</th>\n",
              "      <td>fima04</td>\n",
              "      <td>10.0</td>\n",
              "    </tr>\n",
              "    <tr>\n",
              "      <th>138818</th>\n",
              "      <td>obakami</td>\n",
              "      <td>10.0</td>\n",
              "    </tr>\n",
              "  </tbody>\n",
              "</table>\n",
              "</div>"
            ],
            "text/plain": [
              "              index   est\n",
              "131741  calamitymeg  10.0\n",
              "138819     mellon85  10.0\n",
              "138768     sindhara  10.0\n",
              "138782      zindrel  10.0\n",
              "21356      sasohina  10.0\n",
              "21355      8bitmare  10.0\n",
              "138787     solid132  10.0\n",
              "138792  boogiepopxo  10.0\n",
              "280182       fima04  10.0\n",
              "138818      obakami  10.0"
            ]
          },
          "metadata": {
            "tags": []
          },
          "execution_count": 40
        }
      ]
    }
  ]
}