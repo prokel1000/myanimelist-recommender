{
  "nbformat": 4,
  "nbformat_minor": 0,
  "metadata": {
    "colab": {
      "name": "try_it_out.ipynb",
      "provenance": [],
      "collapsed_sections": [],
      "machine_shape": "hm",
      "mount_file_id": "1SdPi96IuaR8N2L4VQc_kXRuccNwSsP2u",
      "authorship_tag": "ABX9TyPsovjDMKc3l4WECev3wOAr",
      "include_colab_link": true
    },
    "kernelspec": {
      "name": "python3",
      "display_name": "Python 3"
    }
  },
  "cells": [
    {
      "cell_type": "markdown",
      "metadata": {
        "id": "view-in-github",
        "colab_type": "text"
      },
      "source": [
        "<a href=\"https://colab.research.google.com/github/robert-myers/myanimelist-recommender/blob/master/notesbooks/try_it_out.ipynb\" target=\"_parent\"><img src=\"https://colab.research.google.com/assets/colab-badge.svg\" alt=\"Open In Colab\"/></a>"
      ]
    },
    {
      "cell_type": "code",
      "metadata": {
        "id": "SekBkvMQHCBU",
        "colab_type": "code",
        "outputId": "b9500758-56c6-475c-f7a4-3ec782a601ec",
        "colab": {
          "base_uri": "https://localhost:8080/",
          "height": 632
        }
      },
      "source": [
        "pip install jikanpy && pip install surprise"
      ],
      "execution_count": 145,
      "outputs": [
        {
          "output_type": "stream",
          "text": [
            "Collecting jikanpy\n",
            "  Downloading https://files.pythonhosted.org/packages/20/9a/57008e44af347d957e389b06199c62c52b13d5e0bb464309760221fc0491/jikanpy-3.4.2-py3-none-any.whl\n",
            "Collecting aiohttp\n",
            "\u001b[?25l  Downloading https://files.pythonhosted.org/packages/7c/39/7eb5f98d24904e0f6d3edb505d4aa60e3ef83c0a58d6fe18244a51757247/aiohttp-3.6.2-cp36-cp36m-manylinux1_x86_64.whl (1.2MB)\n",
            "\u001b[K     |████████████████████████████████| 1.2MB 4.1MB/s \n",
            "\u001b[?25hRequirement already satisfied: requests in /usr/local/lib/python3.6/dist-packages (from jikanpy) (2.21.0)\n",
            "Collecting multidict<5.0,>=4.5\n",
            "\u001b[?25l  Downloading https://files.pythonhosted.org/packages/30/2e/3ab2f1fb72571f75013db323a3799d505d99f3bc203513604f1ffb9b7858/multidict-4.7.5-cp36-cp36m-manylinux1_x86_64.whl (148kB)\n",
            "\u001b[K     |████████████████████████████████| 153kB 19.7MB/s \n",
            "\u001b[?25hRequirement already satisfied: chardet<4.0,>=2.0 in /usr/local/lib/python3.6/dist-packages (from aiohttp->jikanpy) (3.0.4)\n",
            "Requirement already satisfied: typing-extensions>=3.6.5; python_version < \"3.7\" in /usr/local/lib/python3.6/dist-packages (from aiohttp->jikanpy) (3.6.6)\n",
            "Collecting async-timeout<4.0,>=3.0\n",
            "  Downloading https://files.pythonhosted.org/packages/e1/1e/5a4441be21b0726c4464f3f23c8b19628372f606755a9d2e46c187e65ec4/async_timeout-3.0.1-py3-none-any.whl\n",
            "Collecting yarl<2.0,>=1.0\n",
            "\u001b[?25l  Downloading https://files.pythonhosted.org/packages/95/8f/0209fc5d975f839344c33c822ff2f7ef80f6b1e984673a5a68f960bfa583/yarl-1.4.2-cp36-cp36m-manylinux1_x86_64.whl (252kB)\n",
            "\u001b[K     |████████████████████████████████| 256kB 20.8MB/s \n",
            "\u001b[?25hRequirement already satisfied: attrs>=17.3.0 in /usr/local/lib/python3.6/dist-packages (from aiohttp->jikanpy) (19.3.0)\n",
            "Collecting idna-ssl>=1.0; python_version < \"3.7\"\n",
            "  Downloading https://files.pythonhosted.org/packages/46/03/07c4894aae38b0de52b52586b24bf189bb83e4ddabfe2e2c8f2419eec6f4/idna-ssl-1.1.0.tar.gz\n",
            "Requirement already satisfied: certifi>=2017.4.17 in /usr/local/lib/python3.6/dist-packages (from requests->jikanpy) (2019.11.28)\n",
            "Requirement already satisfied: urllib3<1.25,>=1.21.1 in /usr/local/lib/python3.6/dist-packages (from requests->jikanpy) (1.24.3)\n",
            "Requirement already satisfied: idna<2.9,>=2.5 in /usr/local/lib/python3.6/dist-packages (from requests->jikanpy) (2.8)\n",
            "Building wheels for collected packages: idna-ssl\n",
            "  Building wheel for idna-ssl (setup.py) ... \u001b[?25l\u001b[?25hdone\n",
            "  Created wheel for idna-ssl: filename=idna_ssl-1.1.0-cp36-none-any.whl size=3162 sha256=3d08797215393b599659cda182d9d123c123879e76318cc09e4b4efc2cfb9251\n",
            "  Stored in directory: /root/.cache/pip/wheels/d3/00/b3/32d613e19e08a739751dd6bf998cfed277728f8b2127ad4eb7\n",
            "Successfully built idna-ssl\n",
            "Installing collected packages: multidict, async-timeout, yarl, idna-ssl, aiohttp, jikanpy\n",
            "Successfully installed aiohttp-3.6.2 async-timeout-3.0.1 idna-ssl-1.1.0 jikanpy-3.4.2 multidict-4.7.5 yarl-1.4.2\n",
            "Requirement already satisfied: surprise in /usr/local/lib/python3.6/dist-packages (0.1)\n",
            "Requirement already satisfied: scikit-surprise in /usr/local/lib/python3.6/dist-packages (from surprise) (1.1.0)\n",
            "Requirement already satisfied: numpy>=1.11.2 in /usr/local/lib/python3.6/dist-packages (from scikit-surprise->surprise) (1.17.5)\n",
            "Requirement already satisfied: joblib>=0.11 in /usr/local/lib/python3.6/dist-packages (from scikit-surprise->surprise) (0.14.1)\n",
            "Requirement already satisfied: six>=1.10.0 in /usr/local/lib/python3.6/dist-packages (from scikit-surprise->surprise) (1.12.0)\n",
            "Requirement already satisfied: scipy>=1.0.0 in /usr/local/lib/python3.6/dist-packages (from scikit-surprise->surprise) (1.4.1)\n"
          ],
          "name": "stdout"
        }
      ]
    },
    {
      "cell_type": "code",
      "metadata": {
        "id": "VW1C2Bq2ISRx",
        "colab_type": "code",
        "colab": {}
      },
      "source": [
        "import pandas as pd\n",
        "import time\n",
        "\n",
        "from jikanpy import Jikan\n",
        "from surprise import accuracy\n",
        "from surprise.dump import load"
      ],
      "execution_count": 0,
      "outputs": []
    },
    {
      "cell_type": "code",
      "metadata": {
        "id": "wT5rjUhj70OW",
        "colab_type": "code",
        "colab": {}
      },
      "source": [
        "jikan = Jikan()"
      ],
      "execution_count": 0,
      "outputs": []
    },
    {
      "cell_type": "code",
      "metadata": {
        "id": "80uvM_z-d-Dt",
        "colab_type": "code",
        "colab": {}
      },
      "source": [
        "users = pd.read_csv(\"https://s3.us-east-2.amazonaws.com/my.anime.list.sagemaker/myanimelist/UserList.csv\")\n",
        "users = users[[\"username\"]]\n",
        "users = users.dropna()\n",
        "users[\"lower\"] = users[\"username\"].apply(lambda x: x.lower())\n",
        "users = users.set_index(\"lower\")"
      ],
      "execution_count": 0,
      "outputs": []
    },
    {
      "cell_type": "code",
      "metadata": {
        "id": "y5V6BJPweDMJ",
        "colab_type": "code",
        "colab": {}
      },
      "source": [
        "users = dict(users.T)"
      ],
      "execution_count": 0,
      "outputs": []
    },
    {
      "cell_type": "code",
      "metadata": {
        "id": "yAOJ4VMoe8Ke",
        "colab_type": "code",
        "colab": {}
      },
      "source": [
        "def get_uid(username):\n",
        "  username = username.lower()\n",
        "  if username in users:\n",
        "    return users[username.lower()][0]\n",
        "  else:\n",
        "    return username"
      ],
      "execution_count": 0,
      "outputs": []
    },
    {
      "cell_type": "code",
      "metadata": {
        "id": "FKmnhFYVxX8X",
        "colab_type": "code",
        "colab": {
          "base_uri": "https://localhost:8080/",
          "height": 419
        },
        "outputId": "fa0547d3-8f82-475b-a79c-81a751515bef"
      },
      "source": [
        "anime = pd.read_csv(\"https://s3.us-east-2.amazonaws.com/my.anime.list.sagemaker/myanimelist/AnimeList.csv\", index_col=\"anime_id\")[[\"title\",\t\"image_url\"]]\n",
        "anime.reset_index()[[\"anime_id\"]]"
      ],
      "execution_count": 123,
      "outputs": [
        {
          "output_type": "execute_result",
          "data": {
            "text/html": [
              "<div>\n",
              "<style scoped>\n",
              "    .dataframe tbody tr th:only-of-type {\n",
              "        vertical-align: middle;\n",
              "    }\n",
              "\n",
              "    .dataframe tbody tr th {\n",
              "        vertical-align: top;\n",
              "    }\n",
              "\n",
              "    .dataframe thead th {\n",
              "        text-align: right;\n",
              "    }\n",
              "</style>\n",
              "<table border=\"1\" class=\"dataframe\">\n",
              "  <thead>\n",
              "    <tr style=\"text-align: right;\">\n",
              "      <th></th>\n",
              "      <th>anime_id</th>\n",
              "    </tr>\n",
              "  </thead>\n",
              "  <tbody>\n",
              "    <tr>\n",
              "      <th>0</th>\n",
              "      <td>11013</td>\n",
              "    </tr>\n",
              "    <tr>\n",
              "      <th>1</th>\n",
              "      <td>2104</td>\n",
              "    </tr>\n",
              "    <tr>\n",
              "      <th>2</th>\n",
              "      <td>5262</td>\n",
              "    </tr>\n",
              "    <tr>\n",
              "      <th>3</th>\n",
              "      <td>721</td>\n",
              "    </tr>\n",
              "    <tr>\n",
              "      <th>4</th>\n",
              "      <td>12365</td>\n",
              "    </tr>\n",
              "    <tr>\n",
              "      <th>...</th>\n",
              "      <td>...</td>\n",
              "    </tr>\n",
              "    <tr>\n",
              "      <th>14473</th>\n",
              "      <td>26089</td>\n",
              "    </tr>\n",
              "    <tr>\n",
              "      <th>14474</th>\n",
              "      <td>21525</td>\n",
              "    </tr>\n",
              "    <tr>\n",
              "      <th>14475</th>\n",
              "      <td>37897</td>\n",
              "    </tr>\n",
              "    <tr>\n",
              "      <th>14476</th>\n",
              "      <td>34193</td>\n",
              "    </tr>\n",
              "    <tr>\n",
              "      <th>14477</th>\n",
              "      <td>37908</td>\n",
              "    </tr>\n",
              "  </tbody>\n",
              "</table>\n",
              "<p>14478 rows × 1 columns</p>\n",
              "</div>"
            ],
            "text/plain": [
              "       anime_id\n",
              "0         11013\n",
              "1          2104\n",
              "2          5262\n",
              "3           721\n",
              "4         12365\n",
              "...         ...\n",
              "14473     26089\n",
              "14474     21525\n",
              "14475     37897\n",
              "14476     34193\n",
              "14477     37908\n",
              "\n",
              "[14478 rows x 1 columns]"
            ]
          },
          "metadata": {
            "tags": []
          },
          "execution_count": 123
        }
      ]
    },
    {
      "cell_type": "code",
      "metadata": {
        "id": "UxsfubEvIU5t",
        "colab_type": "code",
        "colab": {}
      },
      "source": [
        "surprised = load(\"/content/drive/My Drive/svd.pickle\")"
      ],
      "execution_count": 0,
      "outputs": []
    },
    {
      "cell_type": "code",
      "metadata": {
        "id": "TfAa5cTQIi9H",
        "colab_type": "code",
        "colab": {}
      },
      "source": [
        "algo = surprised[1]\n",
        "predictions = surprised[0]"
      ],
      "execution_count": 0,
      "outputs": []
    },
    {
      "cell_type": "code",
      "metadata": {
        "id": "plJwaVPhJjd-",
        "colab_type": "code",
        "outputId": "bd4b6aa5-b363-4259-dadc-e993ec89cd75",
        "colab": {
          "base_uri": "https://localhost:8080/",
          "height": 51
        }
      },
      "source": [
        "accuracy.rmse(predictions)"
      ],
      "execution_count": 8,
      "outputs": [
        {
          "output_type": "stream",
          "text": [
            "RMSE: 1.1859\n"
          ],
          "name": "stdout"
        },
        {
          "output_type": "execute_result",
          "data": {
            "text/plain": [
              "1.1859182533000143"
            ]
          },
          "metadata": {
            "tags": []
          },
          "execution_count": 8
        }
      ]
    },
    {
      "cell_type": "code",
      "metadata": {
        "id": "g5E_MZXe78C1",
        "colab_type": "code",
        "colab": {}
      },
      "source": [
        "%%time\n",
        "orionite_completed = pd.DataFrame(jikan.user(username=user, request='animelist', argument='completed', page=1)[\"anime\"])\n",
        "i = 2\n",
        "downloading = True\n",
        "while downloading:\n",
        "  time.sleep(4)\n",
        "  downloading = jikan.user(username=user, request='animelist', argument='completed', page=i)[\"anime\"]\n",
        "  orionite_completed = orionite_completed.append(pd.DataFrame(downloading))\n",
        "  i += 1"
      ],
      "execution_count": 0,
      "outputs": []
    },
    {
      "cell_type": "code",
      "metadata": {
        "id": "M-ekxb6cNxBQ",
        "colab_type": "code",
        "colab": {
          "base_uri": "https://localhost:8080/",
          "height": 694
        },
        "outputId": "bb18bbf6-05ae-4f3b-bcbe-e80e487c9c00"
      },
      "source": [
        "orionite_completed"
      ],
      "execution_count": 264,
      "outputs": [
        {
          "output_type": "execute_result",
          "data": {
            "text/html": [
              "<div>\n",
              "<style scoped>\n",
              "    .dataframe tbody tr th:only-of-type {\n",
              "        vertical-align: middle;\n",
              "    }\n",
              "\n",
              "    .dataframe tbody tr th {\n",
              "        vertical-align: top;\n",
              "    }\n",
              "\n",
              "    .dataframe thead th {\n",
              "        text-align: right;\n",
              "    }\n",
              "</style>\n",
              "<table border=\"1\" class=\"dataframe\">\n",
              "  <thead>\n",
              "    <tr style=\"text-align: right;\">\n",
              "      <th></th>\n",
              "      <th>mal_id</th>\n",
              "      <th>title</th>\n",
              "      <th>video_url</th>\n",
              "      <th>url</th>\n",
              "      <th>image_url</th>\n",
              "      <th>type</th>\n",
              "      <th>watching_status</th>\n",
              "      <th>score</th>\n",
              "      <th>watched_episodes</th>\n",
              "      <th>total_episodes</th>\n",
              "      <th>airing_status</th>\n",
              "      <th>season_name</th>\n",
              "      <th>season_year</th>\n",
              "      <th>has_episode_video</th>\n",
              "      <th>has_promo_video</th>\n",
              "      <th>has_video</th>\n",
              "      <th>is_rewatching</th>\n",
              "      <th>tags</th>\n",
              "      <th>rating</th>\n",
              "      <th>start_date</th>\n",
              "      <th>end_date</th>\n",
              "      <th>watch_start_date</th>\n",
              "      <th>watch_end_date</th>\n",
              "      <th>days</th>\n",
              "      <th>storage</th>\n",
              "      <th>priority</th>\n",
              "      <th>added_to_list</th>\n",
              "      <th>studios</th>\n",
              "      <th>licensors</th>\n",
              "    </tr>\n",
              "  </thead>\n",
              "  <tbody>\n",
              "    <tr>\n",
              "      <th>0</th>\n",
              "      <td>11759</td>\n",
              "      <td>Accel World</td>\n",
              "      <td>https://myanimelist.net/anime/11759/Accel_Worl...</td>\n",
              "      <td>https://myanimelist.net/anime/11759/Accel_World</td>\n",
              "      <td>https://cdn.myanimelist.net/images/anime/8/381...</td>\n",
              "      <td>TV</td>\n",
              "      <td>2</td>\n",
              "      <td>0</td>\n",
              "      <td>24</td>\n",
              "      <td>24</td>\n",
              "      <td>2</td>\n",
              "      <td>None</td>\n",
              "      <td>None</td>\n",
              "      <td>False</td>\n",
              "      <td>True</td>\n",
              "      <td>True</td>\n",
              "      <td>False</td>\n",
              "      <td>None</td>\n",
              "      <td>PG-13</td>\n",
              "      <td>2012-07-04T00:00:00+00:00</td>\n",
              "      <td>2013-10-09T00:00:00+00:00</td>\n",
              "      <td>2013-03-04T00:00:00+00:00</td>\n",
              "      <td>2013-10-09T00:00:00+00:00</td>\n",
              "      <td>161.0</td>\n",
              "      <td>None</td>\n",
              "      <td>Low</td>\n",
              "      <td>False</td>\n",
              "      <td>[]</td>\n",
              "      <td>[]</td>\n",
              "    </tr>\n",
              "    <tr>\n",
              "      <th>1</th>\n",
              "      <td>1292</td>\n",
              "      <td>Afro Samurai</td>\n",
              "      <td>https://myanimelist.net/anime/1292/Afro_Samura...</td>\n",
              "      <td>https://myanimelist.net/anime/1292/Afro_Samurai</td>\n",
              "      <td>https://cdn.myanimelist.net/images/anime/3/158...</td>\n",
              "      <td>TV</td>\n",
              "      <td>2</td>\n",
              "      <td>8</td>\n",
              "      <td>5</td>\n",
              "      <td>5</td>\n",
              "      <td>2</td>\n",
              "      <td>None</td>\n",
              "      <td>None</td>\n",
              "      <td>False</td>\n",
              "      <td>True</td>\n",
              "      <td>True</td>\n",
              "      <td>False</td>\n",
              "      <td>None</td>\n",
              "      <td>R+</td>\n",
              "      <td>2007-03-05T00:00:00+00:00</td>\n",
              "      <td>2007-04-05T00:00:00+00:00</td>\n",
              "      <td>None</td>\n",
              "      <td>None</td>\n",
              "      <td>NaN</td>\n",
              "      <td>None</td>\n",
              "      <td>Low</td>\n",
              "      <td>False</td>\n",
              "      <td>[]</td>\n",
              "      <td>[]</td>\n",
              "    </tr>\n",
              "    <tr>\n",
              "      <th>2</th>\n",
              "      <td>366</td>\n",
              "      <td>AIKa</td>\n",
              "      <td>https://myanimelist.net/anime/366/AIKa/video</td>\n",
              "      <td>https://myanimelist.net/anime/366/AIKa</td>\n",
              "      <td>https://cdn.myanimelist.net/images/anime/11/61...</td>\n",
              "      <td>OVA</td>\n",
              "      <td>2</td>\n",
              "      <td>7</td>\n",
              "      <td>7</td>\n",
              "      <td>7</td>\n",
              "      <td>2</td>\n",
              "      <td>None</td>\n",
              "      <td>None</td>\n",
              "      <td>False</td>\n",
              "      <td>True</td>\n",
              "      <td>True</td>\n",
              "      <td>False</td>\n",
              "      <td>None</td>\n",
              "      <td>R+</td>\n",
              "      <td>1999-01-04T00:00:00+00:00</td>\n",
              "      <td>2001-01-04T00:00:00+00:00</td>\n",
              "      <td>2008-02-07T00:00:00+00:00</td>\n",
              "      <td>2008-05-07T00:00:00+00:00</td>\n",
              "      <td>4.0</td>\n",
              "      <td>None</td>\n",
              "      <td>Low</td>\n",
              "      <td>False</td>\n",
              "      <td>[]</td>\n",
              "      <td>[]</td>\n",
              "    </tr>\n",
              "    <tr>\n",
              "      <th>3</th>\n",
              "      <td>2163</td>\n",
              "      <td>AIKa R-16: Virgin Mission</td>\n",
              "      <td>https://myanimelist.net/anime/2163/AIKa_R-16__...</td>\n",
              "      <td>https://myanimelist.net/anime/2163/AIKa_R-16__...</td>\n",
              "      <td>https://cdn.myanimelist.net/images/anime/3/906...</td>\n",
              "      <td>OVA</td>\n",
              "      <td>2</td>\n",
              "      <td>8</td>\n",
              "      <td>3</td>\n",
              "      <td>3</td>\n",
              "      <td>2</td>\n",
              "      <td>None</td>\n",
              "      <td>None</td>\n",
              "      <td>False</td>\n",
              "      <td>False</td>\n",
              "      <td>False</td>\n",
              "      <td>False</td>\n",
              "      <td>None</td>\n",
              "      <td>R+</td>\n",
              "      <td>2009-01-04T00:00:00+00:00</td>\n",
              "      <td>2009-02-10T00:00:00+00:00</td>\n",
              "      <td>2008-07-07T00:00:00+00:00</td>\n",
              "      <td>2008-09-07T00:00:00+00:00</td>\n",
              "      <td>3.0</td>\n",
              "      <td>None</td>\n",
              "      <td>Low</td>\n",
              "      <td>False</td>\n",
              "      <td>[]</td>\n",
              "      <td>[]</td>\n",
              "    </tr>\n",
              "    <tr>\n",
              "      <th>4</th>\n",
              "      <td>4718</td>\n",
              "      <td>AIKa: Special Trial</td>\n",
              "      <td>https://myanimelist.net/anime/4718/AIKa__Speci...</td>\n",
              "      <td>https://myanimelist.net/anime/4718/AIKa__Speci...</td>\n",
              "      <td>https://cdn.myanimelist.net/images/anime/3/824...</td>\n",
              "      <td>Special</td>\n",
              "      <td>2</td>\n",
              "      <td>7</td>\n",
              "      <td>1</td>\n",
              "      <td>1</td>\n",
              "      <td>2</td>\n",
              "      <td>None</td>\n",
              "      <td>None</td>\n",
              "      <td>False</td>\n",
              "      <td>False</td>\n",
              "      <td>False</td>\n",
              "      <td>False</td>\n",
              "      <td>None</td>\n",
              "      <td>R+</td>\n",
              "      <td>2000-01-05T00:00:00+00:00</td>\n",
              "      <td>2000-01-05T00:00:00+00:00</td>\n",
              "      <td>2009-03-07T00:00:00+00:00</td>\n",
              "      <td>2009-03-07T00:00:00+00:00</td>\n",
              "      <td>1.0</td>\n",
              "      <td>None</td>\n",
              "      <td>Low</td>\n",
              "      <td>False</td>\n",
              "      <td>[]</td>\n",
              "      <td>[]</td>\n",
              "    </tr>\n",
              "    <tr>\n",
              "      <th>...</th>\n",
              "      <td>...</td>\n",
              "      <td>...</td>\n",
              "      <td>...</td>\n",
              "      <td>...</td>\n",
              "      <td>...</td>\n",
              "      <td>...</td>\n",
              "      <td>...</td>\n",
              "      <td>...</td>\n",
              "      <td>...</td>\n",
              "      <td>...</td>\n",
              "      <td>...</td>\n",
              "      <td>...</td>\n",
              "      <td>...</td>\n",
              "      <td>...</td>\n",
              "      <td>...</td>\n",
              "      <td>...</td>\n",
              "      <td>...</td>\n",
              "      <td>...</td>\n",
              "      <td>...</td>\n",
              "      <td>...</td>\n",
              "      <td>...</td>\n",
              "      <td>...</td>\n",
              "      <td>...</td>\n",
              "      <td>...</td>\n",
              "      <td>...</td>\n",
              "      <td>...</td>\n",
              "      <td>...</td>\n",
              "      <td>...</td>\n",
              "      <td>...</td>\n",
              "    </tr>\n",
              "    <tr>\n",
              "      <th>149</th>\n",
              "      <td>7745</td>\n",
              "      <td>Zettai Karen Children OVA: Aitazousei! Ubaware...</td>\n",
              "      <td>https://myanimelist.net/anime/7745/Zettai_Kare...</td>\n",
              "      <td>https://myanimelist.net/anime/7745/Zettai_Kare...</td>\n",
              "      <td>https://cdn.myanimelist.net/images/anime/9/252...</td>\n",
              "      <td>OVA</td>\n",
              "      <td>2</td>\n",
              "      <td>8</td>\n",
              "      <td>1</td>\n",
              "      <td>1</td>\n",
              "      <td>2</td>\n",
              "      <td>None</td>\n",
              "      <td>None</td>\n",
              "      <td>False</td>\n",
              "      <td>True</td>\n",
              "      <td>True</td>\n",
              "      <td>False</td>\n",
              "      <td>None</td>\n",
              "      <td>PG-13</td>\n",
              "      <td>2011-04-07T00:00:00+00:00</td>\n",
              "      <td>2011-04-07T00:00:00+00:00</td>\n",
              "      <td>2010-05-08T00:00:00+00:00</td>\n",
              "      <td>2010-05-08T00:00:00+00:00</td>\n",
              "      <td>1.0</td>\n",
              "      <td>None</td>\n",
              "      <td>Low</td>\n",
              "      <td>False</td>\n",
              "      <td>[]</td>\n",
              "      <td>[]</td>\n",
              "    </tr>\n",
              "    <tr>\n",
              "      <th>150</th>\n",
              "      <td>763</td>\n",
              "      <td>Zoids</td>\n",
              "      <td>https://myanimelist.net/anime/763/Zoids/video</td>\n",
              "      <td>https://myanimelist.net/anime/763/Zoids</td>\n",
              "      <td>https://cdn.myanimelist.net/images/anime/2/154...</td>\n",
              "      <td>TV</td>\n",
              "      <td>2</td>\n",
              "      <td>8</td>\n",
              "      <td>67</td>\n",
              "      <td>67</td>\n",
              "      <td>2</td>\n",
              "      <td>None</td>\n",
              "      <td>None</td>\n",
              "      <td>False</td>\n",
              "      <td>False</td>\n",
              "      <td>False</td>\n",
              "      <td>False</td>\n",
              "      <td>None</td>\n",
              "      <td>PG</td>\n",
              "      <td>1999-04-09T00:00:00+00:00</td>\n",
              "      <td>2001-11-12T00:00:00+00:00</td>\n",
              "      <td>None</td>\n",
              "      <td>None</td>\n",
              "      <td>NaN</td>\n",
              "      <td>None</td>\n",
              "      <td>Low</td>\n",
              "      <td>False</td>\n",
              "      <td>[]</td>\n",
              "      <td>[]</td>\n",
              "    </tr>\n",
              "    <tr>\n",
              "      <th>151</th>\n",
              "      <td>764</td>\n",
              "      <td>Zoids Shinseiki/Zero</td>\n",
              "      <td>https://myanimelist.net/anime/764/Zoids_Shinse...</td>\n",
              "      <td>https://myanimelist.net/anime/764/Zoids_Shinse...</td>\n",
              "      <td>https://cdn.myanimelist.net/images/anime/11/24...</td>\n",
              "      <td>TV</td>\n",
              "      <td>2</td>\n",
              "      <td>7</td>\n",
              "      <td>26</td>\n",
              "      <td>26</td>\n",
              "      <td>2</td>\n",
              "      <td>None</td>\n",
              "      <td>None</td>\n",
              "      <td>False</td>\n",
              "      <td>True</td>\n",
              "      <td>True</td>\n",
              "      <td>False</td>\n",
              "      <td>None</td>\n",
              "      <td>PG</td>\n",
              "      <td>2001-06-01T00:00:00+00:00</td>\n",
              "      <td>2003-06-06T00:00:00+00:00</td>\n",
              "      <td>None</td>\n",
              "      <td>None</td>\n",
              "      <td>NaN</td>\n",
              "      <td>None</td>\n",
              "      <td>Low</td>\n",
              "      <td>False</td>\n",
              "      <td>[]</td>\n",
              "      <td>[]</td>\n",
              "    </tr>\n",
              "    <tr>\n",
              "      <th>152</th>\n",
              "      <td>3228</td>\n",
              "      <td>Zoku Sayonara Zetsubou Sensei</td>\n",
              "      <td>https://myanimelist.net/anime/3228/Zoku_Sayona...</td>\n",
              "      <td>https://myanimelist.net/anime/3228/Zoku_Sayona...</td>\n",
              "      <td>https://cdn.myanimelist.net/images/anime/13/75...</td>\n",
              "      <td>TV</td>\n",
              "      <td>2</td>\n",
              "      <td>8</td>\n",
              "      <td>13</td>\n",
              "      <td>13</td>\n",
              "      <td>2</td>\n",
              "      <td>None</td>\n",
              "      <td>None</td>\n",
              "      <td>False</td>\n",
              "      <td>False</td>\n",
              "      <td>False</td>\n",
              "      <td>False</td>\n",
              "      <td>None</td>\n",
              "      <td>R</td>\n",
              "      <td>2008-06-01T00:00:00+00:00</td>\n",
              "      <td>2010-06-03T00:00:00+00:00</td>\n",
              "      <td>2008-12-01T00:00:00+00:00</td>\n",
              "      <td>2008-12-06T00:00:00+00:00</td>\n",
              "      <td>153.0</td>\n",
              "      <td>None</td>\n",
              "      <td>Low</td>\n",
              "      <td>False</td>\n",
              "      <td>[]</td>\n",
              "      <td>[]</td>\n",
              "    </tr>\n",
              "    <tr>\n",
              "      <th>153</th>\n",
              "      <td>1248</td>\n",
              "      <td>Zone of the Enders: 2167 Idolo</td>\n",
              "      <td>https://myanimelist.net/anime/1248/Zone_of_the...</td>\n",
              "      <td>https://myanimelist.net/anime/1248/Zone_of_the...</td>\n",
              "      <td>https://cdn.myanimelist.net/images/anime/1236/...</td>\n",
              "      <td>OVA</td>\n",
              "      <td>2</td>\n",
              "      <td>8</td>\n",
              "      <td>1</td>\n",
              "      <td>1</td>\n",
              "      <td>2</td>\n",
              "      <td>None</td>\n",
              "      <td>None</td>\n",
              "      <td>False</td>\n",
              "      <td>False</td>\n",
              "      <td>False</td>\n",
              "      <td>False</td>\n",
              "      <td>None</td>\n",
              "      <td>PG-13</td>\n",
              "      <td>2002-09-02T00:00:00+00:00</td>\n",
              "      <td>2002-09-02T00:00:00+00:00</td>\n",
              "      <td>None</td>\n",
              "      <td>None</td>\n",
              "      <td>NaN</td>\n",
              "      <td>None</td>\n",
              "      <td>Low</td>\n",
              "      <td>False</td>\n",
              "      <td>[]</td>\n",
              "      <td>[]</td>\n",
              "    </tr>\n",
              "  </tbody>\n",
              "</table>\n",
              "<p>454 rows × 29 columns</p>\n",
              "</div>"
            ],
            "text/plain": [
              "     mal_id  ... licensors\n",
              "0     11759  ...        []\n",
              "1      1292  ...        []\n",
              "2       366  ...        []\n",
              "3      2163  ...        []\n",
              "4      4718  ...        []\n",
              "..      ...  ...       ...\n",
              "149    7745  ...        []\n",
              "150     763  ...        []\n",
              "151     764  ...        []\n",
              "152    3228  ...        []\n",
              "153    1248  ...        []\n",
              "\n",
              "[454 rows x 29 columns]"
            ]
          },
          "metadata": {
            "tags": []
          },
          "execution_count": 264
        }
      ]
    },
    {
      "cell_type": "code",
      "metadata": {
        "id": "p66rQZ6fMbWB",
        "colab_type": "code",
        "colab": {
          "base_uri": "https://localhost:8080/",
          "height": 283
        },
        "outputId": "1f583543-8772-42c6-d5c1-4f6a96d9b22f"
      },
      "source": [
        "jikan.user(username=user, request='animelist', argument='completed', page=3)[\"anime\"])"
      ],
      "execution_count": 260,
      "outputs": [
        {
          "output_type": "error",
          "ename": "ValueError",
          "evalue": "ignored",
          "traceback": [
            "\u001b[0;31m---------------------------------------------------------------------------\u001b[0m",
            "\u001b[0;31mValueError\u001b[0m                                Traceback (most recent call last)",
            "\u001b[0;32m<ipython-input-260-bd134b57314b>\u001b[0m in \u001b[0;36m<module>\u001b[0;34m()\u001b[0m\n\u001b[0;32m----> 1\u001b[0;31m \u001b[0mbool\u001b[0m\u001b[0;34m(\u001b[0m\u001b[0mpd\u001b[0m\u001b[0;34m.\u001b[0m\u001b[0mDataFrame\u001b[0m\u001b[0;34m(\u001b[0m\u001b[0mjikan\u001b[0m\u001b[0;34m.\u001b[0m\u001b[0muser\u001b[0m\u001b[0;34m(\u001b[0m\u001b[0musername\u001b[0m\u001b[0;34m=\u001b[0m\u001b[0muser\u001b[0m\u001b[0;34m,\u001b[0m \u001b[0mrequest\u001b[0m\u001b[0;34m=\u001b[0m\u001b[0;34m'animelist'\u001b[0m\u001b[0;34m,\u001b[0m \u001b[0margument\u001b[0m\u001b[0;34m=\u001b[0m\u001b[0;34m'completed'\u001b[0m\u001b[0;34m,\u001b[0m \u001b[0mpage\u001b[0m\u001b[0;34m=\u001b[0m\u001b[0;36m3\u001b[0m\u001b[0;34m)\u001b[0m\u001b[0;34m[\u001b[0m\u001b[0;34m\"anime\"\u001b[0m\u001b[0;34m]\u001b[0m\u001b[0;34m)\u001b[0m\u001b[0;34m)\u001b[0m\u001b[0;34m\u001b[0m\u001b[0;34m\u001b[0m\u001b[0m\n\u001b[0m",
            "\u001b[0;32m/usr/local/lib/python3.6/dist-packages/pandas/core/generic.py\u001b[0m in \u001b[0;36m__nonzero__\u001b[0;34m(self)\u001b[0m\n\u001b[1;32m   1553\u001b[0m             \u001b[0;34m\"The truth value of a {0} is ambiguous. \"\u001b[0m\u001b[0;34m\u001b[0m\u001b[0;34m\u001b[0m\u001b[0m\n\u001b[1;32m   1554\u001b[0m             \"Use a.empty, a.bool(), a.item(), a.any() or a.all().\".format(\n\u001b[0;32m-> 1555\u001b[0;31m                 \u001b[0mself\u001b[0m\u001b[0;34m.\u001b[0m\u001b[0m__class__\u001b[0m\u001b[0;34m.\u001b[0m\u001b[0m__name__\u001b[0m\u001b[0;34m\u001b[0m\u001b[0;34m\u001b[0m\u001b[0m\n\u001b[0m\u001b[1;32m   1556\u001b[0m             )\n\u001b[1;32m   1557\u001b[0m         )\n",
            "\u001b[0;31mValueError\u001b[0m: The truth value of a DataFrame is ambiguous. Use a.empty, a.bool(), a.item(), a.any() or a.all()."
          ]
        }
      ]
    },
    {
      "cell_type": "code",
      "metadata": {
        "id": "gAzp7t4OBcRk",
        "colab_type": "code",
        "colab": {
          "base_uri": "https://localhost:8080/",
          "height": 674
        },
        "outputId": "7e321f5d-3e73-47b1-eab0-b3ccfb7a3872"
      },
      "source": [
        "orionite_completed[orionite_completed[\"title\"].str.contains(\"Tengen\")]"
      ],
      "execution_count": 245,
      "outputs": [
        {
          "output_type": "execute_result",
          "data": {
            "text/html": [
              "<div>\n",
              "<style scoped>\n",
              "    .dataframe tbody tr th:only-of-type {\n",
              "        vertical-align: middle;\n",
              "    }\n",
              "\n",
              "    .dataframe tbody tr th {\n",
              "        vertical-align: top;\n",
              "    }\n",
              "\n",
              "    .dataframe thead th {\n",
              "        text-align: right;\n",
              "    }\n",
              "</style>\n",
              "<table border=\"1\" class=\"dataframe\">\n",
              "  <thead>\n",
              "    <tr style=\"text-align: right;\">\n",
              "      <th></th>\n",
              "      <th>mal_id</th>\n",
              "      <th>title</th>\n",
              "      <th>video_url</th>\n",
              "      <th>url</th>\n",
              "      <th>image_url</th>\n",
              "      <th>type</th>\n",
              "      <th>watching_status</th>\n",
              "      <th>score</th>\n",
              "      <th>watched_episodes</th>\n",
              "      <th>total_episodes</th>\n",
              "      <th>airing_status</th>\n",
              "      <th>season_name</th>\n",
              "      <th>season_year</th>\n",
              "      <th>has_episode_video</th>\n",
              "      <th>has_promo_video</th>\n",
              "      <th>has_video</th>\n",
              "      <th>is_rewatching</th>\n",
              "      <th>tags</th>\n",
              "      <th>rating</th>\n",
              "      <th>start_date</th>\n",
              "      <th>end_date</th>\n",
              "      <th>watch_start_date</th>\n",
              "      <th>watch_end_date</th>\n",
              "      <th>days</th>\n",
              "      <th>storage</th>\n",
              "      <th>priority</th>\n",
              "      <th>added_to_list</th>\n",
              "      <th>studios</th>\n",
              "      <th>licensors</th>\n",
              "    </tr>\n",
              "  </thead>\n",
              "  <tbody>\n",
              "    <tr>\n",
              "      <th>107</th>\n",
              "      <td>2001</td>\n",
              "      <td>Tengen Toppa Gurren Lagann</td>\n",
              "      <td>https://myanimelist.net/anime/2001/Tengen_Topp...</td>\n",
              "      <td>https://myanimelist.net/anime/2001/Tengen_Topp...</td>\n",
              "      <td>https://cdn.myanimelist.net/images/anime/4/512...</td>\n",
              "      <td>TV</td>\n",
              "      <td>2</td>\n",
              "      <td>10</td>\n",
              "      <td>27</td>\n",
              "      <td>27</td>\n",
              "      <td>2</td>\n",
              "      <td>None</td>\n",
              "      <td>None</td>\n",
              "      <td>False</td>\n",
              "      <td>True</td>\n",
              "      <td>True</td>\n",
              "      <td>False</td>\n",
              "      <td>None</td>\n",
              "      <td>PG-13</td>\n",
              "      <td>2007-01-04T00:00:00+00:00</td>\n",
              "      <td>2009-06-09T00:00:00+00:00</td>\n",
              "      <td>2009-01-06T00:00:00+00:00</td>\n",
              "      <td>2009-06-09T00:00:00+00:00</td>\n",
              "      <td>98.0</td>\n",
              "      <td>None</td>\n",
              "      <td>Low</td>\n",
              "      <td>False</td>\n",
              "      <td>[]</td>\n",
              "      <td>[]</td>\n",
              "    </tr>\n",
              "    <tr>\n",
              "      <th>108</th>\n",
              "      <td>4107</td>\n",
              "      <td>Tengen Toppa Gurren Lagann Movie 1: Gurren-hen</td>\n",
              "      <td>https://myanimelist.net/anime/4107/Tengen_Topp...</td>\n",
              "      <td>https://myanimelist.net/anime/4107/Tengen_Topp...</td>\n",
              "      <td>https://cdn.myanimelist.net/images/anime/10/11...</td>\n",
              "      <td>Movie</td>\n",
              "      <td>2</td>\n",
              "      <td>9</td>\n",
              "      <td>1</td>\n",
              "      <td>1</td>\n",
              "      <td>2</td>\n",
              "      <td>None</td>\n",
              "      <td>None</td>\n",
              "      <td>False</td>\n",
              "      <td>True</td>\n",
              "      <td>True</td>\n",
              "      <td>False</td>\n",
              "      <td>None</td>\n",
              "      <td>PG-13</td>\n",
              "      <td>2008-06-09T00:00:00+00:00</td>\n",
              "      <td>2008-06-09T00:00:00+00:00</td>\n",
              "      <td>2010-11-04T00:00:00+00:00</td>\n",
              "      <td>2010-11-04T00:00:00+00:00</td>\n",
              "      <td>1.0</td>\n",
              "      <td>None</td>\n",
              "      <td>Low</td>\n",
              "      <td>False</td>\n",
              "      <td>[]</td>\n",
              "      <td>[]</td>\n",
              "    </tr>\n",
              "    <tr>\n",
              "      <th>109</th>\n",
              "      <td>4565</td>\n",
              "      <td>Tengen Toppa Gurren Lagann Movie 2: Lagann-hen</td>\n",
              "      <td>https://myanimelist.net/anime/4565/Tengen_Topp...</td>\n",
              "      <td>https://myanimelist.net/anime/4565/Tengen_Topp...</td>\n",
              "      <td>https://cdn.myanimelist.net/images/anime/12/19...</td>\n",
              "      <td>Movie</td>\n",
              "      <td>2</td>\n",
              "      <td>10</td>\n",
              "      <td>1</td>\n",
              "      <td>1</td>\n",
              "      <td>2</td>\n",
              "      <td>None</td>\n",
              "      <td>None</td>\n",
              "      <td>False</td>\n",
              "      <td>False</td>\n",
              "      <td>False</td>\n",
              "      <td>False</td>\n",
              "      <td>None</td>\n",
              "      <td>R+</td>\n",
              "      <td>2010-10-04T00:00:00+00:00</td>\n",
              "      <td>2010-10-04T00:00:00+00:00</td>\n",
              "      <td>2012-06-01T00:00:00+00:00</td>\n",
              "      <td>2012-06-01T00:00:00+00:00</td>\n",
              "      <td>1.0</td>\n",
              "      <td>None</td>\n",
              "      <td>Low</td>\n",
              "      <td>False</td>\n",
              "      <td>[]</td>\n",
              "      <td>[]</td>\n",
              "    </tr>\n",
              "    <tr>\n",
              "      <th>110</th>\n",
              "      <td>5947</td>\n",
              "      <td>Tengen Toppa Gurren Lagann Movie Zenyasai: Vir...</td>\n",
              "      <td>https://myanimelist.net/anime/5947/Tengen_Topp...</td>\n",
              "      <td>https://myanimelist.net/anime/5947/Tengen_Topp...</td>\n",
              "      <td>https://cdn.myanimelist.net/images/anime/13/22...</td>\n",
              "      <td>OVA</td>\n",
              "      <td>2</td>\n",
              "      <td>8</td>\n",
              "      <td>1</td>\n",
              "      <td>1</td>\n",
              "      <td>2</td>\n",
              "      <td>None</td>\n",
              "      <td>None</td>\n",
              "      <td>False</td>\n",
              "      <td>False</td>\n",
              "      <td>False</td>\n",
              "      <td>False</td>\n",
              "      <td>None</td>\n",
              "      <td>PG-13</td>\n",
              "      <td>2008-12-01T00:00:00+00:00</td>\n",
              "      <td>2008-12-01T00:00:00+00:00</td>\n",
              "      <td>2010-09-01T00:00:00+00:00</td>\n",
              "      <td>2010-09-01T00:00:00+00:00</td>\n",
              "      <td>1.0</td>\n",
              "      <td>None</td>\n",
              "      <td>Low</td>\n",
              "      <td>False</td>\n",
              "      <td>[]</td>\n",
              "      <td>[]</td>\n",
              "    </tr>\n",
              "    <tr>\n",
              "      <th>111</th>\n",
              "      <td>6548</td>\n",
              "      <td>Tengen Toppa Gurren Lagann: Kirameki★Yoko Box ...</td>\n",
              "      <td>https://myanimelist.net/anime/6548/Tengen_Topp...</td>\n",
              "      <td>https://myanimelist.net/anime/6548/Tengen_Topp...</td>\n",
              "      <td>https://cdn.myanimelist.net/images/anime/9/249...</td>\n",
              "      <td>Music</td>\n",
              "      <td>2</td>\n",
              "      <td>8</td>\n",
              "      <td>1</td>\n",
              "      <td>1</td>\n",
              "      <td>2</td>\n",
              "      <td>None</td>\n",
              "      <td>None</td>\n",
              "      <td>False</td>\n",
              "      <td>False</td>\n",
              "      <td>False</td>\n",
              "      <td>False</td>\n",
              "      <td>None</td>\n",
              "      <td>PG-13</td>\n",
              "      <td>2011-03-05T00:00:00+00:00</td>\n",
              "      <td>2011-03-05T00:00:00+00:00</td>\n",
              "      <td>None</td>\n",
              "      <td>None</td>\n",
              "      <td>NaN</td>\n",
              "      <td>None</td>\n",
              "      <td>Low</td>\n",
              "      <td>False</td>\n",
              "      <td>[]</td>\n",
              "      <td>[]</td>\n",
              "    </tr>\n",
              "    <tr>\n",
              "      <th>112</th>\n",
              "      <td>3352</td>\n",
              "      <td>Tengen Toppa Gurren Lagann: Mitee Mono wa Mite...</td>\n",
              "      <td>https://myanimelist.net/anime/3352/Tengen_Topp...</td>\n",
              "      <td>https://myanimelist.net/anime/3352/Tengen_Topp...</td>\n",
              "      <td>https://cdn.myanimelist.net/images/anime/9/196...</td>\n",
              "      <td>Special</td>\n",
              "      <td>2</td>\n",
              "      <td>8</td>\n",
              "      <td>0</td>\n",
              "      <td>1</td>\n",
              "      <td>2</td>\n",
              "      <td>None</td>\n",
              "      <td>None</td>\n",
              "      <td>False</td>\n",
              "      <td>False</td>\n",
              "      <td>False</td>\n",
              "      <td>False</td>\n",
              "      <td>None</td>\n",
              "      <td>PG-13</td>\n",
              "      <td>2010-02-02T00:00:00+00:00</td>\n",
              "      <td>2010-02-02T00:00:00+00:00</td>\n",
              "      <td>2007-04-12T00:00:00+00:00</td>\n",
              "      <td>2007-04-12T00:00:00+00:00</td>\n",
              "      <td>1.0</td>\n",
              "      <td>None</td>\n",
              "      <td>Low</td>\n",
              "      <td>False</td>\n",
              "      <td>[]</td>\n",
              "      <td>[]</td>\n",
              "    </tr>\n",
              "    <tr>\n",
              "      <th>113</th>\n",
              "      <td>4705</td>\n",
              "      <td>Tengen Toppa Gurren Lagann: Parallel Works</td>\n",
              "      <td>https://myanimelist.net/anime/4705/Tengen_Topp...</td>\n",
              "      <td>https://myanimelist.net/anime/4705/Tengen_Topp...</td>\n",
              "      <td>https://cdn.myanimelist.net/images/anime/5/109...</td>\n",
              "      <td>Music</td>\n",
              "      <td>2</td>\n",
              "      <td>9</td>\n",
              "      <td>8</td>\n",
              "      <td>8</td>\n",
              "      <td>2</td>\n",
              "      <td>None</td>\n",
              "      <td>None</td>\n",
              "      <td>False</td>\n",
              "      <td>False</td>\n",
              "      <td>False</td>\n",
              "      <td>False</td>\n",
              "      <td>None</td>\n",
              "      <td>PG-13</td>\n",
              "      <td>2009-03-06T00:00:00+00:00</td>\n",
              "      <td>2009-02-09T00:00:00+00:00</td>\n",
              "      <td>2009-03-06T00:00:00+00:00</td>\n",
              "      <td>2009-02-09T00:00:00+00:00</td>\n",
              "      <td>92.0</td>\n",
              "      <td>None</td>\n",
              "      <td>Low</td>\n",
              "      <td>False</td>\n",
              "      <td>[]</td>\n",
              "      <td>[]</td>\n",
              "    </tr>\n",
              "    <tr>\n",
              "      <th>114</th>\n",
              "      <td>8348</td>\n",
              "      <td>Tengen Toppa Gurren Lagann: Parallel Works 2</td>\n",
              "      <td>https://myanimelist.net/anime/8348/Tengen_Topp...</td>\n",
              "      <td>https://myanimelist.net/anime/8348/Tengen_Topp...</td>\n",
              "      <td>https://cdn.myanimelist.net/images/anime/13/23...</td>\n",
              "      <td>Music</td>\n",
              "      <td>2</td>\n",
              "      <td>8</td>\n",
              "      <td>7</td>\n",
              "      <td>7</td>\n",
              "      <td>2</td>\n",
              "      <td>None</td>\n",
              "      <td>None</td>\n",
              "      <td>False</td>\n",
              "      <td>False</td>\n",
              "      <td>False</td>\n",
              "      <td>False</td>\n",
              "      <td>None</td>\n",
              "      <td>PG-13</td>\n",
              "      <td>2012-02-05T00:00:00+00:00</td>\n",
              "      <td>2012-02-05T00:00:00+00:00</td>\n",
              "      <td>2010-04-06T00:00:00+00:00</td>\n",
              "      <td>2010-04-06T00:00:00+00:00</td>\n",
              "      <td>1.0</td>\n",
              "      <td>None</td>\n",
              "      <td>Low</td>\n",
              "      <td>False</td>\n",
              "      <td>[]</td>\n",
              "      <td>[]</td>\n",
              "    </tr>\n",
              "  </tbody>\n",
              "</table>\n",
              "</div>"
            ],
            "text/plain": [
              "     mal_id  ... licensors\n",
              "107    2001  ...        []\n",
              "108    4107  ...        []\n",
              "109    4565  ...        []\n",
              "110    5947  ...        []\n",
              "111    6548  ...        []\n",
              "112    3352  ...        []\n",
              "113    4705  ...        []\n",
              "114    8348  ...        []\n",
              "\n",
              "[8 rows x 29 columns]"
            ]
          },
          "metadata": {
            "tags": []
          },
          "execution_count": 245
        }
      ]
    },
    {
      "cell_type": "code",
      "metadata": {
        "id": "AO9apR22-QEQ",
        "colab_type": "code",
        "colab": {
          "base_uri": "https://localhost:8080/",
          "height": 34
        },
        "outputId": "4674a4d7-636a-479e-d549-71884b704330"
      },
      "source": [
        "orionite_completed_lst = list(orionite_completed[\"mal_id\"])\n",
        "\n",
        "2001 in orionite_completed_lst"
      ],
      "execution_count": 250,
      "outputs": [
        {
          "output_type": "execute_result",
          "data": {
            "text/plain": [
              "True"
            ]
          },
          "metadata": {
            "tags": []
          },
          "execution_count": 250
        }
      ]
    },
    {
      "cell_type": "code",
      "metadata": {
        "id": "MyPmZstZKJhx",
        "colab_type": "code",
        "outputId": "c2d20dfb-5727-4ccd-d1f6-45067887a559",
        "colab": {
          "base_uri": "https://localhost:8080/",
          "height": 359
        }
      },
      "source": [
        "user = get_uid(\"orionite\")\n",
        "\n",
        "user_orionite = anime.reset_index()[[\"anime_id\"]]\n",
        "\n",
        "user_orionite[\"est\"] = user_orionite[\"anime_id\"].apply(lambda item: algo.predict(user, item)[3] if item not in orionite_completed_lst else 0)\n",
        "\n",
        "user_orionite.sort_values(\"est\", ascending=False).head(10)[\"anime_id\"].apply(lambda x: anime.loc[x])"
      ],
      "execution_count": 251,
      "outputs": [
        {
          "output_type": "execute_result",
          "data": {
            "text/html": [
              "<div>\n",
              "<style scoped>\n",
              "    .dataframe tbody tr th:only-of-type {\n",
              "        vertical-align: middle;\n",
              "    }\n",
              "\n",
              "    .dataframe tbody tr th {\n",
              "        vertical-align: top;\n",
              "    }\n",
              "\n",
              "    .dataframe thead th {\n",
              "        text-align: right;\n",
              "    }\n",
              "</style>\n",
              "<table border=\"1\" class=\"dataframe\">\n",
              "  <thead>\n",
              "    <tr style=\"text-align: right;\">\n",
              "      <th></th>\n",
              "      <th>title</th>\n",
              "      <th>image_url</th>\n",
              "    </tr>\n",
              "  </thead>\n",
              "  <tbody>\n",
              "    <tr>\n",
              "      <th>7483</th>\n",
              "      <td>Redline</td>\n",
              "      <td>https://myanimelist.cdn-dena.com/images/anime/...</td>\n",
              "    </tr>\n",
              "    <tr>\n",
              "      <th>4687</th>\n",
              "      <td>Detroit Metal City</td>\n",
              "      <td>https://myanimelist.cdn-dena.com/images/anime/...</td>\n",
              "    </tr>\n",
              "    <tr>\n",
              "      <th>3677</th>\n",
              "      <td>Prison School</td>\n",
              "      <td>https://myanimelist.cdn-dena.com/images/anime/...</td>\n",
              "    </tr>\n",
              "    <tr>\n",
              "      <th>10598</th>\n",
              "      <td>Daicon Opening Animations</td>\n",
              "      <td>https://myanimelist.cdn-dena.com/images/anime/...</td>\n",
              "    </tr>\n",
              "    <tr>\n",
              "      <th>10810</th>\n",
              "      <td>JoJo no Kimyou na Bouken (TV)</td>\n",
              "      <td>https://myanimelist.cdn-dena.com/images/anime/...</td>\n",
              "    </tr>\n",
              "    <tr>\n",
              "      <th>13232</th>\n",
              "      <td>Nihon Animator Mihonichi</td>\n",
              "      <td>https://myanimelist.cdn-dena.com/images/anime/...</td>\n",
              "    </tr>\n",
              "    <tr>\n",
              "      <th>9889</th>\n",
              "      <td>Great Teacher Onizuka</td>\n",
              "      <td>https://myanimelist.cdn-dena.com/images/anime/...</td>\n",
              "    </tr>\n",
              "    <tr>\n",
              "      <th>6687</th>\n",
              "      <td>Mahou Shoujo Lyrical Nanoha: The Movie 2nd A&amp;#...</td>\n",
              "      <td>https://myanimelist.cdn-dena.com/images/anime/...</td>\n",
              "    </tr>\n",
              "    <tr>\n",
              "      <th>5005</th>\n",
              "      <td>Hellsing Ultimate</td>\n",
              "      <td>https://myanimelist.cdn-dena.com/images/anime/...</td>\n",
              "    </tr>\n",
              "    <tr>\n",
              "      <th>9880</th>\n",
              "      <td>Uchuu Senkan Yamato 2199</td>\n",
              "      <td>https://myanimelist.cdn-dena.com/images/anime/...</td>\n",
              "    </tr>\n",
              "  </tbody>\n",
              "</table>\n",
              "</div>"
            ],
            "text/plain": [
              "                                                   title                                          image_url\n",
              "7483                                             Redline  https://myanimelist.cdn-dena.com/images/anime/...\n",
              "4687                                  Detroit Metal City  https://myanimelist.cdn-dena.com/images/anime/...\n",
              "3677                                       Prison School  https://myanimelist.cdn-dena.com/images/anime/...\n",
              "10598                          Daicon Opening Animations  https://myanimelist.cdn-dena.com/images/anime/...\n",
              "10810                      JoJo no Kimyou na Bouken (TV)  https://myanimelist.cdn-dena.com/images/anime/...\n",
              "13232                           Nihon Animator Mihonichi  https://myanimelist.cdn-dena.com/images/anime/...\n",
              "9889                               Great Teacher Onizuka  https://myanimelist.cdn-dena.com/images/anime/...\n",
              "6687   Mahou Shoujo Lyrical Nanoha: The Movie 2nd A&#...  https://myanimelist.cdn-dena.com/images/anime/...\n",
              "5005                                   Hellsing Ultimate  https://myanimelist.cdn-dena.com/images/anime/...\n",
              "9880                            Uchuu Senkan Yamato 2199  https://myanimelist.cdn-dena.com/images/anime/..."
            ]
          },
          "metadata": {
            "tags": []
          },
          "execution_count": 251
        }
      ]
    },
    {
      "cell_type": "code",
      "metadata": {
        "id": "7gtyhHsD_GIN",
        "colab_type": "code",
        "colab": {
          "base_uri": "https://localhost:8080/",
          "height": 419
        },
        "outputId": "1bf37ed7-6b58-4fec-a63b-a58d574fef5b"
      },
      "source": [
        "user_orionite"
      ],
      "execution_count": 178,
      "outputs": [
        {
          "output_type": "execute_result",
          "data": {
            "text/html": [
              "<div>\n",
              "<style scoped>\n",
              "    .dataframe tbody tr th:only-of-type {\n",
              "        vertical-align: middle;\n",
              "    }\n",
              "\n",
              "    .dataframe tbody tr th {\n",
              "        vertical-align: top;\n",
              "    }\n",
              "\n",
              "    .dataframe thead th {\n",
              "        text-align: right;\n",
              "    }\n",
              "</style>\n",
              "<table border=\"1\" class=\"dataframe\">\n",
              "  <thead>\n",
              "    <tr style=\"text-align: right;\">\n",
              "      <th></th>\n",
              "      <th>anime_id</th>\n",
              "      <th>est</th>\n",
              "    </tr>\n",
              "  </thead>\n",
              "  <tbody>\n",
              "    <tr>\n",
              "      <th>0</th>\n",
              "      <td>11013</td>\n",
              "      <td>7.910471</td>\n",
              "    </tr>\n",
              "    <tr>\n",
              "      <th>1</th>\n",
              "      <td>2104</td>\n",
              "      <td>9.330880</td>\n",
              "    </tr>\n",
              "    <tr>\n",
              "      <th>2</th>\n",
              "      <td>5262</td>\n",
              "      <td>7.880556</td>\n",
              "    </tr>\n",
              "    <tr>\n",
              "      <th>3</th>\n",
              "      <td>721</td>\n",
              "      <td>7.892112</td>\n",
              "    </tr>\n",
              "    <tr>\n",
              "      <th>4</th>\n",
              "      <td>12365</td>\n",
              "      <td>8.488308</td>\n",
              "    </tr>\n",
              "    <tr>\n",
              "      <th>...</th>\n",
              "      <td>...</td>\n",
              "      <td>...</td>\n",
              "    </tr>\n",
              "    <tr>\n",
              "      <th>14473</th>\n",
              "      <td>26089</td>\n",
              "      <td>7.376596</td>\n",
              "    </tr>\n",
              "    <tr>\n",
              "      <th>14474</th>\n",
              "      <td>21525</td>\n",
              "      <td>7.705882</td>\n",
              "    </tr>\n",
              "    <tr>\n",
              "      <th>14475</th>\n",
              "      <td>37897</td>\n",
              "      <td>7.706382</td>\n",
              "    </tr>\n",
              "    <tr>\n",
              "      <th>14476</th>\n",
              "      <td>34193</td>\n",
              "      <td>7.706382</td>\n",
              "    </tr>\n",
              "    <tr>\n",
              "      <th>14477</th>\n",
              "      <td>37908</td>\n",
              "      <td>7.032458</td>\n",
              "    </tr>\n",
              "  </tbody>\n",
              "</table>\n",
              "<p>14478 rows × 2 columns</p>\n",
              "</div>"
            ],
            "text/plain": [
              "       anime_id       est\n",
              "0         11013  7.910471\n",
              "1          2104  9.330880\n",
              "2          5262  7.880556\n",
              "3           721  7.892112\n",
              "4         12365  8.488308\n",
              "...         ...       ...\n",
              "14473     26089  7.376596\n",
              "14474     21525  7.705882\n",
              "14475     37897  7.706382\n",
              "14476     34193  7.706382\n",
              "14477     37908  7.032458\n",
              "\n",
              "[14478 rows x 2 columns]"
            ]
          },
          "metadata": {
            "tags": []
          },
          "execution_count": 178
        }
      ]
    },
    {
      "cell_type": "code",
      "metadata": {
        "id": "j1-jkiKU5jNr",
        "colab_type": "code",
        "colab": {}
      },
      "source": [
        ""
      ],
      "execution_count": 0,
      "outputs": []
    },
    {
      "cell_type": "code",
      "metadata": {
        "id": "hFs5mfEOp28f",
        "colab_type": "code",
        "colab": {
          "base_uri": "https://localhost:8080/",
          "height": 34
        },
        "outputId": "cc8176e4-ef07-454d-e7f9-d68ba265d10e"
      },
      "source": [
        "# user factors (n_users, n_factors)\n",
        "algo.pu.shape"
      ],
      "execution_count": 254,
      "outputs": [
        {
          "output_type": "execute_result",
          "data": {
            "text/plain": [
              "(271620, 100)"
            ]
          },
          "metadata": {
            "tags": []
          },
          "execution_count": 254
        }
      ]
    },
    {
      "cell_type": "code",
      "metadata": {
        "id": "KqfcXQz3quvh",
        "colab_type": "code",
        "colab": {
          "base_uri": "https://localhost:8080/",
          "height": 34
        },
        "outputId": "d3c8b372-b8c9-4fbf-c662-3b585ad535f5"
      },
      "source": [
        "# item factors (n_items, n_factors)\n",
        "algo.qi.shape"
      ],
      "execution_count": 253,
      "outputs": [
        {
          "output_type": "execute_result",
          "data": {
            "text/plain": [
              "(14054, 100)"
            ]
          },
          "metadata": {
            "tags": []
          },
          "execution_count": 253
        }
      ]
    },
    {
      "cell_type": "code",
      "metadata": {
        "id": "PpF0UOoaqxzY",
        "colab_type": "code",
        "colab": {
          "base_uri": "https://localhost:8080/",
          "height": 34
        },
        "outputId": "fc377340-d34e-4ce1-c231-04e5a4e6cb1c"
      },
      "source": [
        "# user biases (n_users)\n",
        "algo.bu[0]"
      ],
      "execution_count": 226,
      "outputs": [
        {
          "output_type": "execute_result",
          "data": {
            "text/plain": [
              "0.25164323312979164"
            ]
          },
          "metadata": {
            "tags": []
          },
          "execution_count": 226
        }
      ]
    },
    {
      "cell_type": "code",
      "metadata": {
        "id": "IksTrUbuqz1i",
        "colab_type": "code",
        "colab": {
          "base_uri": "https://localhost:8080/",
          "height": 34
        },
        "outputId": "7f382292-89e9-4ced-be8f-d4ecceacf685"
      },
      "source": [
        "# item biases (n_items)\n",
        "algo.bi[0]"
      ],
      "execution_count": 227,
      "outputs": [
        {
          "output_type": "execute_result",
          "data": {
            "text/plain": [
              "-0.056219577209310805"
            ]
          },
          "metadata": {
            "tags": []
          },
          "execution_count": 227
        }
      ]
    },
    {
      "cell_type": "code",
      "metadata": {
        "id": "1qYaBE9Eq1dr",
        "colab_type": "code",
        "colab": {
          "base_uri": "https://localhost:8080/",
          "height": 34
        },
        "outputId": "6fd8c970-549c-4ca6-e780-22a59bfd2f13"
      },
      "source": [
        ""
      ],
      "execution_count": 49,
      "outputs": [
        {
          "output_type": "execute_result",
          "data": {
            "text/plain": [
              "{}"
            ]
          },
          "metadata": {
            "tags": []
          },
          "execution_count": 49
        }
      ]
    },
    {
      "cell_type": "code",
      "metadata": {
        "id": "0ZmVxJD3sWay",
        "colab_type": "code",
        "colab": {}
      },
      "source": [
        ""
      ],
      "execution_count": 0,
      "outputs": []
    }
  ]
}