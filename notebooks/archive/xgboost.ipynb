{
  "nbformat": 4,
  "nbformat_minor": 0,
  "metadata": {
    "colab": {
      "name": "train_test_on_one_percent.ipynb",
      "provenance": [],
      "authorship_tag": "ABX9TyPRmEoqt36Ulr/wjuDNL56d",
      "include_colab_link": true
    },
    "kernelspec": {
      "name": "python3",
      "display_name": "Python 3"
    },
    "accelerator": "GPU"
  },
  "cells": [
    {
      "cell_type": "markdown",
      "metadata": {
        "id": "view-in-github",
        "colab_type": "text"
      },
      "source": [
        "<a href=\"https://colab.research.google.com/github/robert-myers/myanimelist-recommender/blob/master/notebooks/train_test_on_one_percent.ipynb\" target=\"_parent\"><img src=\"https://colab.research.google.com/assets/colab-badge.svg\" alt=\"Open In Colab\"/></a>"
      ]
    },
    {
      "cell_type": "markdown",
      "metadata": {
        "id": "uT6SgjgV1InL",
        "colab_type": "text"
      },
      "source": [
        "#best xgboost params"
      ]
    },
    {
      "cell_type": "code",
      "metadata": {
        "id": "4WH9Eu1J1P6S",
        "colab_type": "code",
        "colab": {}
      },
      "source": [
        "best_params = {\"alpha\": 0.40379566547229884,\n",
        "\"colsample_bytree\": 0.9539160917911258,\n",
        "\"eta\": 0.052012547908659106,\n",
        "\"gamma\": 12.109829149324758,\n",
        "\"lambda\": 0.10704854087554391,\n",
        "\"max_depth\": 5,\n",
        "\"min_child_weight\": 0.00018086556790916262,\n",
        "\"num_round\": 367,\n",
        "\"objective\": \"reg:squarederror\",\n",
        "\"subsample\": 0.8192576343816153}"
      ],
      "execution_count": 0,
      "outputs": []
    },
    {
      "cell_type": "code",
      "metadata": {
        "id": "fE4UDRPV1KeA",
        "colab_type": "code",
        "colab": {}
      },
      "source": [
        "import pandas as pd\n",
        "import xgboost as xgb"
      ],
      "execution_count": 0,
      "outputs": []
    },
    {
      "cell_type": "code",
      "metadata": {
        "id": "dt-QlWUq1Oid",
        "colab_type": "code",
        "colab": {}
      },
      "source": [
        "model = xgb.XGBRegressor(**best_params)"
      ],
      "execution_count": 0,
      "outputs": []
    },
    {
      "cell_type": "code",
      "metadata": {
        "id": "qAsozCIO105D",
        "colab_type": "code",
        "colab": {}
      },
      "source": [
        ""
      ],
      "execution_count": 0,
      "outputs": []
    }
  ]
}